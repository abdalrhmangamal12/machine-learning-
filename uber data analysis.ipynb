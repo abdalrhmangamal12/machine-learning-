{
 "cells": [
  {
   "cell_type": "code",
   "execution_count": 366,
   "id": "e66b9f52",
   "metadata": {},
   "outputs": [],
   "source": [
    "import pandas as pd\n",
    "import numpy as np\n",
    "import seaborn as sns\n",
    "import matplotlib.pyplot as plt"
   ]
  },
  {
   "cell_type": "code",
   "execution_count": 190,
   "id": "a2e291fc",
   "metadata": {},
   "outputs": [],
   "source": [
    "data=pd.read_csv('Uber Request Data.csv')\n",
    "df=data.copy()"
   ]
  },
  {
   "cell_type": "code",
   "execution_count": 191,
   "id": "c2ede886",
   "metadata": {},
   "outputs": [
    {
     "data": {
      "text/plain": [
       "(6745, 6)"
      ]
     },
     "execution_count": 191,
     "metadata": {},
     "output_type": "execute_result"
    }
   ],
   "source": [
    "df.shape\n",
    "# number of trips is 6745"
   ]
  },
  {
   "cell_type": "code",
   "execution_count": 192,
   "id": "a0679afa",
   "metadata": {},
   "outputs": [
    {
     "data": {
      "text/html": [
       "<div>\n",
       "<style scoped>\n",
       "    .dataframe tbody tr th:only-of-type {\n",
       "        vertical-align: middle;\n",
       "    }\n",
       "\n",
       "    .dataframe tbody tr th {\n",
       "        vertical-align: top;\n",
       "    }\n",
       "\n",
       "    .dataframe thead th {\n",
       "        text-align: right;\n",
       "    }\n",
       "</style>\n",
       "<table border=\"1\" class=\"dataframe\">\n",
       "  <thead>\n",
       "    <tr style=\"text-align: right;\">\n",
       "      <th></th>\n",
       "      <th>Request id</th>\n",
       "      <th>Pickup point</th>\n",
       "      <th>Driver id</th>\n",
       "      <th>Status</th>\n",
       "      <th>Request timestamp</th>\n",
       "      <th>Drop timestamp</th>\n",
       "    </tr>\n",
       "  </thead>\n",
       "  <tbody>\n",
       "    <tr>\n",
       "      <th>0</th>\n",
       "      <td>619</td>\n",
       "      <td>Airport</td>\n",
       "      <td>1.0</td>\n",
       "      <td>Trip Completed</td>\n",
       "      <td>11/7/2016 11:51</td>\n",
       "      <td>11/7/2016 13:00</td>\n",
       "    </tr>\n",
       "    <tr>\n",
       "      <th>1</th>\n",
       "      <td>867</td>\n",
       "      <td>Airport</td>\n",
       "      <td>1.0</td>\n",
       "      <td>Trip Completed</td>\n",
       "      <td>11/7/2016 17:57</td>\n",
       "      <td>11/7/2016 18:47</td>\n",
       "    </tr>\n",
       "    <tr>\n",
       "      <th>2</th>\n",
       "      <td>1807</td>\n",
       "      <td>City</td>\n",
       "      <td>1.0</td>\n",
       "      <td>Trip Completed</td>\n",
       "      <td>12/7/2016 9:17</td>\n",
       "      <td>12/7/2016 9:58</td>\n",
       "    </tr>\n",
       "    <tr>\n",
       "      <th>3</th>\n",
       "      <td>2532</td>\n",
       "      <td>Airport</td>\n",
       "      <td>1.0</td>\n",
       "      <td>Trip Completed</td>\n",
       "      <td>12/7/2016 21:08</td>\n",
       "      <td>12/7/2016 22:03</td>\n",
       "    </tr>\n",
       "    <tr>\n",
       "      <th>4</th>\n",
       "      <td>3112</td>\n",
       "      <td>City</td>\n",
       "      <td>1.0</td>\n",
       "      <td>Trip Completed</td>\n",
       "      <td>13-07-2016 08:33:16</td>\n",
       "      <td>13-07-2016 09:25:47</td>\n",
       "    </tr>\n",
       "  </tbody>\n",
       "</table>\n",
       "</div>"
      ],
      "text/plain": [
       "   Request id Pickup point  Driver id          Status    Request timestamp  \\\n",
       "0         619      Airport        1.0  Trip Completed      11/7/2016 11:51   \n",
       "1         867      Airport        1.0  Trip Completed      11/7/2016 17:57   \n",
       "2        1807         City        1.0  Trip Completed       12/7/2016 9:17   \n",
       "3        2532      Airport        1.0  Trip Completed      12/7/2016 21:08   \n",
       "4        3112         City        1.0  Trip Completed  13-07-2016 08:33:16   \n",
       "\n",
       "        Drop timestamp  \n",
       "0      11/7/2016 13:00  \n",
       "1      11/7/2016 18:47  \n",
       "2       12/7/2016 9:58  \n",
       "3      12/7/2016 22:03  \n",
       "4  13-07-2016 09:25:47  "
      ]
     },
     "execution_count": 192,
     "metadata": {},
     "output_type": "execute_result"
    }
   ],
   "source": [
    "data.head()"
   ]
  },
  {
   "cell_type": "code",
   "execution_count": 193,
   "id": "8e10db04",
   "metadata": {},
   "outputs": [
    {
     "data": {
      "text/plain": [
       "Request id             int64\n",
       "Pickup point          object\n",
       "Driver id            float64\n",
       "Status                object\n",
       "Request timestamp     object\n",
       "Drop timestamp        object\n",
       "dtype: object"
      ]
     },
     "execution_count": 193,
     "metadata": {},
     "output_type": "execute_result"
    }
   ],
   "source": [
    "df.dtypes"
   ]
  },
  {
   "cell_type": "code",
   "execution_count": 194,
   "id": "0e086b68",
   "metadata": {},
   "outputs": [
    {
     "name": "stdout",
     "output_type": "stream",
     "text": [
      "<class 'pandas.core.frame.DataFrame'>\n",
      "RangeIndex: 6745 entries, 0 to 6744\n",
      "Data columns (total 6 columns):\n",
      " #   Column             Non-Null Count  Dtype  \n",
      "---  ------             --------------  -----  \n",
      " 0   Request id         6745 non-null   int64  \n",
      " 1   Pickup point       6745 non-null   object \n",
      " 2   Driver id          4095 non-null   float64\n",
      " 3   Status             6745 non-null   object \n",
      " 4   Request timestamp  6745 non-null   object \n",
      " 5   Drop timestamp     2831 non-null   object \n",
      "dtypes: float64(1), int64(1), object(4)\n",
      "memory usage: 316.3+ KB\n"
     ]
    }
   ],
   "source": [
    "df.info()"
   ]
  },
  {
   "cell_type": "code",
   "execution_count": 195,
   "id": "cc1e1367",
   "metadata": {},
   "outputs": [],
   "source": [
    "\n",
    "df['Driver id']=df['Driver id'].fillna(0)\n",
    "# replace na value with zero in request id"
   ]
  },
  {
   "cell_type": "code",
   "execution_count": 196,
   "id": "1d6adf9a",
   "metadata": {},
   "outputs": [],
   "source": [
    "df['Driver id']=df['Driver id'].astype('object')\n",
    "# changew type of driver id to str"
   ]
  },
  {
   "cell_type": "code",
   "execution_count": 197,
   "id": "d0749fb9",
   "metadata": {},
   "outputs": [
    {
     "data": {
      "text/plain": [
       "Request id              0\n",
       "Pickup point            0\n",
       "Driver id               0\n",
       "Status                  0\n",
       "Request timestamp       0\n",
       "Drop timestamp       3914\n",
       "dtype: int64"
      ]
     },
     "execution_count": 197,
     "metadata": {},
     "output_type": "execute_result"
    }
   ],
   "source": [
    "df.isna().sum()\n"
   ]
  },
  {
   "cell_type": "markdown",
   "id": "4c558b00",
   "metadata": {},
   "source": [
    "## na values in driver id is 2650"
   ]
  },
  {
   "cell_type": "markdown",
   "id": "18982d9c",
   "metadata": {},
   "source": [
    "# know trip status of request"
   ]
  },
  {
   "cell_type": "code",
   "execution_count": 198,
   "id": "e8d9dc3e",
   "metadata": {},
   "outputs": [
    {
     "data": {
      "text/html": [
       "<div>\n",
       "<style scoped>\n",
       "    .dataframe tbody tr th:only-of-type {\n",
       "        vertical-align: middle;\n",
       "    }\n",
       "\n",
       "    .dataframe tbody tr th {\n",
       "        vertical-align: top;\n",
       "    }\n",
       "\n",
       "    .dataframe thead th {\n",
       "        text-align: right;\n",
       "    }\n",
       "</style>\n",
       "<table border=\"1\" class=\"dataframe\">\n",
       "  <thead>\n",
       "    <tr style=\"text-align: right;\">\n",
       "      <th></th>\n",
       "      <th>Request id</th>\n",
       "    </tr>\n",
       "    <tr>\n",
       "      <th>Status</th>\n",
       "      <th></th>\n",
       "    </tr>\n",
       "  </thead>\n",
       "  <tbody>\n",
       "    <tr>\n",
       "      <th>Cancelled</th>\n",
       "      <td>1264</td>\n",
       "    </tr>\n",
       "    <tr>\n",
       "      <th>No Cars Available</th>\n",
       "      <td>2650</td>\n",
       "    </tr>\n",
       "    <tr>\n",
       "      <th>Trip Completed</th>\n",
       "      <td>2831</td>\n",
       "    </tr>\n",
       "  </tbody>\n",
       "</table>\n",
       "</div>"
      ],
      "text/plain": [
       "                   Request id\n",
       "Status                       \n",
       "Cancelled                1264\n",
       "No Cars Available        2650\n",
       "Trip Completed           2831"
      ]
     },
     "execution_count": 198,
     "metadata": {},
     "output_type": "execute_result"
    }
   ],
   "source": [
    "requeststate=df[['Request id','Status']].groupby(\"Status\").count()\n",
    "requeststate\n"
   ]
  },
  {
   "cell_type": "markdown",
   "id": "837580c5",
   "metadata": {},
   "source": [
    "## as show above numbers of na values in drivers id is equal to no cars avialable"
   ]
  },
  {
   "cell_type": "markdown",
   "id": "b009b2ea",
   "metadata": {},
   "source": [
    "# Plot a pie chart to show  pick piont precentage"
   ]
  },
  {
   "cell_type": "code",
   "execution_count": 199,
   "id": "944c0182",
   "metadata": {},
   "outputs": [
    {
     "data": {
      "image/png": "[encoded data removed]",
      "text/plain": [
       "<Figure size 432x288 with 1 Axes>"
      ]
     },
     "metadata": {},
     "output_type": "display_data"
    }
   ],
   "source": [
    "df[\"Pickup point\"].value_counts().plot.pie(autopct='%1.0f%%')\n",
    "plt.show()"
   ]
  },
  {
   "cell_type": "markdown",
   "id": "d75f1073",
   "metadata": {},
   "source": [
    "# Plot a pie chart to show the number of trips of each type"
   ]
  },
  {
   "cell_type": "code",
   "execution_count": 200,
   "id": "36cd0c70",
   "metadata": {},
   "outputs": [
    {
     "data": {
      "image/png": "[encoded data removed]",
      "text/plain": [
       "<Figure size 432x288 with 1 Axes>"
      ]
     },
     "metadata": {},
     "output_type": "display_data"
    }
   ],
   "source": [
    "x = np.array([1264, 2650, 2831])\n",
    "\n",
    "plt.pie(x, labels = [\"Cancelled\", \"No Cars Available\", \"Trip Completed\"] , autopct = '%2.2f%%')\n",
    "plt.show()"
   ]
  },
  {
   "cell_type": "markdown",
   "id": "ddc8bd78",
   "metadata": {},
   "source": [
    "### as show above number of trip cancelled due to no car avialable is 39% so this is big percentage "
   ]
  },
  {
   "cell_type": "markdown",
   "id": "c4ab7a13",
   "metadata": {},
   "source": [
    "# determine days and hour request"
   ]
  },
  {
   "cell_type": "code",
   "execution_count": 202,
   "id": "2c9705cc",
   "metadata": {},
   "outputs": [
    {
     "data": {
      "text/html": [
       "<div>\n",
       "<style scoped>\n",
       "    .dataframe tbody tr th:only-of-type {\n",
       "        vertical-align: middle;\n",
       "    }\n",
       "\n",
       "    .dataframe tbody tr th {\n",
       "        vertical-align: top;\n",
       "    }\n",
       "\n",
       "    .dataframe thead th {\n",
       "        text-align: right;\n",
       "    }\n",
       "</style>\n",
       "<table border=\"1\" class=\"dataframe\">\n",
       "  <thead>\n",
       "    <tr style=\"text-align: right;\">\n",
       "      <th></th>\n",
       "      <th>Request id</th>\n",
       "      <th>Pickup point</th>\n",
       "      <th>Driver id</th>\n",
       "      <th>Status</th>\n",
       "      <th>Request timestamp</th>\n",
       "      <th>Drop timestamp</th>\n",
       "      <th>request hour</th>\n",
       "      <th>day</th>\n",
       "    </tr>\n",
       "  </thead>\n",
       "  <tbody>\n",
       "    <tr>\n",
       "      <th>0</th>\n",
       "      <td>619</td>\n",
       "      <td>Airport</td>\n",
       "      <td>1.0</td>\n",
       "      <td>Trip Completed</td>\n",
       "      <td>2016-11-07 11:51:00</td>\n",
       "      <td>11/7/2016 13:00</td>\n",
       "      <td>11</td>\n",
       "      <td>Monday</td>\n",
       "    </tr>\n",
       "    <tr>\n",
       "      <th>1</th>\n",
       "      <td>867</td>\n",
       "      <td>Airport</td>\n",
       "      <td>1.0</td>\n",
       "      <td>Trip Completed</td>\n",
       "      <td>2016-11-07 17:57:00</td>\n",
       "      <td>11/7/2016 18:47</td>\n",
       "      <td>17</td>\n",
       "      <td>Monday</td>\n",
       "    </tr>\n",
       "    <tr>\n",
       "      <th>2</th>\n",
       "      <td>1807</td>\n",
       "      <td>City</td>\n",
       "      <td>1.0</td>\n",
       "      <td>Trip Completed</td>\n",
       "      <td>2016-12-07 09:17:00</td>\n",
       "      <td>12/7/2016 9:58</td>\n",
       "      <td>9</td>\n",
       "      <td>Wednesday</td>\n",
       "    </tr>\n",
       "    <tr>\n",
       "      <th>3</th>\n",
       "      <td>2532</td>\n",
       "      <td>Airport</td>\n",
       "      <td>1.0</td>\n",
       "      <td>Trip Completed</td>\n",
       "      <td>2016-12-07 21:08:00</td>\n",
       "      <td>12/7/2016 22:03</td>\n",
       "      <td>21</td>\n",
       "      <td>Wednesday</td>\n",
       "    </tr>\n",
       "    <tr>\n",
       "      <th>4</th>\n",
       "      <td>3112</td>\n",
       "      <td>City</td>\n",
       "      <td>1.0</td>\n",
       "      <td>Trip Completed</td>\n",
       "      <td>2016-07-13 08:33:16</td>\n",
       "      <td>13-07-2016 09:25:47</td>\n",
       "      <td>8</td>\n",
       "      <td>Wednesday</td>\n",
       "    </tr>\n",
       "  </tbody>\n",
       "</table>\n",
       "</div>"
      ],
      "text/plain": [
       "   Request id Pickup point Driver id          Status   Request timestamp  \\\n",
       "0         619      Airport       1.0  Trip Completed 2016-11-07 11:51:00   \n",
       "1         867      Airport       1.0  Trip Completed 2016-11-07 17:57:00   \n",
       "2        1807         City       1.0  Trip Completed 2016-12-07 09:17:00   \n",
       "3        2532      Airport       1.0  Trip Completed 2016-12-07 21:08:00   \n",
       "4        3112         City       1.0  Trip Completed 2016-07-13 08:33:16   \n",
       "\n",
       "        Drop timestamp  request hour        day  \n",
       "0      11/7/2016 13:00            11     Monday  \n",
       "1      11/7/2016 18:47            17     Monday  \n",
       "2       12/7/2016 9:58             9  Wednesday  \n",
       "3      12/7/2016 22:03            21  Wednesday  \n",
       "4  13-07-2016 09:25:47             8  Wednesday  "
      ]
     },
     "execution_count": 202,
     "metadata": {},
     "output_type": "execute_result"
    }
   ],
   "source": [
    "df['Request timestamp']=pd.to_datetime(df['Request timestamp'])\n",
    "df['request hour']=df['Request timestamp'].dt.hour.round()\n",
    "df['day']=df['Request timestamp'].dt.day_name()\n",
    "df.head()"
   ]
  },
  {
   "cell_type": "markdown",
   "id": "83fecfe9",
   "metadata": {},
   "source": [
    "# show the most day trip cancelled is occur,trip complete and no cars avialable "
   ]
  },
  {
   "cell_type": "code",
   "execution_count": 168,
   "id": "2915f740",
   "metadata": {},
   "outputs": [
    {
     "data": {
      "image/png": "[encoded data removed]",
      "text/plain": [
       "<Figure size 432x288 with 1 Axes>"
      ]
     },
     "metadata": {
      "needs_background": "light"
     },
     "output_type": "display_data"
    }
   ],
   "source": [
    "tripday=df[[\"Request id\",\"Status\",\"day\"]].groupby([\"day\",\"Status\"]).count().unstack()\n",
    "\n",
    "tripday.plot(kind='bar', stacked=True, legend=True)\n",
    "plt.xlabel(\"Day\")\n",
    "plt.ylabel(\"Number of trip requests\")\n",
    "plt.title(\"Trip status\")\n",
    "plt.legend(title='Trip Status', loc='upper left', labels=['Trip Cancelled', 'No Cars Available', 'Trip Completed'])\n",
    "plt.show()"
   ]
  },
  {
   "cell_type": "markdown",
   "id": "19389bf2",
   "metadata": {},
   "source": [
    "## Trip Status Count -Airport to City - hours of the day"
   ]
  },
  {
   "cell_type": "code",
   "execution_count": null,
   "id": "eab6f384",
   "metadata": {},
   "outputs": [],
   "source": [
    "airportsupdemgap.plot(kind='bar', stacked=True, figsize=[6,5],colormap=\"winter\")\n",
    "plt.xlabel(\"Trip request hour\")\n",
    "plt.ylabel(\"Number of trip requests\")\n",
    "plt.title(\" 0000-2300hrs from Airport to City\")\n",
    "plt.legend(title='Trip Status', labels=['Trips Cancelled', 'No Cars Available', 'Trips Completed'],loc='upper center', bbox_to_anchor=(1.35, 0.8), shadow=True, ncol=1)"
   ]
  },
  {
   "cell_type": "markdown",
   "id": "0943ca19",
   "metadata": {},
   "source": [
    "# find the most duration people request upper"
   ]
  },
  {
   "cell_type": "code",
   "execution_count": 369,
   "id": "77b0e872",
   "metadata": {},
   "outputs": [
    {
     "data": {
      "image/png": "[encoded data removed]",
      "text/plain": [
       "<Figure size 432x288 with 1 Axes>"
      ]
     },
     "metadata": {
      "needs_background": "light"
     },
     "output_type": "display_data"
    }
   ],
   "source": [
    "#divide the time of the day into five categories\n",
    "def period(y):\n",
    "    if y < 6:\n",
    "        return \"Early Morning\"\n",
    "    elif 6 <= y < 11:\n",
    "        return \"Morning\"\n",
    "    elif 11 <= y < 17:\n",
    "        return \"Day Time\"\n",
    "    elif 17 <= y < 22:\n",
    "        return \"Evening\"\n",
    "    else:\n",
    "        return \"Late Night\"\n",
    "\n",
    "df['Time slot'] = df['request hour'].apply(lambda y: time_period(y))\n",
    "df['Time slot'].value_counts().plot(kind='bar')\n",
    "plt.show()\n"
   ]
  },
  {
   "cell_type": "markdown",
   "id": "5cec6d8f",
   "metadata": {},
   "source": [
    "## Demand is more during evening hours"
   ]
  },
  {
   "cell_type": "markdown",
   "id": "39d56e48",
   "metadata": {},
   "source": [
    "# Availability  for requests with Pickup point as City"
   ]
  },
  {
   "cell_type": "code",
   "execution_count": 372,
   "id": "35632caf",
   "metadata": {},
   "outputs": [
    {
     "data": {
      "text/html": [
       "<div>\n",
       "<style scoped>\n",
       "    .dataframe tbody tr th:only-of-type {\n",
       "        vertical-align: middle;\n",
       "    }\n",
       "\n",
       "    .dataframe tbody tr th {\n",
       "        vertical-align: top;\n",
       "    }\n",
       "\n",
       "    .dataframe thead th {\n",
       "        text-align: right;\n",
       "    }\n",
       "</style>\n",
       "<table border=\"1\" class=\"dataframe\">\n",
       "  <thead>\n",
       "    <tr style=\"text-align: right;\">\n",
       "      <th></th>\n",
       "      <th>Request id</th>\n",
       "      <th>Pickup point</th>\n",
       "      <th>Driver id</th>\n",
       "      <th>Status</th>\n",
       "      <th>Request timestamp</th>\n",
       "      <th>Drop timestamp</th>\n",
       "      <th>request hour</th>\n",
       "      <th>day</th>\n",
       "      <th>Count</th>\n",
       "      <th>Time slot</th>\n",
       "    </tr>\n",
       "  </thead>\n",
       "  <tbody>\n",
       "    <tr>\n",
       "      <th>0</th>\n",
       "      <td>619</td>\n",
       "      <td>Airport</td>\n",
       "      <td>1.0</td>\n",
       "      <td>Trip Completed</td>\n",
       "      <td>2016-11-07 11:51:00</td>\n",
       "      <td>2016-11-07 13:00:00</td>\n",
       "      <td>11</td>\n",
       "      <td>Monday</td>\n",
       "      <td>1</td>\n",
       "      <td>Day Time</td>\n",
       "    </tr>\n",
       "    <tr>\n",
       "      <th>1</th>\n",
       "      <td>867</td>\n",
       "      <td>Airport</td>\n",
       "      <td>1.0</td>\n",
       "      <td>Trip Completed</td>\n",
       "      <td>2016-11-07 17:57:00</td>\n",
       "      <td>2016-11-07 18:47:00</td>\n",
       "      <td>17</td>\n",
       "      <td>Monday</td>\n",
       "      <td>1</td>\n",
       "      <td>Evening</td>\n",
       "    </tr>\n",
       "    <tr>\n",
       "      <th>2</th>\n",
       "      <td>1807</td>\n",
       "      <td>City</td>\n",
       "      <td>1.0</td>\n",
       "      <td>Trip Completed</td>\n",
       "      <td>2016-12-07 09:17:00</td>\n",
       "      <td>2016-12-07 09:58:00</td>\n",
       "      <td>9</td>\n",
       "      <td>Wednesday</td>\n",
       "      <td>1</td>\n",
       "      <td>Morning</td>\n",
       "    </tr>\n",
       "    <tr>\n",
       "      <th>3</th>\n",
       "      <td>2532</td>\n",
       "      <td>Airport</td>\n",
       "      <td>1.0</td>\n",
       "      <td>Trip Completed</td>\n",
       "      <td>2016-12-07 21:08:00</td>\n",
       "      <td>2016-12-07 22:03:00</td>\n",
       "      <td>21</td>\n",
       "      <td>Wednesday</td>\n",
       "      <td>1</td>\n",
       "      <td>Evening</td>\n",
       "    </tr>\n",
       "    <tr>\n",
       "      <th>4</th>\n",
       "      <td>3112</td>\n",
       "      <td>City</td>\n",
       "      <td>1.0</td>\n",
       "      <td>Trip Completed</td>\n",
       "      <td>2016-07-13 08:33:16</td>\n",
       "      <td>2016-07-13 09:25:47</td>\n",
       "      <td>8</td>\n",
       "      <td>Wednesday</td>\n",
       "      <td>1</td>\n",
       "      <td>Morning</td>\n",
       "    </tr>\n",
       "  </tbody>\n",
       "</table>\n",
       "</div>"
      ],
      "text/plain": [
       "   Request id Pickup point Driver id          Status   Request timestamp  \\\n",
       "0         619      Airport       1.0  Trip Completed 2016-11-07 11:51:00   \n",
       "1         867      Airport       1.0  Trip Completed 2016-11-07 17:57:00   \n",
       "2        1807         City       1.0  Trip Completed 2016-12-07 09:17:00   \n",
       "3        2532      Airport       1.0  Trip Completed 2016-12-07 21:08:00   \n",
       "4        3112         City       1.0  Trip Completed 2016-07-13 08:33:16   \n",
       "\n",
       "       Drop timestamp  request hour        day  Count Time slot  \n",
       "0 2016-11-07 13:00:00            11     Monday      1  Day Time  \n",
       "1 2016-11-07 18:47:00            17     Monday      1   Evening  \n",
       "2 2016-12-07 09:58:00             9  Wednesday      1   Morning  \n",
       "3 2016-12-07 22:03:00            21  Wednesday      1   Evening  \n",
       "4 2016-07-13 09:25:47             8  Wednesday      1   Morning  "
      ]
     },
     "execution_count": 372,
     "metadata": {},
     "output_type": "execute_result"
    }
   ],
   "source": [
    "df.head(5)"
   ]
  },
  {
   "cell_type": "code",
   "execution_count": 371,
   "id": "9f89fd60",
   "metadata": {},
   "outputs": [
    {
     "data": {
      "image/png": "[encoded data removed]",
      "text/plain": [
       "<Figure size 576x432 with 2 Axes>"
      ]
     },
     "metadata": {
      "needs_background": "light"
     },
     "output_type": "display_data"
    }
   ],
   "source": [
    "df[\"Count\"] = 1\n",
    "uber_city = df[df[\"Pickup point\"]==\"City\"]\n",
    "uber_airport = df[df[\"Pickup point\"]==\"Airport\"]\n",
    "pivot_city = pd.pivot_table(uber_city,index = \"Time slot\",columns = \"Status\",values = \"Count\",aggfunc=np.sum)\n",
    "plt.figure(figsize = [8,6])\n",
    "hm = sns.heatmap(data = pivot_city, annot = True, fmt='g')\n",
    "plt.show()"
   ]
  },
  {
   "cell_type": "markdown",
   "id": "3be25cad",
   "metadata": {},
   "source": [
    "## Availability matrix for requests with Pickup point as Airport"
   ]
  },
  {
   "cell_type": "code",
   "execution_count": 374,
   "id": "f1a7debc",
   "metadata": {},
   "outputs": [
    {
     "data": {
      "image/png": "[encoded data removed]",
      "text/plain": [
       "<Figure size 576x432 with 2 Axes>"
      ]
     },
     "metadata": {
      "needs_background": "light"
     },
     "output_type": "display_data"
    }
   ],
   "source": [
    "pivot_airport = pd.pivot_table(uber_airport,index = \"Time slot\",columns = \"Status\",values = \"Count\",aggfunc=np.sum)\n",
    "plt.figure(figsize = [8,6])\n",
    "hm = sns.heatmap(data = pivot_airport, annot = True, fmt='g')\n",
    "plt.show()"
   ]
  },
  {
   "cell_type": "markdown",
   "id": "8278a9ba",
   "metadata": {},
   "source": [
    "# find the trip duration "
   ]
  },
  {
   "cell_type": "code",
   "execution_count": 171,
   "id": "a441af33",
   "metadata": {},
   "outputs": [
    {
     "data": {
      "text/html": [
       "<div>\n",
       "<style scoped>\n",
       "    .dataframe tbody tr th:only-of-type {\n",
       "        vertical-align: middle;\n",
       "    }\n",
       "\n",
       "    .dataframe tbody tr th {\n",
       "        vertical-align: top;\n",
       "    }\n",
       "\n",
       "    .dataframe thead th {\n",
       "        text-align: right;\n",
       "    }\n",
       "</style>\n",
       "<table border=\"1\" class=\"dataframe\">\n",
       "  <thead>\n",
       "    <tr style=\"text-align: right;\">\n",
       "      <th></th>\n",
       "      <th>Request id</th>\n",
       "      <th>Pickup point</th>\n",
       "      <th>Driver id</th>\n",
       "      <th>Status</th>\n",
       "      <th>Request timestamp</th>\n",
       "      <th>Drop timestamp</th>\n",
       "      <th>request hour</th>\n",
       "      <th>day</th>\n",
       "      <th>Time slot</th>\n",
       "    </tr>\n",
       "  </thead>\n",
       "  <tbody>\n",
       "    <tr>\n",
       "      <th>0</th>\n",
       "      <td>619</td>\n",
       "      <td>Airport</td>\n",
       "      <td>1.0</td>\n",
       "      <td>Trip Completed</td>\n",
       "      <td>2016-11-07 11:51:00</td>\n",
       "      <td>11/7/2016 13:00</td>\n",
       "      <td>11</td>\n",
       "      <td>Monday</td>\n",
       "      <td>Day Time</td>\n",
       "    </tr>\n",
       "    <tr>\n",
       "      <th>1</th>\n",
       "      <td>867</td>\n",
       "      <td>Airport</td>\n",
       "      <td>1.0</td>\n",
       "      <td>Trip Completed</td>\n",
       "      <td>2016-11-07 17:57:00</td>\n",
       "      <td>11/7/2016 18:47</td>\n",
       "      <td>17</td>\n",
       "      <td>Monday</td>\n",
       "      <td>Evening</td>\n",
       "    </tr>\n",
       "    <tr>\n",
       "      <th>2</th>\n",
       "      <td>1807</td>\n",
       "      <td>City</td>\n",
       "      <td>1.0</td>\n",
       "      <td>Trip Completed</td>\n",
       "      <td>2016-12-07 09:17:00</td>\n",
       "      <td>12/7/2016 9:58</td>\n",
       "      <td>9</td>\n",
       "      <td>Wednesday</td>\n",
       "      <td>Morning</td>\n",
       "    </tr>\n",
       "    <tr>\n",
       "      <th>3</th>\n",
       "      <td>2532</td>\n",
       "      <td>Airport</td>\n",
       "      <td>1.0</td>\n",
       "      <td>Trip Completed</td>\n",
       "      <td>2016-12-07 21:08:00</td>\n",
       "      <td>12/7/2016 22:03</td>\n",
       "      <td>21</td>\n",
       "      <td>Wednesday</td>\n",
       "      <td>Evening</td>\n",
       "    </tr>\n",
       "    <tr>\n",
       "      <th>4</th>\n",
       "      <td>3112</td>\n",
       "      <td>City</td>\n",
       "      <td>1.0</td>\n",
       "      <td>Trip Completed</td>\n",
       "      <td>2016-07-13 08:33:16</td>\n",
       "      <td>13-07-2016 09:25:47</td>\n",
       "      <td>8</td>\n",
       "      <td>Wednesday</td>\n",
       "      <td>Morning</td>\n",
       "    </tr>\n",
       "  </tbody>\n",
       "</table>\n",
       "</div>"
      ],
      "text/plain": [
       "   Request id Pickup point Driver id          Status   Request timestamp  \\\n",
       "0         619      Airport       1.0  Trip Completed 2016-11-07 11:51:00   \n",
       "1         867      Airport       1.0  Trip Completed 2016-11-07 17:57:00   \n",
       "2        1807         City       1.0  Trip Completed 2016-12-07 09:17:00   \n",
       "3        2532      Airport       1.0  Trip Completed 2016-12-07 21:08:00   \n",
       "4        3112         City       1.0  Trip Completed 2016-07-13 08:33:16   \n",
       "\n",
       "        Drop timestamp  request hour        day Time slot  \n",
       "0      11/7/2016 13:00            11     Monday  Day Time  \n",
       "1      11/7/2016 18:47            17     Monday   Evening  \n",
       "2       12/7/2016 9:58             9  Wednesday   Morning  \n",
       "3      12/7/2016 22:03            21  Wednesday   Evening  \n",
       "4  13-07-2016 09:25:47             8  Wednesday   Morning  "
      ]
     },
     "execution_count": 171,
     "metadata": {},
     "output_type": "execute_result"
    }
   ],
   "source": [
    "# df.drop('trip_period',axis=1,inplace=True)\n",
    "df.head()"
   ]
  },
  {
   "cell_type": "code",
   "execution_count": 314,
   "id": "8b71e165",
   "metadata": {},
   "outputs": [
    {
     "data": {
      "text/html": [
       "<div>\n",
       "<style scoped>\n",
       "    .dataframe tbody tr th:only-of-type {\n",
       "        vertical-align: middle;\n",
       "    }\n",
       "\n",
       "    .dataframe tbody tr th {\n",
       "        vertical-align: top;\n",
       "    }\n",
       "\n",
       "    .dataframe thead th {\n",
       "        text-align: right;\n",
       "    }\n",
       "</style>\n",
       "<table border=\"1\" class=\"dataframe\">\n",
       "  <thead>\n",
       "    <tr style=\"text-align: right;\">\n",
       "      <th></th>\n",
       "      <th>Request timestamp</th>\n",
       "      <th>Drop timestamp</th>\n",
       "    </tr>\n",
       "  </thead>\n",
       "  <tbody>\n",
       "    <tr>\n",
       "      <th>0</th>\n",
       "      <td>2016-11-07 11:51:00</td>\n",
       "      <td>2016-11-07 13:00:00</td>\n",
       "    </tr>\n",
       "    <tr>\n",
       "      <th>1</th>\n",
       "      <td>2016-11-07 17:57:00</td>\n",
       "      <td>2016-11-07 18:47:00</td>\n",
       "    </tr>\n",
       "    <tr>\n",
       "      <th>2</th>\n",
       "      <td>2016-12-07 09:17:00</td>\n",
       "      <td>2016-12-07 09:58:00</td>\n",
       "    </tr>\n",
       "    <tr>\n",
       "      <th>3</th>\n",
       "      <td>2016-12-07 21:08:00</td>\n",
       "      <td>2016-12-07 22:03:00</td>\n",
       "    </tr>\n",
       "    <tr>\n",
       "      <th>4</th>\n",
       "      <td>2016-07-13 08:33:16</td>\n",
       "      <td>2016-07-13 09:25:47</td>\n",
       "    </tr>\n",
       "  </tbody>\n",
       "</table>\n",
       "</div>"
      ],
      "text/plain": [
       "    Request timestamp      Drop timestamp\n",
       "0 2016-11-07 11:51:00 2016-11-07 13:00:00\n",
       "1 2016-11-07 17:57:00 2016-11-07 18:47:00\n",
       "2 2016-12-07 09:17:00 2016-12-07 09:58:00\n",
       "3 2016-12-07 21:08:00 2016-12-07 22:03:00\n",
       "4 2016-07-13 08:33:16 2016-07-13 09:25:47"
      ]
     },
     "execution_count": 314,
     "metadata": {},
     "output_type": "execute_result"
    }
   ],
   "source": [
    "data=df[['Request timestamp','Drop timestamp']].copy()\n",
    "data.head()"
   ]
  },
  {
   "cell_type": "markdown",
   "id": "95a71cfc",
   "metadata": {},
   "source": [
    "## drop na values rows to get the complete trip "
   ]
  },
  {
   "cell_type": "code",
   "execution_count": 315,
   "id": "eed8465d",
   "metadata": {},
   "outputs": [],
   "source": [
    "data.dropna(axis=0,inplace=True)"
   ]
  },
  {
   "cell_type": "code",
   "execution_count": 316,
   "id": "d2fe4a60",
   "metadata": {},
   "outputs": [
    {
     "data": {
      "text/plain": [
       "(2831, 2)"
      ]
     },
     "execution_count": 316,
     "metadata": {},
     "output_type": "execute_result"
    }
   ],
   "source": [
    "data.shape"
   ]
  },
  {
   "cell_type": "markdown",
   "id": "db5eb5db",
   "metadata": {},
   "source": [
    "## make same format time to Request timestamp and Drop timestamp"
   ]
  },
  {
   "cell_type": "code",
   "execution_count": 317,
   "id": "a4c98c2d",
   "metadata": {
    "scrolled": true
   },
   "outputs": [
    {
     "data": {
      "text/html": [
       "<div>\n",
       "<style scoped>\n",
       "    .dataframe tbody tr th:only-of-type {\n",
       "        vertical-align: middle;\n",
       "    }\n",
       "\n",
       "    .dataframe tbody tr th {\n",
       "        vertical-align: top;\n",
       "    }\n",
       "\n",
       "    .dataframe thead th {\n",
       "        text-align: right;\n",
       "    }\n",
       "</style>\n",
       "<table border=\"1\" class=\"dataframe\">\n",
       "  <thead>\n",
       "    <tr style=\"text-align: right;\">\n",
       "      <th></th>\n",
       "      <th>Request timestamp</th>\n",
       "      <th>Drop timestamp</th>\n",
       "    </tr>\n",
       "  </thead>\n",
       "  <tbody>\n",
       "    <tr>\n",
       "      <th>0</th>\n",
       "      <td>2016-11-07 11:51:00</td>\n",
       "      <td>2016-11-07 13:00:00</td>\n",
       "    </tr>\n",
       "    <tr>\n",
       "      <th>1</th>\n",
       "      <td>2016-11-07 17:57:00</td>\n",
       "      <td>2016-11-07 18:47:00</td>\n",
       "    </tr>\n",
       "    <tr>\n",
       "      <th>2</th>\n",
       "      <td>2016-12-07 09:17:00</td>\n",
       "      <td>2016-12-07 09:58:00</td>\n",
       "    </tr>\n",
       "    <tr>\n",
       "      <th>3</th>\n",
       "      <td>2016-12-07 21:08:00</td>\n",
       "      <td>2016-12-07 22:03:00</td>\n",
       "    </tr>\n",
       "    <tr>\n",
       "      <th>4</th>\n",
       "      <td>2016-07-13 08:33:16</td>\n",
       "      <td>2016-07-13 09:25:47</td>\n",
       "    </tr>\n",
       "  </tbody>\n",
       "</table>\n",
       "</div>"
      ],
      "text/plain": [
       "    Request timestamp      Drop timestamp\n",
       "0 2016-11-07 11:51:00 2016-11-07 13:00:00\n",
       "1 2016-11-07 17:57:00 2016-11-07 18:47:00\n",
       "2 2016-12-07 09:17:00 2016-12-07 09:58:00\n",
       "3 2016-12-07 21:08:00 2016-12-07 22:03:00\n",
       "4 2016-07-13 08:33:16 2016-07-13 09:25:47"
      ]
     },
     "execution_count": 317,
     "metadata": {},
     "output_type": "execute_result"
    }
   ],
   "source": [
    "data['Request timestamp']=pd.to_datetime(data['Request timestamp'],format='%Y-%m-%d %I-%P')\n",
    "data['Drop timestamp']=pd.to_datetime(data['Drop timestamp'],format='%Y-%m-%d %I-%P')\n",
    "data.head()"
   ]
  },
  {
   "cell_type": "markdown",
   "id": "5005a1e1",
   "metadata": {},
   "source": [
    "## calculate trip duration in minute"
   ]
  },
  {
   "cell_type": "code",
   "execution_count": 318,
   "id": "f2d6e602",
   "metadata": {},
   "outputs": [],
   "source": [
    "data['dur_hour']=data['Drop timestamp'].dt.hour-data['Request timestamp'].dt.hour\n",
    "data['dur_min']=data['Drop timestamp'].dt.minute-data['Request timestamp'].dt.minute\n",
    "data['dur_sec']=data['Drop timestamp'].dt.second-data['Request timestamp'].dt.second\n",
    "data['dur_hour']=data['dur_hour'].astype('int')\n",
    "data['dur_min']=data['dur_min'].astype('int')\n",
    "data['dur_sec']=data['dur_sec'].astype('int')"
   ]
  },
  {
   "cell_type": "code",
   "execution_count": 319,
   "id": "8a749971",
   "metadata": {},
   "outputs": [
    {
     "data": {
      "text/html": [
       "<div>\n",
       "<style scoped>\n",
       "    .dataframe tbody tr th:only-of-type {\n",
       "        vertical-align: middle;\n",
       "    }\n",
       "\n",
       "    .dataframe tbody tr th {\n",
       "        vertical-align: top;\n",
       "    }\n",
       "\n",
       "    .dataframe thead th {\n",
       "        text-align: right;\n",
       "    }\n",
       "</style>\n",
       "<table border=\"1\" class=\"dataframe\">\n",
       "  <thead>\n",
       "    <tr style=\"text-align: right;\">\n",
       "      <th></th>\n",
       "      <th>Request timestamp</th>\n",
       "      <th>Drop timestamp</th>\n",
       "      <th>dur_hour</th>\n",
       "      <th>dur_min</th>\n",
       "      <th>dur_sec</th>\n",
       "    </tr>\n",
       "  </thead>\n",
       "  <tbody>\n",
       "    <tr>\n",
       "      <th>2826</th>\n",
       "      <td>2016-11-07 22:54:00</td>\n",
       "      <td>2016-11-07 23:35:00</td>\n",
       "      <td>1</td>\n",
       "      <td>-19</td>\n",
       "      <td>0</td>\n",
       "    </tr>\n",
       "    <tr>\n",
       "      <th>2827</th>\n",
       "      <td>2016-07-13 06:31:22</td>\n",
       "      <td>2016-07-13 07:20:52</td>\n",
       "      <td>1</td>\n",
       "      <td>-11</td>\n",
       "      <td>30</td>\n",
       "    </tr>\n",
       "    <tr>\n",
       "      <th>2828</th>\n",
       "      <td>2016-07-13 12:33:21</td>\n",
       "      <td>2016-07-13 13:16:03</td>\n",
       "      <td>1</td>\n",
       "      <td>-17</td>\n",
       "      <td>-18</td>\n",
       "    </tr>\n",
       "    <tr>\n",
       "      <th>2829</th>\n",
       "      <td>2016-07-13 22:26:08</td>\n",
       "      <td>2016-07-13 23:43:13</td>\n",
       "      <td>1</td>\n",
       "      <td>17</td>\n",
       "      <td>5</td>\n",
       "    </tr>\n",
       "    <tr>\n",
       "      <th>2830</th>\n",
       "      <td>2016-07-15 09:07:09</td>\n",
       "      <td>2016-07-15 09:56:07</td>\n",
       "      <td>0</td>\n",
       "      <td>49</td>\n",
       "      <td>-2</td>\n",
       "    </tr>\n",
       "  </tbody>\n",
       "</table>\n",
       "</div>"
      ],
      "text/plain": [
       "       Request timestamp      Drop timestamp  dur_hour  dur_min  dur_sec\n",
       "2826 2016-11-07 22:54:00 2016-11-07 23:35:00         1      -19        0\n",
       "2827 2016-07-13 06:31:22 2016-07-13 07:20:52         1      -11       30\n",
       "2828 2016-07-13 12:33:21 2016-07-13 13:16:03         1      -17      -18\n",
       "2829 2016-07-13 22:26:08 2016-07-13 23:43:13         1       17        5\n",
       "2830 2016-07-15 09:07:09 2016-07-15 09:56:07         0       49       -2"
      ]
     },
     "execution_count": 319,
     "metadata": {},
     "output_type": "execute_result"
    }
   ],
   "source": [
    "data.tail()"
   ]
  },
  {
   "cell_type": "code",
   "execution_count": 325,
   "id": "3f8e2833",
   "metadata": {},
   "outputs": [
    {
     "data": {
      "text/html": [
       "<div>\n",
       "<style scoped>\n",
       "    .dataframe tbody tr th:only-of-type {\n",
       "        vertical-align: middle;\n",
       "    }\n",
       "\n",
       "    .dataframe tbody tr th {\n",
       "        vertical-align: top;\n",
       "    }\n",
       "\n",
       "    .dataframe thead th {\n",
       "        text-align: right;\n",
       "    }\n",
       "</style>\n",
       "<table border=\"1\" class=\"dataframe\">\n",
       "  <thead>\n",
       "    <tr style=\"text-align: right;\">\n",
       "      <th></th>\n",
       "      <th>Request timestamp</th>\n",
       "      <th>Drop timestamp</th>\n",
       "      <th>dur_hour</th>\n",
       "      <th>dur_min</th>\n",
       "      <th>dur_sec</th>\n",
       "      <th>trip_priod(min)</th>\n",
       "    </tr>\n",
       "  </thead>\n",
       "  <tbody>\n",
       "    <tr>\n",
       "      <th>2826</th>\n",
       "      <td>2016-11-07 22:54:00</td>\n",
       "      <td>2016-11-07 23:35:00</td>\n",
       "      <td>1</td>\n",
       "      <td>-19</td>\n",
       "      <td>0</td>\n",
       "      <td>41.000000</td>\n",
       "    </tr>\n",
       "    <tr>\n",
       "      <th>2827</th>\n",
       "      <td>2016-07-13 06:31:22</td>\n",
       "      <td>2016-07-13 07:20:52</td>\n",
       "      <td>1</td>\n",
       "      <td>-11</td>\n",
       "      <td>30</td>\n",
       "      <td>49.500000</td>\n",
       "    </tr>\n",
       "    <tr>\n",
       "      <th>2828</th>\n",
       "      <td>2016-07-13 12:33:21</td>\n",
       "      <td>2016-07-13 13:16:03</td>\n",
       "      <td>1</td>\n",
       "      <td>-17</td>\n",
       "      <td>-18</td>\n",
       "      <td>42.700000</td>\n",
       "    </tr>\n",
       "    <tr>\n",
       "      <th>2829</th>\n",
       "      <td>2016-07-13 22:26:08</td>\n",
       "      <td>2016-07-13 23:43:13</td>\n",
       "      <td>1</td>\n",
       "      <td>17</td>\n",
       "      <td>5</td>\n",
       "      <td>77.083333</td>\n",
       "    </tr>\n",
       "    <tr>\n",
       "      <th>2830</th>\n",
       "      <td>2016-07-15 09:07:09</td>\n",
       "      <td>2016-07-15 09:56:07</td>\n",
       "      <td>0</td>\n",
       "      <td>49</td>\n",
       "      <td>-2</td>\n",
       "      <td>48.966667</td>\n",
       "    </tr>\n",
       "  </tbody>\n",
       "</table>\n",
       "</div>"
      ],
      "text/plain": [
       "       Request timestamp      Drop timestamp  dur_hour  dur_min  dur_sec  \\\n",
       "2826 2016-11-07 22:54:00 2016-11-07 23:35:00         1      -19        0   \n",
       "2827 2016-07-13 06:31:22 2016-07-13 07:20:52         1      -11       30   \n",
       "2828 2016-07-13 12:33:21 2016-07-13 13:16:03         1      -17      -18   \n",
       "2829 2016-07-13 22:26:08 2016-07-13 23:43:13         1       17        5   \n",
       "2830 2016-07-15 09:07:09 2016-07-15 09:56:07         0       49       -2   \n",
       "\n",
       "      trip_priod(min)  \n",
       "2826        41.000000  \n",
       "2827        49.500000  \n",
       "2828        42.700000  \n",
       "2829        77.083333  \n",
       "2830        48.966667  "
      ]
     },
     "execution_count": 325,
     "metadata": {},
     "output_type": "execute_result"
    }
   ],
   "source": [
    "data['trip_priod(min)']=data['dur_hour']*60+data['dur_min']+data['dur_sec']/60\n",
    "data.tail()"
   ]
  },
  {
   "cell_type": "code",
   "execution_count": 347,
   "id": "0bab548f",
   "metadata": {},
   "outputs": [
    {
     "data": {
      "text/html": [
       "<div>\n",
       "<style scoped>\n",
       "    .dataframe tbody tr th:only-of-type {\n",
       "        vertical-align: middle;\n",
       "    }\n",
       "\n",
       "    .dataframe tbody tr th {\n",
       "        vertical-align: top;\n",
       "    }\n",
       "\n",
       "    .dataframe thead th {\n",
       "        text-align: right;\n",
       "    }\n",
       "</style>\n",
       "<table border=\"1\" class=\"dataframe\">\n",
       "  <thead>\n",
       "    <tr style=\"text-align: right;\">\n",
       "      <th></th>\n",
       "      <th>Request timestamp</th>\n",
       "      <th>Drop timestamp</th>\n",
       "      <th>dur_hour</th>\n",
       "      <th>dur_min</th>\n",
       "      <th>dur_sec</th>\n",
       "      <th>trip_priod(min)</th>\n",
       "    </tr>\n",
       "  </thead>\n",
       "  <tbody>\n",
       "    <tr>\n",
       "      <th>0</th>\n",
       "      <td>2016-11-07 11:51:00</td>\n",
       "      <td>2016-11-07 13:00:00</td>\n",
       "      <td>2</td>\n",
       "      <td>-51</td>\n",
       "      <td>0</td>\n",
       "      <td>69</td>\n",
       "    </tr>\n",
       "    <tr>\n",
       "      <th>1</th>\n",
       "      <td>2016-11-07 17:57:00</td>\n",
       "      <td>2016-11-07 18:47:00</td>\n",
       "      <td>1</td>\n",
       "      <td>-10</td>\n",
       "      <td>0</td>\n",
       "      <td>50</td>\n",
       "    </tr>\n",
       "    <tr>\n",
       "      <th>2</th>\n",
       "      <td>2016-12-07 09:17:00</td>\n",
       "      <td>2016-12-07 09:58:00</td>\n",
       "      <td>0</td>\n",
       "      <td>41</td>\n",
       "      <td>0</td>\n",
       "      <td>41</td>\n",
       "    </tr>\n",
       "    <tr>\n",
       "      <th>3</th>\n",
       "      <td>2016-12-07 21:08:00</td>\n",
       "      <td>2016-12-07 22:03:00</td>\n",
       "      <td>1</td>\n",
       "      <td>-5</td>\n",
       "      <td>0</td>\n",
       "      <td>55</td>\n",
       "    </tr>\n",
       "    <tr>\n",
       "      <th>4</th>\n",
       "      <td>2016-07-13 08:33:16</td>\n",
       "      <td>2016-07-13 09:25:47</td>\n",
       "      <td>1</td>\n",
       "      <td>-8</td>\n",
       "      <td>31</td>\n",
       "      <td>52</td>\n",
       "    </tr>\n",
       "  </tbody>\n",
       "</table>\n",
       "</div>"
      ],
      "text/plain": [
       "    Request timestamp      Drop timestamp  dur_hour  dur_min  dur_sec  \\\n",
       "0 2016-11-07 11:51:00 2016-11-07 13:00:00         2      -51        0   \n",
       "1 2016-11-07 17:57:00 2016-11-07 18:47:00         1      -10        0   \n",
       "2 2016-12-07 09:17:00 2016-12-07 09:58:00         0       41        0   \n",
       "3 2016-12-07 21:08:00 2016-12-07 22:03:00         1       -5        0   \n",
       "4 2016-07-13 08:33:16 2016-07-13 09:25:47         1       -8       31   \n",
       "\n",
       "   trip_priod(min)  \n",
       "0               69  \n",
       "1               50  \n",
       "2               41  \n",
       "3               55  \n",
       "4               52  "
      ]
     },
     "execution_count": 347,
     "metadata": {},
     "output_type": "execute_result"
    }
   ],
   "source": [
    "data['trip_priod(min)']=data['trip_priod(min)'].astype('int')\n",
    "data.head()"
   ]
  },
  {
   "cell_type": "markdown",
   "id": "e492066c",
   "metadata": {},
   "source": [
    "## second method i found to deturmine trip duration (it is easy method)"
   ]
  },
  {
   "cell_type": "code",
   "execution_count": 349,
   "id": "69301fbf",
   "metadata": {},
   "outputs": [
    {
     "data": {
      "text/plain": [
       "0    69\n",
       "1    50\n",
       "2    41\n",
       "3    55\n",
       "4    52\n",
       "dtype: int32"
      ]
     },
     "execution_count": 349,
     "metadata": {},
     "output_type": "execute_result"
    }
   ],
   "source": [
    "s=((data['Drop timestamp']-data['Request timestamp']).dt.total_seconds()/60).astype('int')\n",
    "s.head()"
   ]
  },
  {
   "cell_type": "markdown",
   "id": "57faf0d5",
   "metadata": {},
   "source": [
    "## maximum trip duration"
   ]
  },
  {
   "cell_type": "code",
   "execution_count": 340,
   "id": "57d34154",
   "metadata": {},
   "outputs": [
    {
     "data": {
      "text/plain": [
       "83"
      ]
     },
     "execution_count": 340,
     "metadata": {},
     "output_type": "execute_result"
    }
   ],
   "source": [
    "data['trip_priod(min)'].max()"
   ]
  },
  {
   "cell_type": "code",
   "execution_count": 361,
   "id": "7fc205ae",
   "metadata": {},
   "outputs": [
    {
     "data": {
      "text/plain": [
       "-1413"
      ]
     },
     "execution_count": 361,
     "metadata": {},
     "output_type": "execute_result"
    }
   ],
   "source": [
    "data['trip_priod(min)'].min()"
   ]
  },
  {
   "cell_type": "markdown",
   "id": "37d52b35",
   "metadata": {},
   "source": [
    "#### what is the problem to make min value nigative"
   ]
  },
  {
   "cell_type": "code",
   "execution_count": 360,
   "id": "ae961ce6",
   "metadata": {},
   "outputs": [
    {
     "data": {
      "text/html": [
       "<div>\n",
       "<style scoped>\n",
       "    .dataframe tbody tr th:only-of-type {\n",
       "        vertical-align: middle;\n",
       "    }\n",
       "\n",
       "    .dataframe tbody tr th {\n",
       "        vertical-align: top;\n",
       "    }\n",
       "\n",
       "    .dataframe thead th {\n",
       "        text-align: right;\n",
       "    }\n",
       "</style>\n",
       "<table border=\"1\" class=\"dataframe\">\n",
       "  <thead>\n",
       "    <tr style=\"text-align: right;\">\n",
       "      <th></th>\n",
       "      <th>Request timestamp</th>\n",
       "      <th>Drop timestamp</th>\n",
       "      <th>dur_hour</th>\n",
       "      <th>dur_min</th>\n",
       "      <th>dur_sec</th>\n",
       "      <th>trip_priod(min)</th>\n",
       "    </tr>\n",
       "  </thead>\n",
       "  <tbody>\n",
       "    <tr>\n",
       "      <th>75</th>\n",
       "      <td>2016-11-07 23:39:00</td>\n",
       "      <td>2016-12-07 00:23:00</td>\n",
       "      <td>-23</td>\n",
       "      <td>-16</td>\n",
       "      <td>0</td>\n",
       "      <td>-1396</td>\n",
       "    </tr>\n",
       "    <tr>\n",
       "      <th>81</th>\n",
       "      <td>2016-07-13 23:58:41</td>\n",
       "      <td>2016-07-14 00:58:39</td>\n",
       "      <td>-23</td>\n",
       "      <td>0</td>\n",
       "      <td>-2</td>\n",
       "      <td>-1380</td>\n",
       "    </tr>\n",
       "    <tr>\n",
       "      <th>131</th>\n",
       "      <td>2016-07-15 23:32:44</td>\n",
       "      <td>2016-07-16 00:37:46</td>\n",
       "      <td>-23</td>\n",
       "      <td>5</td>\n",
       "      <td>2</td>\n",
       "      <td>-1374</td>\n",
       "    </tr>\n",
       "    <tr>\n",
       "      <th>133</th>\n",
       "      <td>2016-12-07 23:43:00</td>\n",
       "      <td>2016-07-13 00:35:12</td>\n",
       "      <td>-23</td>\n",
       "      <td>-8</td>\n",
       "      <td>12</td>\n",
       "      <td>-1387</td>\n",
       "    </tr>\n",
       "    <tr>\n",
       "      <th>143</th>\n",
       "      <td>2016-12-07 23:23:00</td>\n",
       "      <td>2016-07-13 00:27:21</td>\n",
       "      <td>-23</td>\n",
       "      <td>4</td>\n",
       "      <td>21</td>\n",
       "      <td>-1375</td>\n",
       "    </tr>\n",
       "    <tr>\n",
       "      <th>...</th>\n",
       "      <td>...</td>\n",
       "      <td>...</td>\n",
       "      <td>...</td>\n",
       "      <td>...</td>\n",
       "      <td>...</td>\n",
       "      <td>...</td>\n",
       "    </tr>\n",
       "    <tr>\n",
       "      <th>2769</th>\n",
       "      <td>2016-07-15 23:20:36</td>\n",
       "      <td>2016-07-16 00:10:16</td>\n",
       "      <td>-23</td>\n",
       "      <td>-10</td>\n",
       "      <td>-20</td>\n",
       "      <td>-1390</td>\n",
       "    </tr>\n",
       "    <tr>\n",
       "      <th>2790</th>\n",
       "      <td>2016-11-07 23:17:00</td>\n",
       "      <td>2016-12-07 00:15:00</td>\n",
       "      <td>-23</td>\n",
       "      <td>-2</td>\n",
       "      <td>0</td>\n",
       "      <td>-1382</td>\n",
       "    </tr>\n",
       "    <tr>\n",
       "      <th>2792</th>\n",
       "      <td>2016-12-07 23:11:00</td>\n",
       "      <td>2016-07-13 00:28:33</td>\n",
       "      <td>-23</td>\n",
       "      <td>17</td>\n",
       "      <td>33</td>\n",
       "      <td>-1362</td>\n",
       "    </tr>\n",
       "    <tr>\n",
       "      <th>2812</th>\n",
       "      <td>2016-07-13 23:57:31</td>\n",
       "      <td>2016-07-14 01:02:24</td>\n",
       "      <td>-22</td>\n",
       "      <td>-55</td>\n",
       "      <td>-7</td>\n",
       "      <td>-1375</td>\n",
       "    </tr>\n",
       "    <tr>\n",
       "      <th>2817</th>\n",
       "      <td>2016-07-14 23:56:41</td>\n",
       "      <td>2016-07-15 00:39:24</td>\n",
       "      <td>-23</td>\n",
       "      <td>-17</td>\n",
       "      <td>-17</td>\n",
       "      <td>-1397</td>\n",
       "    </tr>\n",
       "  </tbody>\n",
       "</table>\n",
       "<p>98 rows × 6 columns</p>\n",
       "</div>"
      ],
      "text/plain": [
       "       Request timestamp      Drop timestamp  dur_hour  dur_min  dur_sec  \\\n",
       "75   2016-11-07 23:39:00 2016-12-07 00:23:00       -23      -16        0   \n",
       "81   2016-07-13 23:58:41 2016-07-14 00:58:39       -23        0       -2   \n",
       "131  2016-07-15 23:32:44 2016-07-16 00:37:46       -23        5        2   \n",
       "133  2016-12-07 23:43:00 2016-07-13 00:35:12       -23       -8       12   \n",
       "143  2016-12-07 23:23:00 2016-07-13 00:27:21       -23        4       21   \n",
       "...                  ...                 ...       ...      ...      ...   \n",
       "2769 2016-07-15 23:20:36 2016-07-16 00:10:16       -23      -10      -20   \n",
       "2790 2016-11-07 23:17:00 2016-12-07 00:15:00       -23       -2        0   \n",
       "2792 2016-12-07 23:11:00 2016-07-13 00:28:33       -23       17       33   \n",
       "2812 2016-07-13 23:57:31 2016-07-14 01:02:24       -22      -55       -7   \n",
       "2817 2016-07-14 23:56:41 2016-07-15 00:39:24       -23      -17      -17   \n",
       "\n",
       "      trip_priod(min)  \n",
       "75              -1396  \n",
       "81              -1380  \n",
       "131             -1374  \n",
       "133             -1387  \n",
       "143             -1375  \n",
       "...               ...  \n",
       "2769            -1390  \n",
       "2790            -1382  \n",
       "2792            -1362  \n",
       "2812            -1375  \n",
       "2817            -1397  \n",
       "\n",
       "[98 rows x 6 columns]"
      ]
     },
     "execution_count": 360,
     "metadata": {},
     "output_type": "execute_result"
    }
   ],
   "source": [
    "data[data['trip_priod(min)']<0]\n"
   ]
  },
  {
   "cell_type": "markdown",
   "id": "5898ff14",
   "metadata": {},
   "source": [
    "## this problem occur due to date for example at 23 hour time  and arrive at 0 time"
   ]
  },
  {
   "cell_type": "markdown",
   "id": "23cb8670",
   "metadata": {},
   "source": [
    "## I will try to solve it and tell you if i can solve it"
   ]
  },
  {
   "cell_type": "code",
   "execution_count": null,
   "id": "e875e58f",
   "metadata": {},
   "outputs": [],
   "source": []
  }
 ],
 "metadata": {
  "kernelspec": {
   "display_name": "Python 3 (ipykernel)",
   "language": "python",
   "name": "python3"
  },
  "language_info": {
   "codemirror_mode": {
    "name": "ipython",
    "version": 3
   },
   "file_extension": ".py",
   "mimetype": "text/x-python",
   "name": "python",
   "nbconvert_exporter": "python",
   "pygments_lexer": "ipython3",
   "version": "3.9.12"
  }
 },
 "nbformat": 4,
 "nbformat_minor": 5
}
