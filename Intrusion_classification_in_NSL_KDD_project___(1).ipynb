{
  "cells": [
    {
      "cell_type": "markdown",
      "metadata": {
        "id": "view-in-github",
        "colab_type": "text"
      },
      "source": [
        "<a href=\"https://colab.research.google.com/github/abdalrhmangamal12/machine-learning-/blob/main/Intrusion_classification_in_NSL_KDD_project___(1).ipynb\" target=\"_parent\"><img src=\"https://colab.research.google.com/assets/colab-badge.svg\" alt=\"Open In Colab\"/></a>"
      ]
    },
    {
      "cell_type": "code",
      "execution_count": null,
      "id": "f57238d7",
      "metadata": {
        "id": "f57238d7"
      },
      "outputs": [],
      "source": [
        "import numpy as np\n",
        "import matplotlib.pyplot as plt\n",
        "import pandas as pd\n",
        "import seaborn as sns"
      ]
    },
    {
      "cell_type": "markdown",
      "id": "041fdb04",
      "metadata": {
        "id": "041fdb04"
      },
      "source": [
        "## import dataset"
      ]
    },
    {
      "cell_type": "code",
      "execution_count": null,
      "id": "757a81f0",
      "metadata": {
        "id": "757a81f0"
      },
      "outputs": [],
      "source": [
        "data_train=pd.read_csv('train_COMPETITION - train_COMPETITION.csv') # training data set \n",
        "data_test=pd.read_csv('test_COMPETITION - test_COMPETITION.csv') #load testing data"
      ]
    },
    {
      "cell_type": "code",
      "execution_count": null,
      "id": "27ecfb33",
      "metadata": {
        "id": "27ecfb33"
      },
      "outputs": [],
      "source": [
        "pf_train=data_train.copy()\n",
        "pf_test=data_test.copy()"
      ]
    },
    {
      "cell_type": "code",
      "execution_count": null,
      "id": "8d85b7fe",
      "metadata": {
        "id": "8d85b7fe",
        "outputId": "dc8b7b96-b8ed-40f0-d4d1-4a39827ddf49"
      },
      "outputs": [
        {
          "data": {
            "text/html": [
              "<div>\n",
              "<style scoped>\n",
              "    .dataframe tbody tr th:only-of-type {\n",
              "        vertical-align: middle;\n",
              "    }\n",
              "\n",
              "    .dataframe tbody tr th {\n",
              "        vertical-align: top;\n",
              "    }\n",
              "\n",
              "    .dataframe thead th {\n",
              "        text-align: right;\n",
              "    }\n",
              "</style>\n",
              "<table border=\"1\" class=\"dataframe\">\n",
              "  <thead>\n",
              "    <tr style=\"text-align: right;\">\n",
              "      <th></th>\n",
              "      <th>ID</th>\n",
              "      <th>duration</th>\n",
              "      <th>protocol_type</th>\n",
              "      <th>service</th>\n",
              "      <th>flag</th>\n",
              "      <th>src_bytes</th>\n",
              "      <th>dst_bytes</th>\n",
              "      <th>land</th>\n",
              "      <th>wrong_fragment</th>\n",
              "      <th>urgent</th>\n",
              "      <th>...</th>\n",
              "      <th>dst_host_same_srv_rate</th>\n",
              "      <th>dst_host_diff_srv_rate</th>\n",
              "      <th>dst_host_same_src_port_rate</th>\n",
              "      <th>dst_host_srv_diff_host_rate</th>\n",
              "      <th>dst_host_serror_rate</th>\n",
              "      <th>dst_host_srv_serror_rate</th>\n",
              "      <th>dst_host_rerror_rate</th>\n",
              "      <th>dst_host_srv_rerror_rate</th>\n",
              "      <th>level</th>\n",
              "      <th>Class</th>\n",
              "    </tr>\n",
              "  </thead>\n",
              "  <tbody>\n",
              "    <tr>\n",
              "      <th>0</th>\n",
              "      <td>7060</td>\n",
              "      <td>0</td>\n",
              "      <td>tcp</td>\n",
              "      <td>smtp</td>\n",
              "      <td>SF</td>\n",
              "      <td>1129</td>\n",
              "      <td>327</td>\n",
              "      <td>0</td>\n",
              "      <td>0</td>\n",
              "      <td>0</td>\n",
              "      <td>...</td>\n",
              "      <td>1.00</td>\n",
              "      <td>0.00</td>\n",
              "      <td>0.14</td>\n",
              "      <td>0.02</td>\n",
              "      <td>0.0</td>\n",
              "      <td>0.04</td>\n",
              "      <td>0.0</td>\n",
              "      <td>0.01</td>\n",
              "      <td>21</td>\n",
              "      <td>0</td>\n",
              "    </tr>\n",
              "    <tr>\n",
              "      <th>1</th>\n",
              "      <td>22036</td>\n",
              "      <td>0</td>\n",
              "      <td>tcp</td>\n",
              "      <td>http</td>\n",
              "      <td>SF</td>\n",
              "      <td>242</td>\n",
              "      <td>2147</td>\n",
              "      <td>0</td>\n",
              "      <td>0</td>\n",
              "      <td>0</td>\n",
              "      <td>...</td>\n",
              "      <td>1.00</td>\n",
              "      <td>0.00</td>\n",
              "      <td>0.00</td>\n",
              "      <td>0.00</td>\n",
              "      <td>0.0</td>\n",
              "      <td>0.00</td>\n",
              "      <td>0.0</td>\n",
              "      <td>0.00</td>\n",
              "      <td>21</td>\n",
              "      <td>0</td>\n",
              "    </tr>\n",
              "    <tr>\n",
              "      <th>2</th>\n",
              "      <td>19555</td>\n",
              "      <td>0</td>\n",
              "      <td>tcp</td>\n",
              "      <td>http</td>\n",
              "      <td>SF</td>\n",
              "      <td>299</td>\n",
              "      <td>3991</td>\n",
              "      <td>0</td>\n",
              "      <td>0</td>\n",
              "      <td>0</td>\n",
              "      <td>...</td>\n",
              "      <td>1.00</td>\n",
              "      <td>0.00</td>\n",
              "      <td>0.00</td>\n",
              "      <td>0.00</td>\n",
              "      <td>0.0</td>\n",
              "      <td>0.00</td>\n",
              "      <td>0.0</td>\n",
              "      <td>0.00</td>\n",
              "      <td>21</td>\n",
              "      <td>0</td>\n",
              "    </tr>\n",
              "    <tr>\n",
              "      <th>3</th>\n",
              "      <td>11393</td>\n",
              "      <td>0</td>\n",
              "      <td>udp</td>\n",
              "      <td>domain_u</td>\n",
              "      <td>SF</td>\n",
              "      <td>43</td>\n",
              "      <td>133</td>\n",
              "      <td>0</td>\n",
              "      <td>0</td>\n",
              "      <td>0</td>\n",
              "      <td>...</td>\n",
              "      <td>1.00</td>\n",
              "      <td>0.01</td>\n",
              "      <td>0.00</td>\n",
              "      <td>0.00</td>\n",
              "      <td>0.0</td>\n",
              "      <td>0.00</td>\n",
              "      <td>0.0</td>\n",
              "      <td>0.00</td>\n",
              "      <td>21</td>\n",
              "      <td>0</td>\n",
              "    </tr>\n",
              "    <tr>\n",
              "      <th>4</th>\n",
              "      <td>22783</td>\n",
              "      <td>0</td>\n",
              "      <td>tcp</td>\n",
              "      <td>telnet</td>\n",
              "      <td>S0</td>\n",
              "      <td>0</td>\n",
              "      <td>0</td>\n",
              "      <td>0</td>\n",
              "      <td>0</td>\n",
              "      <td>0</td>\n",
              "      <td>...</td>\n",
              "      <td>0.14</td>\n",
              "      <td>0.19</td>\n",
              "      <td>0.05</td>\n",
              "      <td>0.00</td>\n",
              "      <td>0.1</td>\n",
              "      <td>0.67</td>\n",
              "      <td>0.0</td>\n",
              "      <td>0.00</td>\n",
              "      <td>4</td>\n",
              "      <td>0</td>\n",
              "    </tr>\n",
              "  </tbody>\n",
              "</table>\n",
              "<p>5 rows × 44 columns</p>\n",
              "</div>"
            ],
            "text/plain": [
              "      ID  duration protocol_type   service flag  src_bytes  dst_bytes  land  \\\n",
              "0   7060         0           tcp      smtp   SF       1129        327     0   \n",
              "1  22036         0           tcp      http   SF        242       2147     0   \n",
              "2  19555         0           tcp      http   SF        299       3991     0   \n",
              "3  11393         0           udp  domain_u   SF         43        133     0   \n",
              "4  22783         0           tcp    telnet   S0          0          0     0   \n",
              "\n",
              "   wrong_fragment  urgent  ...  dst_host_same_srv_rate  \\\n",
              "0               0       0  ...                    1.00   \n",
              "1               0       0  ...                    1.00   \n",
              "2               0       0  ...                    1.00   \n",
              "3               0       0  ...                    1.00   \n",
              "4               0       0  ...                    0.14   \n",
              "\n",
              "   dst_host_diff_srv_rate  dst_host_same_src_port_rate  \\\n",
              "0                    0.00                         0.14   \n",
              "1                    0.00                         0.00   \n",
              "2                    0.00                         0.00   \n",
              "3                    0.01                         0.00   \n",
              "4                    0.19                         0.05   \n",
              "\n",
              "   dst_host_srv_diff_host_rate  dst_host_serror_rate  \\\n",
              "0                         0.02                   0.0   \n",
              "1                         0.00                   0.0   \n",
              "2                         0.00                   0.0   \n",
              "3                         0.00                   0.0   \n",
              "4                         0.00                   0.1   \n",
              "\n",
              "   dst_host_srv_serror_rate  dst_host_rerror_rate  dst_host_srv_rerror_rate  \\\n",
              "0                      0.04                   0.0                      0.01   \n",
              "1                      0.00                   0.0                      0.00   \n",
              "2                      0.00                   0.0                      0.00   \n",
              "3                      0.00                   0.0                      0.00   \n",
              "4                      0.67                   0.0                      0.00   \n",
              "\n",
              "   level  Class  \n",
              "0     21      0  \n",
              "1     21      0  \n",
              "2     21      0  \n",
              "3     21      0  \n",
              "4      4      0  \n",
              "\n",
              "[5 rows x 44 columns]"
            ]
          },
          "execution_count": 4,
          "metadata": {},
          "output_type": "execute_result"
        }
      ],
      "source": [
        "pf_train.head()"
      ]
    },
    {
      "cell_type": "code",
      "execution_count": null,
      "id": "bd6256db",
      "metadata": {
        "id": "bd6256db",
        "outputId": "04ed20d5-06f8-4b35-f7c2-b5aa76304dba"
      },
      "outputs": [
        {
          "data": {
            "text/html": [
              "<div>\n",
              "<style scoped>\n",
              "    .dataframe tbody tr th:only-of-type {\n",
              "        vertical-align: middle;\n",
              "    }\n",
              "\n",
              "    .dataframe tbody tr th {\n",
              "        vertical-align: top;\n",
              "    }\n",
              "\n",
              "    .dataframe thead th {\n",
              "        text-align: right;\n",
              "    }\n",
              "</style>\n",
              "<table border=\"1\" class=\"dataframe\">\n",
              "  <thead>\n",
              "    <tr style=\"text-align: right;\">\n",
              "      <th></th>\n",
              "      <th>ID</th>\n",
              "      <th>duration</th>\n",
              "      <th>protocol_type</th>\n",
              "      <th>service</th>\n",
              "      <th>flag</th>\n",
              "      <th>src_bytes</th>\n",
              "      <th>dst_bytes</th>\n",
              "      <th>land</th>\n",
              "      <th>wrong_fragment</th>\n",
              "      <th>urgent</th>\n",
              "      <th>...</th>\n",
              "      <th>dst_host_srv_count</th>\n",
              "      <th>dst_host_same_srv_rate</th>\n",
              "      <th>dst_host_diff_srv_rate</th>\n",
              "      <th>dst_host_same_src_port_rate</th>\n",
              "      <th>dst_host_srv_diff_host_rate</th>\n",
              "      <th>dst_host_serror_rate</th>\n",
              "      <th>dst_host_srv_serror_rate</th>\n",
              "      <th>dst_host_rerror_rate</th>\n",
              "      <th>dst_host_srv_rerror_rate</th>\n",
              "      <th>level</th>\n",
              "    </tr>\n",
              "  </thead>\n",
              "  <tbody>\n",
              "    <tr>\n",
              "      <th>0</th>\n",
              "      <td>15831</td>\n",
              "      <td>0</td>\n",
              "      <td>tcp</td>\n",
              "      <td>http</td>\n",
              "      <td>REJ</td>\n",
              "      <td>0</td>\n",
              "      <td>0</td>\n",
              "      <td>0</td>\n",
              "      <td>0</td>\n",
              "      <td>0</td>\n",
              "      <td>...</td>\n",
              "      <td>236</td>\n",
              "      <td>1.00</td>\n",
              "      <td>0.00</td>\n",
              "      <td>0.09</td>\n",
              "      <td>0.01</td>\n",
              "      <td>0.0</td>\n",
              "      <td>0.0</td>\n",
              "      <td>1.0</td>\n",
              "      <td>0.07</td>\n",
              "      <td>21</td>\n",
              "    </tr>\n",
              "    <tr>\n",
              "      <th>1</th>\n",
              "      <td>12617</td>\n",
              "      <td>0</td>\n",
              "      <td>tcp</td>\n",
              "      <td>ftp_data</td>\n",
              "      <td>SF</td>\n",
              "      <td>151</td>\n",
              "      <td>0</td>\n",
              "      <td>0</td>\n",
              "      <td>0</td>\n",
              "      <td>0</td>\n",
              "      <td>...</td>\n",
              "      <td>37</td>\n",
              "      <td>0.33</td>\n",
              "      <td>0.07</td>\n",
              "      <td>0.33</td>\n",
              "      <td>0.05</td>\n",
              "      <td>0.0</td>\n",
              "      <td>0.0</td>\n",
              "      <td>0.0</td>\n",
              "      <td>0.00</td>\n",
              "      <td>20</td>\n",
              "    </tr>\n",
              "    <tr>\n",
              "      <th>2</th>\n",
              "      <td>16328</td>\n",
              "      <td>0</td>\n",
              "      <td>udp</td>\n",
              "      <td>domain_u</td>\n",
              "      <td>SF</td>\n",
              "      <td>44</td>\n",
              "      <td>139</td>\n",
              "      <td>0</td>\n",
              "      <td>0</td>\n",
              "      <td>0</td>\n",
              "      <td>...</td>\n",
              "      <td>255</td>\n",
              "      <td>1.00</td>\n",
              "      <td>0.00</td>\n",
              "      <td>0.00</td>\n",
              "      <td>0.00</td>\n",
              "      <td>0.0</td>\n",
              "      <td>0.0</td>\n",
              "      <td>0.0</td>\n",
              "      <td>0.00</td>\n",
              "      <td>21</td>\n",
              "    </tr>\n",
              "    <tr>\n",
              "      <th>3</th>\n",
              "      <td>11403</td>\n",
              "      <td>0</td>\n",
              "      <td>tcp</td>\n",
              "      <td>http</td>\n",
              "      <td>SF</td>\n",
              "      <td>251</td>\n",
              "      <td>4014</td>\n",
              "      <td>0</td>\n",
              "      <td>0</td>\n",
              "      <td>0</td>\n",
              "      <td>...</td>\n",
              "      <td>255</td>\n",
              "      <td>1.00</td>\n",
              "      <td>0.00</td>\n",
              "      <td>0.00</td>\n",
              "      <td>0.01</td>\n",
              "      <td>0.0</td>\n",
              "      <td>0.0</td>\n",
              "      <td>0.0</td>\n",
              "      <td>0.00</td>\n",
              "      <td>21</td>\n",
              "    </tr>\n",
              "    <tr>\n",
              "      <th>4</th>\n",
              "      <td>11891</td>\n",
              "      <td>0</td>\n",
              "      <td>tcp</td>\n",
              "      <td>smtp</td>\n",
              "      <td>SF</td>\n",
              "      <td>1317</td>\n",
              "      <td>367</td>\n",
              "      <td>0</td>\n",
              "      <td>0</td>\n",
              "      <td>0</td>\n",
              "      <td>...</td>\n",
              "      <td>166</td>\n",
              "      <td>0.80</td>\n",
              "      <td>0.40</td>\n",
              "      <td>0.20</td>\n",
              "      <td>0.02</td>\n",
              "      <td>0.0</td>\n",
              "      <td>0.0</td>\n",
              "      <td>0.0</td>\n",
              "      <td>0.00</td>\n",
              "      <td>21</td>\n",
              "    </tr>\n",
              "  </tbody>\n",
              "</table>\n",
              "<p>5 rows × 43 columns</p>\n",
              "</div>"
            ],
            "text/plain": [
              "      ID  duration protocol_type   service flag  src_bytes  dst_bytes  land  \\\n",
              "0  15831         0           tcp      http  REJ          0          0     0   \n",
              "1  12617         0           tcp  ftp_data   SF        151          0     0   \n",
              "2  16328         0           udp  domain_u   SF         44        139     0   \n",
              "3  11403         0           tcp      http   SF        251       4014     0   \n",
              "4  11891         0           tcp      smtp   SF       1317        367     0   \n",
              "\n",
              "   wrong_fragment  urgent  ...  dst_host_srv_count  dst_host_same_srv_rate  \\\n",
              "0               0       0  ...                 236                    1.00   \n",
              "1               0       0  ...                  37                    0.33   \n",
              "2               0       0  ...                 255                    1.00   \n",
              "3               0       0  ...                 255                    1.00   \n",
              "4               0       0  ...                 166                    0.80   \n",
              "\n",
              "   dst_host_diff_srv_rate  dst_host_same_src_port_rate  \\\n",
              "0                    0.00                         0.09   \n",
              "1                    0.07                         0.33   \n",
              "2                    0.00                         0.00   \n",
              "3                    0.00                         0.00   \n",
              "4                    0.40                         0.20   \n",
              "\n",
              "   dst_host_srv_diff_host_rate  dst_host_serror_rate  \\\n",
              "0                         0.01                   0.0   \n",
              "1                         0.05                   0.0   \n",
              "2                         0.00                   0.0   \n",
              "3                         0.01                   0.0   \n",
              "4                         0.02                   0.0   \n",
              "\n",
              "   dst_host_srv_serror_rate  dst_host_rerror_rate  dst_host_srv_rerror_rate  \\\n",
              "0                       0.0                   1.0                      0.07   \n",
              "1                       0.0                   0.0                      0.00   \n",
              "2                       0.0                   0.0                      0.00   \n",
              "3                       0.0                   0.0                      0.00   \n",
              "4                       0.0                   0.0                      0.00   \n",
              "\n",
              "   level  \n",
              "0     21  \n",
              "1     20  \n",
              "2     21  \n",
              "3     21  \n",
              "4     21  \n",
              "\n",
              "[5 rows x 43 columns]"
            ]
          },
          "execution_count": 5,
          "metadata": {},
          "output_type": "execute_result"
        }
      ],
      "source": [
        "pf_test.head()"
      ]
    },
    {
      "cell_type": "code",
      "execution_count": null,
      "id": "1d6b6dfa",
      "metadata": {
        "id": "1d6b6dfa",
        "outputId": "731af768-7f39-47c5-d30e-fb5e0cb41c4a"
      },
      "outputs": [
        {
          "name": "stdout",
          "output_type": "stream",
          "text": [
            "shape of training data(17251, 44)\n",
            "shape of test data(5751, 43)\n"
          ]
        }
      ],
      "source": [
        "print(f'shape of training data{pf_train.shape}')\n",
        "print(f'shape of test data{pf_test.shape}')"
      ]
    },
    {
      "cell_type": "code",
      "execution_count": null,
      "id": "c9bc2929",
      "metadata": {
        "id": "c9bc2929",
        "outputId": "1e2f9ef6-41fd-41fc-b7d2-2da30872de9f"
      },
      "outputs": [
        {
          "name": "stdout",
          "output_type": "stream",
          "text": [
            "<class 'pandas.core.frame.DataFrame'>\n",
            "RangeIndex: 17251 entries, 0 to 17250\n",
            "Data columns (total 44 columns):\n",
            " #   Column                       Non-Null Count  Dtype  \n",
            "---  ------                       --------------  -----  \n",
            " 0   ID                           17251 non-null  int64  \n",
            " 1   duration                     17251 non-null  int64  \n",
            " 2   protocol_type                17251 non-null  object \n",
            " 3   service                      17251 non-null  object \n",
            " 4   flag                         17251 non-null  object \n",
            " 5   src_bytes                    17251 non-null  int64  \n",
            " 6   dst_bytes                    17251 non-null  int64  \n",
            " 7   land                         17251 non-null  int64  \n",
            " 8   wrong_fragment               17251 non-null  int64  \n",
            " 9   urgent                       17251 non-null  int64  \n",
            " 10  hot                          17251 non-null  int64  \n",
            " 11  num_failed_logins            17251 non-null  int64  \n",
            " 12  logged_in                    17251 non-null  int64  \n",
            " 13  num_compromised              17251 non-null  int64  \n",
            " 14  root_shell                   17251 non-null  int64  \n",
            " 15  su_attempted                 17251 non-null  int64  \n",
            " 16  num_root                     17251 non-null  int64  \n",
            " 17  num_file_creations           17251 non-null  int64  \n",
            " 18  num_shells                   17251 non-null  int64  \n",
            " 19  num_access_files             17251 non-null  int64  \n",
            " 20  num_outbound_cmds            17251 non-null  int64  \n",
            " 21  is_host_login                17251 non-null  int64  \n",
            " 22  is_guest_login               17251 non-null  int64  \n",
            " 23  count                        17251 non-null  int64  \n",
            " 24  srv_count                    17251 non-null  int64  \n",
            " 25  serror_rate                  17251 non-null  float64\n",
            " 26  srv_serror_rate              17251 non-null  float64\n",
            " 27  rerror_rate                  17251 non-null  float64\n",
            " 28  srv_rerror_rate              17251 non-null  float64\n",
            " 29  same_srv_rate                17251 non-null  float64\n",
            " 30  diff_srv_rate                17251 non-null  float64\n",
            " 31  srv_diff_host_rate           17251 non-null  float64\n",
            " 32  dst_host_count               17251 non-null  int64  \n",
            " 33  dst_host_srv_count           17251 non-null  int64  \n",
            " 34  dst_host_same_srv_rate       17251 non-null  float64\n",
            " 35  dst_host_diff_srv_rate       17251 non-null  float64\n",
            " 36  dst_host_same_src_port_rate  17251 non-null  float64\n",
            " 37  dst_host_srv_diff_host_rate  17251 non-null  float64\n",
            " 38  dst_host_serror_rate         17251 non-null  float64\n",
            " 39  dst_host_srv_serror_rate     17251 non-null  float64\n",
            " 40  dst_host_rerror_rate         17251 non-null  float64\n",
            " 41  dst_host_srv_rerror_rate     17251 non-null  float64\n",
            " 42  level                        17251 non-null  int64  \n",
            " 43  Class                        17251 non-null  int64  \n",
            "dtypes: float64(15), int64(26), object(3)\n",
            "memory usage: 5.8+ MB\n"
          ]
        }
      ],
      "source": [
        "pf_train.info()"
      ]
    },
    {
      "cell_type": "markdown",
      "id": "77a24eef",
      "metadata": {
        "id": "77a24eef"
      },
      "source": [
        "## show null values in data \n"
      ]
    },
    {
      "cell_type": "code",
      "execution_count": null,
      "id": "682f6865",
      "metadata": {
        "id": "682f6865",
        "outputId": "cb5adcf3-0b53-4c9b-9111-866ac80ca8f3"
      },
      "outputs": [
        {
          "name": "stdout",
          "output_type": "stream",
          "text": [
            "null values for training dataID                             0\n",
            "duration                       0\n",
            "protocol_type                  0\n",
            "service                        0\n",
            "flag                           0\n",
            "src_bytes                      0\n",
            "dst_bytes                      0\n",
            "land                           0\n",
            "wrong_fragment                 0\n",
            "urgent                         0\n",
            "hot                            0\n",
            "num_failed_logins              0\n",
            "logged_in                      0\n",
            "num_compromised                0\n",
            "root_shell                     0\n",
            "su_attempted                   0\n",
            "num_root                       0\n",
            "num_file_creations             0\n",
            "num_shells                     0\n",
            "num_access_files               0\n",
            "num_outbound_cmds              0\n",
            "is_host_login                  0\n",
            "is_guest_login                 0\n",
            "count                          0\n",
            "srv_count                      0\n",
            "serror_rate                    0\n",
            "srv_serror_rate                0\n",
            "rerror_rate                    0\n",
            "srv_rerror_rate                0\n",
            "same_srv_rate                  0\n",
            "diff_srv_rate                  0\n",
            "srv_diff_host_rate             0\n",
            "dst_host_count                 0\n",
            "dst_host_srv_count             0\n",
            "dst_host_same_srv_rate         0\n",
            "dst_host_diff_srv_rate         0\n",
            "dst_host_same_src_port_rate    0\n",
            "dst_host_srv_diff_host_rate    0\n",
            "dst_host_serror_rate           0\n",
            "dst_host_srv_serror_rate       0\n",
            "dst_host_rerror_rate           0\n",
            "dst_host_srv_rerror_rate       0\n",
            "level                          0\n",
            "Class                          0\n",
            "dtype: int64\n",
            "null values for test dataID                             0\n",
            "duration                       0\n",
            "protocol_type                  0\n",
            "service                        0\n",
            "flag                           0\n",
            "src_bytes                      0\n",
            "dst_bytes                      0\n",
            "land                           0\n",
            "wrong_fragment                 0\n",
            "urgent                         0\n",
            "hot                            0\n",
            "num_failed_logins              0\n",
            "logged_in                      0\n",
            "num_compromised                0\n",
            "root_shell                     0\n",
            "su_attempted                   0\n",
            "num_root                       0\n",
            "num_file_creations             0\n",
            "num_shells                     0\n",
            "num_access_files               0\n",
            "num_outbound_cmds              0\n",
            "is_host_login                  0\n",
            "is_guest_login                 0\n",
            "count                          0\n",
            "srv_count                      0\n",
            "serror_rate                    0\n",
            "srv_serror_rate                0\n",
            "rerror_rate                    0\n",
            "srv_rerror_rate                0\n",
            "same_srv_rate                  0\n",
            "diff_srv_rate                  0\n",
            "srv_diff_host_rate             0\n",
            "dst_host_count                 0\n",
            "dst_host_srv_count             0\n",
            "dst_host_same_srv_rate         0\n",
            "dst_host_diff_srv_rate         0\n",
            "dst_host_same_src_port_rate    0\n",
            "dst_host_srv_diff_host_rate    0\n",
            "dst_host_serror_rate           0\n",
            "dst_host_srv_serror_rate       0\n",
            "dst_host_rerror_rate           0\n",
            "dst_host_srv_rerror_rate       0\n",
            "level                          0\n",
            "dtype: int64\n"
          ]
        }
      ],
      "source": [
        "\n",
        "print(f'null values for training data{pf_train.isnull().sum()}' )#for training data\n",
        "print(f'null values for test data{pf_test.isnull().sum()}')#for testing_data"
      ]
    },
    {
      "cell_type": "markdown",
      "id": "cd4a220f",
      "metadata": {
        "id": "cd4a220f"
      },
      "source": [
        "###  null values not exist in the data so data is not have missing values "
      ]
    },
    {
      "cell_type": "markdown",
      "id": "877ca5f4",
      "metadata": {
        "id": "877ca5f4"
      },
      "source": [
        "## drop id colums from dataset"
      ]
    },
    {
      "cell_type": "code",
      "execution_count": null,
      "id": "dab5f81d",
      "metadata": {
        "id": "dab5f81d",
        "outputId": "3c8bbcc7-ad42-434f-e4b5-19fa8172b946"
      },
      "outputs": [
        {
          "data": {
            "text/html": [
              "<div>\n",
              "<style scoped>\n",
              "    .dataframe tbody tr th:only-of-type {\n",
              "        vertical-align: middle;\n",
              "    }\n",
              "\n",
              "    .dataframe tbody tr th {\n",
              "        vertical-align: top;\n",
              "    }\n",
              "\n",
              "    .dataframe thead th {\n",
              "        text-align: right;\n",
              "    }\n",
              "</style>\n",
              "<table border=\"1\" class=\"dataframe\">\n",
              "  <thead>\n",
              "    <tr style=\"text-align: right;\">\n",
              "      <th></th>\n",
              "      <th>duration</th>\n",
              "      <th>protocol_type</th>\n",
              "      <th>service</th>\n",
              "      <th>flag</th>\n",
              "      <th>src_bytes</th>\n",
              "      <th>dst_bytes</th>\n",
              "      <th>land</th>\n",
              "      <th>wrong_fragment</th>\n",
              "      <th>urgent</th>\n",
              "      <th>hot</th>\n",
              "      <th>...</th>\n",
              "      <th>dst_host_same_srv_rate</th>\n",
              "      <th>dst_host_diff_srv_rate</th>\n",
              "      <th>dst_host_same_src_port_rate</th>\n",
              "      <th>dst_host_srv_diff_host_rate</th>\n",
              "      <th>dst_host_serror_rate</th>\n",
              "      <th>dst_host_srv_serror_rate</th>\n",
              "      <th>dst_host_rerror_rate</th>\n",
              "      <th>dst_host_srv_rerror_rate</th>\n",
              "      <th>level</th>\n",
              "      <th>Class</th>\n",
              "    </tr>\n",
              "  </thead>\n",
              "  <tbody>\n",
              "    <tr>\n",
              "      <th>0</th>\n",
              "      <td>0</td>\n",
              "      <td>tcp</td>\n",
              "      <td>smtp</td>\n",
              "      <td>SF</td>\n",
              "      <td>1129</td>\n",
              "      <td>327</td>\n",
              "      <td>0</td>\n",
              "      <td>0</td>\n",
              "      <td>0</td>\n",
              "      <td>0</td>\n",
              "      <td>...</td>\n",
              "      <td>1.00</td>\n",
              "      <td>0.00</td>\n",
              "      <td>0.14</td>\n",
              "      <td>0.02</td>\n",
              "      <td>0.0</td>\n",
              "      <td>0.04</td>\n",
              "      <td>0.0</td>\n",
              "      <td>0.01</td>\n",
              "      <td>21</td>\n",
              "      <td>0</td>\n",
              "    </tr>\n",
              "    <tr>\n",
              "      <th>1</th>\n",
              "      <td>0</td>\n",
              "      <td>tcp</td>\n",
              "      <td>http</td>\n",
              "      <td>SF</td>\n",
              "      <td>242</td>\n",
              "      <td>2147</td>\n",
              "      <td>0</td>\n",
              "      <td>0</td>\n",
              "      <td>0</td>\n",
              "      <td>0</td>\n",
              "      <td>...</td>\n",
              "      <td>1.00</td>\n",
              "      <td>0.00</td>\n",
              "      <td>0.00</td>\n",
              "      <td>0.00</td>\n",
              "      <td>0.0</td>\n",
              "      <td>0.00</td>\n",
              "      <td>0.0</td>\n",
              "      <td>0.00</td>\n",
              "      <td>21</td>\n",
              "      <td>0</td>\n",
              "    </tr>\n",
              "    <tr>\n",
              "      <th>2</th>\n",
              "      <td>0</td>\n",
              "      <td>tcp</td>\n",
              "      <td>http</td>\n",
              "      <td>SF</td>\n",
              "      <td>299</td>\n",
              "      <td>3991</td>\n",
              "      <td>0</td>\n",
              "      <td>0</td>\n",
              "      <td>0</td>\n",
              "      <td>0</td>\n",
              "      <td>...</td>\n",
              "      <td>1.00</td>\n",
              "      <td>0.00</td>\n",
              "      <td>0.00</td>\n",
              "      <td>0.00</td>\n",
              "      <td>0.0</td>\n",
              "      <td>0.00</td>\n",
              "      <td>0.0</td>\n",
              "      <td>0.00</td>\n",
              "      <td>21</td>\n",
              "      <td>0</td>\n",
              "    </tr>\n",
              "    <tr>\n",
              "      <th>3</th>\n",
              "      <td>0</td>\n",
              "      <td>udp</td>\n",
              "      <td>domain_u</td>\n",
              "      <td>SF</td>\n",
              "      <td>43</td>\n",
              "      <td>133</td>\n",
              "      <td>0</td>\n",
              "      <td>0</td>\n",
              "      <td>0</td>\n",
              "      <td>0</td>\n",
              "      <td>...</td>\n",
              "      <td>1.00</td>\n",
              "      <td>0.01</td>\n",
              "      <td>0.00</td>\n",
              "      <td>0.00</td>\n",
              "      <td>0.0</td>\n",
              "      <td>0.00</td>\n",
              "      <td>0.0</td>\n",
              "      <td>0.00</td>\n",
              "      <td>21</td>\n",
              "      <td>0</td>\n",
              "    </tr>\n",
              "    <tr>\n",
              "      <th>4</th>\n",
              "      <td>0</td>\n",
              "      <td>tcp</td>\n",
              "      <td>telnet</td>\n",
              "      <td>S0</td>\n",
              "      <td>0</td>\n",
              "      <td>0</td>\n",
              "      <td>0</td>\n",
              "      <td>0</td>\n",
              "      <td>0</td>\n",
              "      <td>0</td>\n",
              "      <td>...</td>\n",
              "      <td>0.14</td>\n",
              "      <td>0.19</td>\n",
              "      <td>0.05</td>\n",
              "      <td>0.00</td>\n",
              "      <td>0.1</td>\n",
              "      <td>0.67</td>\n",
              "      <td>0.0</td>\n",
              "      <td>0.00</td>\n",
              "      <td>4</td>\n",
              "      <td>0</td>\n",
              "    </tr>\n",
              "  </tbody>\n",
              "</table>\n",
              "<p>5 rows × 43 columns</p>\n",
              "</div>"
            ],
            "text/plain": [
              "   duration protocol_type   service flag  src_bytes  dst_bytes  land  \\\n",
              "0         0           tcp      smtp   SF       1129        327     0   \n",
              "1         0           tcp      http   SF        242       2147     0   \n",
              "2         0           tcp      http   SF        299       3991     0   \n",
              "3         0           udp  domain_u   SF         43        133     0   \n",
              "4         0           tcp    telnet   S0          0          0     0   \n",
              "\n",
              "   wrong_fragment  urgent  hot  ...  dst_host_same_srv_rate  \\\n",
              "0               0       0    0  ...                    1.00   \n",
              "1               0       0    0  ...                    1.00   \n",
              "2               0       0    0  ...                    1.00   \n",
              "3               0       0    0  ...                    1.00   \n",
              "4               0       0    0  ...                    0.14   \n",
              "\n",
              "   dst_host_diff_srv_rate  dst_host_same_src_port_rate  \\\n",
              "0                    0.00                         0.14   \n",
              "1                    0.00                         0.00   \n",
              "2                    0.00                         0.00   \n",
              "3                    0.01                         0.00   \n",
              "4                    0.19                         0.05   \n",
              "\n",
              "   dst_host_srv_diff_host_rate  dst_host_serror_rate  \\\n",
              "0                         0.02                   0.0   \n",
              "1                         0.00                   0.0   \n",
              "2                         0.00                   0.0   \n",
              "3                         0.00                   0.0   \n",
              "4                         0.00                   0.1   \n",
              "\n",
              "   dst_host_srv_serror_rate  dst_host_rerror_rate  dst_host_srv_rerror_rate  \\\n",
              "0                      0.04                   0.0                      0.01   \n",
              "1                      0.00                   0.0                      0.00   \n",
              "2                      0.00                   0.0                      0.00   \n",
              "3                      0.00                   0.0                      0.00   \n",
              "4                      0.67                   0.0                      0.00   \n",
              "\n",
              "   level  Class  \n",
              "0     21      0  \n",
              "1     21      0  \n",
              "2     21      0  \n",
              "3     21      0  \n",
              "4      4      0  \n",
              "\n",
              "[5 rows x 43 columns]"
            ]
          },
          "execution_count": 9,
          "metadata": {},
          "output_type": "execute_result"
        }
      ],
      "source": [
        "pf_train.drop('ID',axis=1,inplace=True)# drop id in ttraining set\n",
        "pf_train.head()"
      ]
    },
    {
      "cell_type": "code",
      "execution_count": null,
      "id": "71d2317b",
      "metadata": {
        "id": "71d2317b",
        "outputId": "797bd7e4-3870-4195-c67c-16d4bed31e95"
      },
      "outputs": [
        {
          "data": {
            "text/html": [
              "<div>\n",
              "<style scoped>\n",
              "    .dataframe tbody tr th:only-of-type {\n",
              "        vertical-align: middle;\n",
              "    }\n",
              "\n",
              "    .dataframe tbody tr th {\n",
              "        vertical-align: top;\n",
              "    }\n",
              "\n",
              "    .dataframe thead th {\n",
              "        text-align: right;\n",
              "    }\n",
              "</style>\n",
              "<table border=\"1\" class=\"dataframe\">\n",
              "  <thead>\n",
              "    <tr style=\"text-align: right;\">\n",
              "      <th></th>\n",
              "      <th>duration</th>\n",
              "      <th>protocol_type</th>\n",
              "      <th>service</th>\n",
              "      <th>flag</th>\n",
              "      <th>src_bytes</th>\n",
              "      <th>dst_bytes</th>\n",
              "      <th>land</th>\n",
              "      <th>wrong_fragment</th>\n",
              "      <th>urgent</th>\n",
              "      <th>hot</th>\n",
              "      <th>...</th>\n",
              "      <th>dst_host_srv_count</th>\n",
              "      <th>dst_host_same_srv_rate</th>\n",
              "      <th>dst_host_diff_srv_rate</th>\n",
              "      <th>dst_host_same_src_port_rate</th>\n",
              "      <th>dst_host_srv_diff_host_rate</th>\n",
              "      <th>dst_host_serror_rate</th>\n",
              "      <th>dst_host_srv_serror_rate</th>\n",
              "      <th>dst_host_rerror_rate</th>\n",
              "      <th>dst_host_srv_rerror_rate</th>\n",
              "      <th>level</th>\n",
              "    </tr>\n",
              "  </thead>\n",
              "  <tbody>\n",
              "    <tr>\n",
              "      <th>0</th>\n",
              "      <td>0</td>\n",
              "      <td>tcp</td>\n",
              "      <td>http</td>\n",
              "      <td>REJ</td>\n",
              "      <td>0</td>\n",
              "      <td>0</td>\n",
              "      <td>0</td>\n",
              "      <td>0</td>\n",
              "      <td>0</td>\n",
              "      <td>0</td>\n",
              "      <td>...</td>\n",
              "      <td>236</td>\n",
              "      <td>1.00</td>\n",
              "      <td>0.00</td>\n",
              "      <td>0.09</td>\n",
              "      <td>0.01</td>\n",
              "      <td>0.0</td>\n",
              "      <td>0.0</td>\n",
              "      <td>1.0</td>\n",
              "      <td>0.07</td>\n",
              "      <td>21</td>\n",
              "    </tr>\n",
              "    <tr>\n",
              "      <th>1</th>\n",
              "      <td>0</td>\n",
              "      <td>tcp</td>\n",
              "      <td>ftp_data</td>\n",
              "      <td>SF</td>\n",
              "      <td>151</td>\n",
              "      <td>0</td>\n",
              "      <td>0</td>\n",
              "      <td>0</td>\n",
              "      <td>0</td>\n",
              "      <td>0</td>\n",
              "      <td>...</td>\n",
              "      <td>37</td>\n",
              "      <td>0.33</td>\n",
              "      <td>0.07</td>\n",
              "      <td>0.33</td>\n",
              "      <td>0.05</td>\n",
              "      <td>0.0</td>\n",
              "      <td>0.0</td>\n",
              "      <td>0.0</td>\n",
              "      <td>0.00</td>\n",
              "      <td>20</td>\n",
              "    </tr>\n",
              "    <tr>\n",
              "      <th>2</th>\n",
              "      <td>0</td>\n",
              "      <td>udp</td>\n",
              "      <td>domain_u</td>\n",
              "      <td>SF</td>\n",
              "      <td>44</td>\n",
              "      <td>139</td>\n",
              "      <td>0</td>\n",
              "      <td>0</td>\n",
              "      <td>0</td>\n",
              "      <td>0</td>\n",
              "      <td>...</td>\n",
              "      <td>255</td>\n",
              "      <td>1.00</td>\n",
              "      <td>0.00</td>\n",
              "      <td>0.00</td>\n",
              "      <td>0.00</td>\n",
              "      <td>0.0</td>\n",
              "      <td>0.0</td>\n",
              "      <td>0.0</td>\n",
              "      <td>0.00</td>\n",
              "      <td>21</td>\n",
              "    </tr>\n",
              "    <tr>\n",
              "      <th>3</th>\n",
              "      <td>0</td>\n",
              "      <td>tcp</td>\n",
              "      <td>http</td>\n",
              "      <td>SF</td>\n",
              "      <td>251</td>\n",
              "      <td>4014</td>\n",
              "      <td>0</td>\n",
              "      <td>0</td>\n",
              "      <td>0</td>\n",
              "      <td>0</td>\n",
              "      <td>...</td>\n",
              "      <td>255</td>\n",
              "      <td>1.00</td>\n",
              "      <td>0.00</td>\n",
              "      <td>0.00</td>\n",
              "      <td>0.01</td>\n",
              "      <td>0.0</td>\n",
              "      <td>0.0</td>\n",
              "      <td>0.0</td>\n",
              "      <td>0.00</td>\n",
              "      <td>21</td>\n",
              "    </tr>\n",
              "    <tr>\n",
              "      <th>4</th>\n",
              "      <td>0</td>\n",
              "      <td>tcp</td>\n",
              "      <td>smtp</td>\n",
              "      <td>SF</td>\n",
              "      <td>1317</td>\n",
              "      <td>367</td>\n",
              "      <td>0</td>\n",
              "      <td>0</td>\n",
              "      <td>0</td>\n",
              "      <td>0</td>\n",
              "      <td>...</td>\n",
              "      <td>166</td>\n",
              "      <td>0.80</td>\n",
              "      <td>0.40</td>\n",
              "      <td>0.20</td>\n",
              "      <td>0.02</td>\n",
              "      <td>0.0</td>\n",
              "      <td>0.0</td>\n",
              "      <td>0.0</td>\n",
              "      <td>0.00</td>\n",
              "      <td>21</td>\n",
              "    </tr>\n",
              "  </tbody>\n",
              "</table>\n",
              "<p>5 rows × 42 columns</p>\n",
              "</div>"
            ],
            "text/plain": [
              "   duration protocol_type   service flag  src_bytes  dst_bytes  land  \\\n",
              "0         0           tcp      http  REJ          0          0     0   \n",
              "1         0           tcp  ftp_data   SF        151          0     0   \n",
              "2         0           udp  domain_u   SF         44        139     0   \n",
              "3         0           tcp      http   SF        251       4014     0   \n",
              "4         0           tcp      smtp   SF       1317        367     0   \n",
              "\n",
              "   wrong_fragment  urgent  hot  ...  dst_host_srv_count  \\\n",
              "0               0       0    0  ...                 236   \n",
              "1               0       0    0  ...                  37   \n",
              "2               0       0    0  ...                 255   \n",
              "3               0       0    0  ...                 255   \n",
              "4               0       0    0  ...                 166   \n",
              "\n",
              "   dst_host_same_srv_rate  dst_host_diff_srv_rate  \\\n",
              "0                    1.00                    0.00   \n",
              "1                    0.33                    0.07   \n",
              "2                    1.00                    0.00   \n",
              "3                    1.00                    0.00   \n",
              "4                    0.80                    0.40   \n",
              "\n",
              "   dst_host_same_src_port_rate  dst_host_srv_diff_host_rate  \\\n",
              "0                         0.09                         0.01   \n",
              "1                         0.33                         0.05   \n",
              "2                         0.00                         0.00   \n",
              "3                         0.00                         0.01   \n",
              "4                         0.20                         0.02   \n",
              "\n",
              "   dst_host_serror_rate  dst_host_srv_serror_rate  dst_host_rerror_rate  \\\n",
              "0                   0.0                       0.0                   1.0   \n",
              "1                   0.0                       0.0                   0.0   \n",
              "2                   0.0                       0.0                   0.0   \n",
              "3                   0.0                       0.0                   0.0   \n",
              "4                   0.0                       0.0                   0.0   \n",
              "\n",
              "   dst_host_srv_rerror_rate  level  \n",
              "0                      0.07     21  \n",
              "1                      0.00     20  \n",
              "2                      0.00     21  \n",
              "3                      0.00     21  \n",
              "4                      0.00     21  \n",
              "\n",
              "[5 rows x 42 columns]"
            ]
          },
          "execution_count": 10,
          "metadata": {},
          "output_type": "execute_result"
        }
      ],
      "source": [
        "pf_test.drop('ID',axis=1,inplace=True) #drop id in test set\n",
        "pf_test.head()"
      ]
    },
    {
      "cell_type": "markdown",
      "id": "2a6da66e",
      "metadata": {
        "id": "2a6da66e"
      },
      "source": [
        "## determine categorical  feature in data "
      ]
    },
    {
      "cell_type": "code",
      "execution_count": null,
      "id": "9e12329a",
      "metadata": {
        "id": "9e12329a",
        "outputId": "f1ac6b2a-a522-438b-be9c-6d968105c1c3"
      },
      "outputs": [
        {
          "name": "stdout",
          "output_type": "stream",
          "text": [
            "catigorical data in training set ['protocol_type', 'service', 'flag'] \n",
            "catigorical data in test set ['protocol_type', 'service', 'flag'] \n"
          ]
        }
      ],
      "source": [
        "#for training set\n",
        "cat_train =[var for var in pf_train.columns if pf_train[var].dtype=='object']  \n",
        "print(f'catigorical data in training set {cat_train} ')\n",
        "#for test set\n",
        "cat_test =[var for var in pf_test.columns if pf_test[var].dtype=='object']  \n",
        "print(f'catigorical data in test set {cat_test} ')\n"
      ]
    },
    {
      "cell_type": "markdown",
      "id": "6ef655f3",
      "metadata": {
        "id": "6ef655f3"
      },
      "source": [
        "## 'protocol_type', 'service', 'flag' are the categorical feature in data now we will see this features values "
      ]
    },
    {
      "cell_type": "code",
      "execution_count": null,
      "id": "25bcb8d7",
      "metadata": {
        "id": "25bcb8d7",
        "outputId": "d97d9119-64d7-4789-e2fc-c1854a633b66"
      },
      "outputs": [
        {
          "name": "stdout",
          "output_type": "stream",
          "text": [
            "the categorical values in training feature protocol_type is ['tcp' 'udp' 'icmp'] and has numbers tcp     14070\n",
            "udp      2011\n",
            "icmp     1170\n",
            "Name: protocol_type, dtype: int64\n",
            "the categorical values in protocol_type is ['tcp' 'udp' 'icmp'] and has numbers tcp     4670\n",
            "udp      714\n",
            "icmp     367\n",
            "Name: protocol_type, dtype: int64\n"
          ]
        }
      ],
      "source": [
        "# for protocol_type in training set \n",
        "print (f'the categorical values in training feature protocol_type is { pf_train.protocol_type.unique() } and has numbers {pf_train.protocol_type.value_counts()}')\n",
        "#for protocol_type in test set \n",
        "print (f'the categorical values in protocol_type is { pf_test.protocol_type.unique() } and has numbers {pf_test.protocol_type.value_counts()}')"
      ]
    },
    {
      "cell_type": "code",
      "execution_count": null,
      "id": "c0e0b32b",
      "metadata": {
        "id": "c0e0b32b",
        "outputId": "84a1490e-c51b-4582-d08a-1c46bc461af5"
      },
      "outputs": [
        {
          "name": "stdout",
          "output_type": "stream",
          "text": [
            "the categorical values in training feature service is ['smtp' 'http' 'domain_u' 'telnet' 'supdup' 'private' 'ftp_data' 'uucp'\n",
            " 'eco_i' 'mtp' 'ctf' 'bgp' 'ecr_i' 'ldap' 'ftp' 'daytime' 'hostnames'\n",
            " 'auth' 'name' 'efs' 'other' 'urp_i' 'netbios_ns' 'iso_tsap' 'finger'\n",
            " 'vmnet' 'systat' 'red_i' 'uucp_path' 'exec' 'netbios_ssn' 'time' 'klogin'\n",
            " 'Z39_50' 'domain' 'login' 'imap4' 'courier' 'http_443' 'sunrpc' 'whois'\n",
            " 'link' 'pop_3' 'csnet_ns' 'netbios_dgm' 'gopher' 'sql_net' 'netstat'\n",
            " 'echo' 'nnsp' 'kshell' 'discard' 'ssh' 'IRC' 'ntp_u' 'X11' 'pop_2' 'nntp'\n",
            " 'pm_dump' 'printer' 'shell' 'rje' 'urh_i' 'remote_job' 'http_8001'\n",
            " 'tim_i'] and has numbers http         5376\n",
            "private      3074\n",
            "domain_u     1202\n",
            "smtp          984\n",
            "ftp_data      958\n",
            "             ... \n",
            "pm_dump         3\n",
            "urh_i           3\n",
            "red_i           2\n",
            "http_8001       1\n",
            "tim_i           1\n",
            "Name: service, Length: 66, dtype: int64\n",
            "the categorical values numbers  in training feature  service 66 labels\n",
            "the categorical values in test feature service is ['http' 'ftp_data' 'domain_u' 'smtp' 'pop_3' 'other' 'telnet' 'eco_i'\n",
            " 'private' 'finger' 'echo' 'courier' 'ecr_i' 'Z39_50' 'iso_tsap'\n",
            " 'netbios_ns' 'vmnet' 'kshell' 'ntp_u' 'rje' 'http_443' 'ldap' 'daytime'\n",
            " 'csnet_ns' 'exec' 'systat' 'imap4' 'mtp' 'ctf' 'discard' 'name' 'bgp'\n",
            " 'time' 'ssh' 'urp_i' 'supdup' 'ftp' 'link' 'uucp' 'gopher' 'klogin'\n",
            " 'uucp_path' 'pop_2' 'netbios_dgm' 'netstat' 'auth' 'nnsp' 'sql_net'\n",
            " 'whois' 'sunrpc' 'netbios_ssn' 'X11' 'hostnames' 'nntp' 'urh_i' 'efs'\n",
            " 'IRC' 'shell' 'printer' 'login' 'remote_job' 'domain' 'red_i'] and has numbers http          1748\n",
            "private        995\n",
            "domain_u       435\n",
            "smtp           329\n",
            "ftp_data       310\n",
            "              ... \n",
            "rje              4\n",
            "remote_job       4\n",
            "shell            3\n",
            "urh_i            1\n",
            "red_i            1\n",
            "Name: service, Length: 63, dtype: int64\n",
            "the categorical values numbers in test feature  service 63 labels\n"
          ]
        }
      ],
      "source": [
        "# service in training set\n",
        "print (f'the categorical values in training feature service is { pf_train.service.unique() } and has numbers {pf_train.service.value_counts()}')\n",
        "print (f'the categorical values numbers  in training feature  service {pf_train.service.nunique()} labels')\n",
        "# service in test set\n",
        "print (f'the categorical values in test feature service is { pf_test.service.unique() } and has numbers {pf_test.service.value_counts()}')\n",
        "print (f'the categorical values numbers in test feature  service {pf_test.service.nunique()} labels')"
      ]
    },
    {
      "cell_type": "code",
      "execution_count": null,
      "id": "e6a7293d",
      "metadata": {
        "id": "e6a7293d",
        "outputId": "8020a18c-8a2b-4781-e642-6da08b74886e"
      },
      "outputs": [
        {
          "name": "stdout",
          "output_type": "stream",
          "text": [
            "the categorical values in training feature service is ['SF' 'S0' 'REJ' 'RSTR' 'RSTO' 'S2' 'S1' 'RSTOS0' 'SH' 'OTH' 'S3'] and has numbers SF        10114\n",
            "S0         4943\n",
            "REJ        1512\n",
            "RSTR        333\n",
            "RSTO        208\n",
            "S1           60\n",
            "SH           37\n",
            "RSTOS0       18\n",
            "S2           15\n",
            "S3            9\n",
            "OTH           2\n",
            "Name: flag, dtype: int64\n",
            "the categorical values numbers  in train featurew service 11 labels\n",
            "the categorical values in training feature service is ['REJ' 'SF' 'S0' 'RSTR' 'RSTO' 'S3' 'SH' 'S1' 'S2' 'RSTOS0' 'OTH'] and has numbers SF        3357\n",
            "S0        1623\n",
            "REJ        530\n",
            "RSTR       129\n",
            "RSTO        74\n",
            "S1          21\n",
            "SH           5\n",
            "S3           4\n",
            "S2           4\n",
            "RSTOS0       2\n",
            "OTH          2\n",
            "Name: flag, dtype: int64\n",
            "the categorical values numbers  in train featurew service 11 labels\n"
          ]
        }
      ],
      "source": [
        "#flag for training set \n",
        "print (f'the categorical values in training feature service is { pf_train.flag.unique() } and has numbers {pf_train.flag.value_counts()}')\n",
        "print (f'the categorical values numbers  in train featurew service {pf_train.flag.nunique()} labels')\n",
        "#flag for test set \n",
        "print (f'the categorical values in training feature service is { pf_test.flag.unique() } and has numbers {pf_test.flag.value_counts()}')\n",
        "print (f'the categorical values numbers  in train featurew service {pf_test.flag.nunique()} labels')"
      ]
    },
    {
      "cell_type": "markdown",
      "id": "2b5c4a9b",
      "metadata": {
        "id": "2b5c4a9b"
      },
      "source": [
        "# data preprocessing"
      ]
    },
    {
      "cell_type": "markdown",
      "id": "ec6d9cec",
      "metadata": {
        "id": "ec6d9cec"
      },
      "source": [
        "## do hot encoding for training and test catigorical data  "
      ]
    },
    {
      "cell_type": "code",
      "execution_count": null,
      "id": "2d53c08c",
      "metadata": {
        "id": "2d53c08c",
        "outputId": "3dfa5fa3-83f0-47b9-f27d-21ede9604690"
      },
      "outputs": [
        {
          "data": {
            "text/html": [
              "<div>\n",
              "<style scoped>\n",
              "    .dataframe tbody tr th:only-of-type {\n",
              "        vertical-align: middle;\n",
              "    }\n",
              "\n",
              "    .dataframe tbody tr th {\n",
              "        vertical-align: top;\n",
              "    }\n",
              "\n",
              "    .dataframe thead th {\n",
              "        text-align: right;\n",
              "    }\n",
              "</style>\n",
              "<table border=\"1\" class=\"dataframe\">\n",
              "  <thead>\n",
              "    <tr style=\"text-align: right;\">\n",
              "      <th></th>\n",
              "      <th>protocol_type</th>\n",
              "      <th>service</th>\n",
              "      <th>flag</th>\n",
              "    </tr>\n",
              "  </thead>\n",
              "  <tbody>\n",
              "    <tr>\n",
              "      <th>0</th>\n",
              "      <td>tcp</td>\n",
              "      <td>smtp</td>\n",
              "      <td>SF</td>\n",
              "    </tr>\n",
              "    <tr>\n",
              "      <th>1</th>\n",
              "      <td>tcp</td>\n",
              "      <td>http</td>\n",
              "      <td>SF</td>\n",
              "    </tr>\n",
              "    <tr>\n",
              "      <th>2</th>\n",
              "      <td>tcp</td>\n",
              "      <td>http</td>\n",
              "      <td>SF</td>\n",
              "    </tr>\n",
              "    <tr>\n",
              "      <th>3</th>\n",
              "      <td>udp</td>\n",
              "      <td>domain_u</td>\n",
              "      <td>SF</td>\n",
              "    </tr>\n",
              "    <tr>\n",
              "      <th>4</th>\n",
              "      <td>tcp</td>\n",
              "      <td>telnet</td>\n",
              "      <td>S0</td>\n",
              "    </tr>\n",
              "  </tbody>\n",
              "</table>\n",
              "</div>"
            ],
            "text/plain": [
              "  protocol_type   service flag\n",
              "0           tcp      smtp   SF\n",
              "1           tcp      http   SF\n",
              "2           tcp      http   SF\n",
              "3           udp  domain_u   SF\n",
              "4           tcp    telnet   S0"
            ]
          },
          "execution_count": 15,
          "metadata": {},
          "output_type": "execute_result"
        }
      ],
      "source": [
        "cat_train_data=pf_train[['protocol_type','service','flag']] # split catigorical data from training data \n",
        "cat_train_data.head()\n"
      ]
    },
    {
      "cell_type": "code",
      "execution_count": null,
      "id": "8e0fcd4c",
      "metadata": {
        "id": "8e0fcd4c",
        "outputId": "d4129362-1363-4ddb-c67f-43c9999dd164"
      },
      "outputs": [
        {
          "data": {
            "text/html": [
              "<div>\n",
              "<style scoped>\n",
              "    .dataframe tbody tr th:only-of-type {\n",
              "        vertical-align: middle;\n",
              "    }\n",
              "\n",
              "    .dataframe tbody tr th {\n",
              "        vertical-align: top;\n",
              "    }\n",
              "\n",
              "    .dataframe thead th {\n",
              "        text-align: right;\n",
              "    }\n",
              "</style>\n",
              "<table border=\"1\" class=\"dataframe\">\n",
              "  <thead>\n",
              "    <tr style=\"text-align: right;\">\n",
              "      <th></th>\n",
              "      <th>duration</th>\n",
              "      <th>protocol_type</th>\n",
              "      <th>service</th>\n",
              "      <th>flag</th>\n",
              "      <th>src_bytes</th>\n",
              "      <th>dst_bytes</th>\n",
              "      <th>land</th>\n",
              "      <th>wrong_fragment</th>\n",
              "      <th>urgent</th>\n",
              "      <th>hot</th>\n",
              "      <th>...</th>\n",
              "      <th>dst_host_same_srv_rate</th>\n",
              "      <th>dst_host_diff_srv_rate</th>\n",
              "      <th>dst_host_same_src_port_rate</th>\n",
              "      <th>dst_host_srv_diff_host_rate</th>\n",
              "      <th>dst_host_serror_rate</th>\n",
              "      <th>dst_host_srv_serror_rate</th>\n",
              "      <th>dst_host_rerror_rate</th>\n",
              "      <th>dst_host_srv_rerror_rate</th>\n",
              "      <th>level</th>\n",
              "      <th>Class</th>\n",
              "    </tr>\n",
              "  </thead>\n",
              "  <tbody>\n",
              "    <tr>\n",
              "      <th>0</th>\n",
              "      <td>0</td>\n",
              "      <td>tcp</td>\n",
              "      <td>smtp</td>\n",
              "      <td>SF</td>\n",
              "      <td>1129</td>\n",
              "      <td>327</td>\n",
              "      <td>0</td>\n",
              "      <td>0</td>\n",
              "      <td>0</td>\n",
              "      <td>0</td>\n",
              "      <td>...</td>\n",
              "      <td>1.00</td>\n",
              "      <td>0.00</td>\n",
              "      <td>0.14</td>\n",
              "      <td>0.02</td>\n",
              "      <td>0.0</td>\n",
              "      <td>0.04</td>\n",
              "      <td>0.0</td>\n",
              "      <td>0.01</td>\n",
              "      <td>21</td>\n",
              "      <td>0</td>\n",
              "    </tr>\n",
              "    <tr>\n",
              "      <th>1</th>\n",
              "      <td>0</td>\n",
              "      <td>tcp</td>\n",
              "      <td>http</td>\n",
              "      <td>SF</td>\n",
              "      <td>242</td>\n",
              "      <td>2147</td>\n",
              "      <td>0</td>\n",
              "      <td>0</td>\n",
              "      <td>0</td>\n",
              "      <td>0</td>\n",
              "      <td>...</td>\n",
              "      <td>1.00</td>\n",
              "      <td>0.00</td>\n",
              "      <td>0.00</td>\n",
              "      <td>0.00</td>\n",
              "      <td>0.0</td>\n",
              "      <td>0.00</td>\n",
              "      <td>0.0</td>\n",
              "      <td>0.00</td>\n",
              "      <td>21</td>\n",
              "      <td>0</td>\n",
              "    </tr>\n",
              "    <tr>\n",
              "      <th>2</th>\n",
              "      <td>0</td>\n",
              "      <td>tcp</td>\n",
              "      <td>http</td>\n",
              "      <td>SF</td>\n",
              "      <td>299</td>\n",
              "      <td>3991</td>\n",
              "      <td>0</td>\n",
              "      <td>0</td>\n",
              "      <td>0</td>\n",
              "      <td>0</td>\n",
              "      <td>...</td>\n",
              "      <td>1.00</td>\n",
              "      <td>0.00</td>\n",
              "      <td>0.00</td>\n",
              "      <td>0.00</td>\n",
              "      <td>0.0</td>\n",
              "      <td>0.00</td>\n",
              "      <td>0.0</td>\n",
              "      <td>0.00</td>\n",
              "      <td>21</td>\n",
              "      <td>0</td>\n",
              "    </tr>\n",
              "    <tr>\n",
              "      <th>3</th>\n",
              "      <td>0</td>\n",
              "      <td>udp</td>\n",
              "      <td>domain_u</td>\n",
              "      <td>SF</td>\n",
              "      <td>43</td>\n",
              "      <td>133</td>\n",
              "      <td>0</td>\n",
              "      <td>0</td>\n",
              "      <td>0</td>\n",
              "      <td>0</td>\n",
              "      <td>...</td>\n",
              "      <td>1.00</td>\n",
              "      <td>0.01</td>\n",
              "      <td>0.00</td>\n",
              "      <td>0.00</td>\n",
              "      <td>0.0</td>\n",
              "      <td>0.00</td>\n",
              "      <td>0.0</td>\n",
              "      <td>0.00</td>\n",
              "      <td>21</td>\n",
              "      <td>0</td>\n",
              "    </tr>\n",
              "    <tr>\n",
              "      <th>4</th>\n",
              "      <td>0</td>\n",
              "      <td>tcp</td>\n",
              "      <td>telnet</td>\n",
              "      <td>S0</td>\n",
              "      <td>0</td>\n",
              "      <td>0</td>\n",
              "      <td>0</td>\n",
              "      <td>0</td>\n",
              "      <td>0</td>\n",
              "      <td>0</td>\n",
              "      <td>...</td>\n",
              "      <td>0.14</td>\n",
              "      <td>0.19</td>\n",
              "      <td>0.05</td>\n",
              "      <td>0.00</td>\n",
              "      <td>0.1</td>\n",
              "      <td>0.67</td>\n",
              "      <td>0.0</td>\n",
              "      <td>0.00</td>\n",
              "      <td>4</td>\n",
              "      <td>0</td>\n",
              "    </tr>\n",
              "  </tbody>\n",
              "</table>\n",
              "<p>5 rows × 43 columns</p>\n",
              "</div>"
            ],
            "text/plain": [
              "   duration protocol_type   service flag  src_bytes  dst_bytes  land  \\\n",
              "0         0           tcp      smtp   SF       1129        327     0   \n",
              "1         0           tcp      http   SF        242       2147     0   \n",
              "2         0           tcp      http   SF        299       3991     0   \n",
              "3         0           udp  domain_u   SF         43        133     0   \n",
              "4         0           tcp    telnet   S0          0          0     0   \n",
              "\n",
              "   wrong_fragment  urgent  hot  ...  dst_host_same_srv_rate  \\\n",
              "0               0       0    0  ...                    1.00   \n",
              "1               0       0    0  ...                    1.00   \n",
              "2               0       0    0  ...                    1.00   \n",
              "3               0       0    0  ...                    1.00   \n",
              "4               0       0    0  ...                    0.14   \n",
              "\n",
              "   dst_host_diff_srv_rate  dst_host_same_src_port_rate  \\\n",
              "0                    0.00                         0.14   \n",
              "1                    0.00                         0.00   \n",
              "2                    0.00                         0.00   \n",
              "3                    0.01                         0.00   \n",
              "4                    0.19                         0.05   \n",
              "\n",
              "   dst_host_srv_diff_host_rate  dst_host_serror_rate  \\\n",
              "0                         0.02                   0.0   \n",
              "1                         0.00                   0.0   \n",
              "2                         0.00                   0.0   \n",
              "3                         0.00                   0.0   \n",
              "4                         0.00                   0.1   \n",
              "\n",
              "   dst_host_srv_serror_rate  dst_host_rerror_rate  dst_host_srv_rerror_rate  \\\n",
              "0                      0.04                   0.0                      0.01   \n",
              "1                      0.00                   0.0                      0.00   \n",
              "2                      0.00                   0.0                      0.00   \n",
              "3                      0.00                   0.0                      0.00   \n",
              "4                      0.67                   0.0                      0.00   \n",
              "\n",
              "   level  Class  \n",
              "0     21      0  \n",
              "1     21      0  \n",
              "2     21      0  \n",
              "3     21      0  \n",
              "4      4      0  \n",
              "\n",
              "[5 rows x 43 columns]"
            ]
          },
          "execution_count": 16,
          "metadata": {},
          "output_type": "execute_result"
        }
      ],
      "source": [
        "pf_train.head()"
      ]
    },
    {
      "cell_type": "code",
      "execution_count": null,
      "id": "358b3e9d",
      "metadata": {
        "id": "358b3e9d"
      },
      "outputs": [],
      "source": [
        "numirical_train=pf_train.drop(['protocol_type','service','flag'],axis=1) #get numerical features"
      ]
    },
    {
      "cell_type": "code",
      "execution_count": null,
      "id": "a839fff0",
      "metadata": {
        "id": "a839fff0",
        "outputId": "1f42f270-67a7-4616-a9d6-dccb7f40137a"
      },
      "outputs": [
        {
          "data": {
            "text/html": [
              "<div>\n",
              "<style scoped>\n",
              "    .dataframe tbody tr th:only-of-type {\n",
              "        vertical-align: middle;\n",
              "    }\n",
              "\n",
              "    .dataframe tbody tr th {\n",
              "        vertical-align: top;\n",
              "    }\n",
              "\n",
              "    .dataframe thead th {\n",
              "        text-align: right;\n",
              "    }\n",
              "</style>\n",
              "<table border=\"1\" class=\"dataframe\">\n",
              "  <thead>\n",
              "    <tr style=\"text-align: right;\">\n",
              "      <th></th>\n",
              "      <th>duration</th>\n",
              "      <th>src_bytes</th>\n",
              "      <th>dst_bytes</th>\n",
              "      <th>land</th>\n",
              "      <th>wrong_fragment</th>\n",
              "      <th>urgent</th>\n",
              "      <th>hot</th>\n",
              "      <th>num_failed_logins</th>\n",
              "      <th>logged_in</th>\n",
              "      <th>num_compromised</th>\n",
              "      <th>...</th>\n",
              "      <th>dst_host_same_srv_rate</th>\n",
              "      <th>dst_host_diff_srv_rate</th>\n",
              "      <th>dst_host_same_src_port_rate</th>\n",
              "      <th>dst_host_srv_diff_host_rate</th>\n",
              "      <th>dst_host_serror_rate</th>\n",
              "      <th>dst_host_srv_serror_rate</th>\n",
              "      <th>dst_host_rerror_rate</th>\n",
              "      <th>dst_host_srv_rerror_rate</th>\n",
              "      <th>level</th>\n",
              "      <th>Class</th>\n",
              "    </tr>\n",
              "  </thead>\n",
              "  <tbody>\n",
              "    <tr>\n",
              "      <th>0</th>\n",
              "      <td>0</td>\n",
              "      <td>1129</td>\n",
              "      <td>327</td>\n",
              "      <td>0</td>\n",
              "      <td>0</td>\n",
              "      <td>0</td>\n",
              "      <td>0</td>\n",
              "      <td>0</td>\n",
              "      <td>1</td>\n",
              "      <td>0</td>\n",
              "      <td>...</td>\n",
              "      <td>1.00</td>\n",
              "      <td>0.00</td>\n",
              "      <td>0.14</td>\n",
              "      <td>0.02</td>\n",
              "      <td>0.0</td>\n",
              "      <td>0.04</td>\n",
              "      <td>0.0</td>\n",
              "      <td>0.01</td>\n",
              "      <td>21</td>\n",
              "      <td>0</td>\n",
              "    </tr>\n",
              "    <tr>\n",
              "      <th>1</th>\n",
              "      <td>0</td>\n",
              "      <td>242</td>\n",
              "      <td>2147</td>\n",
              "      <td>0</td>\n",
              "      <td>0</td>\n",
              "      <td>0</td>\n",
              "      <td>0</td>\n",
              "      <td>0</td>\n",
              "      <td>1</td>\n",
              "      <td>0</td>\n",
              "      <td>...</td>\n",
              "      <td>1.00</td>\n",
              "      <td>0.00</td>\n",
              "      <td>0.00</td>\n",
              "      <td>0.00</td>\n",
              "      <td>0.0</td>\n",
              "      <td>0.00</td>\n",
              "      <td>0.0</td>\n",
              "      <td>0.00</td>\n",
              "      <td>21</td>\n",
              "      <td>0</td>\n",
              "    </tr>\n",
              "    <tr>\n",
              "      <th>2</th>\n",
              "      <td>0</td>\n",
              "      <td>299</td>\n",
              "      <td>3991</td>\n",
              "      <td>0</td>\n",
              "      <td>0</td>\n",
              "      <td>0</td>\n",
              "      <td>0</td>\n",
              "      <td>0</td>\n",
              "      <td>1</td>\n",
              "      <td>0</td>\n",
              "      <td>...</td>\n",
              "      <td>1.00</td>\n",
              "      <td>0.00</td>\n",
              "      <td>0.00</td>\n",
              "      <td>0.00</td>\n",
              "      <td>0.0</td>\n",
              "      <td>0.00</td>\n",
              "      <td>0.0</td>\n",
              "      <td>0.00</td>\n",
              "      <td>21</td>\n",
              "      <td>0</td>\n",
              "    </tr>\n",
              "    <tr>\n",
              "      <th>3</th>\n",
              "      <td>0</td>\n",
              "      <td>43</td>\n",
              "      <td>133</td>\n",
              "      <td>0</td>\n",
              "      <td>0</td>\n",
              "      <td>0</td>\n",
              "      <td>0</td>\n",
              "      <td>0</td>\n",
              "      <td>0</td>\n",
              "      <td>0</td>\n",
              "      <td>...</td>\n",
              "      <td>1.00</td>\n",
              "      <td>0.01</td>\n",
              "      <td>0.00</td>\n",
              "      <td>0.00</td>\n",
              "      <td>0.0</td>\n",
              "      <td>0.00</td>\n",
              "      <td>0.0</td>\n",
              "      <td>0.00</td>\n",
              "      <td>21</td>\n",
              "      <td>0</td>\n",
              "    </tr>\n",
              "    <tr>\n",
              "      <th>4</th>\n",
              "      <td>0</td>\n",
              "      <td>0</td>\n",
              "      <td>0</td>\n",
              "      <td>0</td>\n",
              "      <td>0</td>\n",
              "      <td>0</td>\n",
              "      <td>0</td>\n",
              "      <td>0</td>\n",
              "      <td>0</td>\n",
              "      <td>0</td>\n",
              "      <td>...</td>\n",
              "      <td>0.14</td>\n",
              "      <td>0.19</td>\n",
              "      <td>0.05</td>\n",
              "      <td>0.00</td>\n",
              "      <td>0.1</td>\n",
              "      <td>0.67</td>\n",
              "      <td>0.0</td>\n",
              "      <td>0.00</td>\n",
              "      <td>4</td>\n",
              "      <td>0</td>\n",
              "    </tr>\n",
              "  </tbody>\n",
              "</table>\n",
              "<p>5 rows × 40 columns</p>\n",
              "</div>"
            ],
            "text/plain": [
              "   duration  src_bytes  dst_bytes  land  wrong_fragment  urgent  hot  \\\n",
              "0         0       1129        327     0               0       0    0   \n",
              "1         0        242       2147     0               0       0    0   \n",
              "2         0        299       3991     0               0       0    0   \n",
              "3         0         43        133     0               0       0    0   \n",
              "4         0          0          0     0               0       0    0   \n",
              "\n",
              "   num_failed_logins  logged_in  num_compromised  ...  dst_host_same_srv_rate  \\\n",
              "0                  0          1                0  ...                    1.00   \n",
              "1                  0          1                0  ...                    1.00   \n",
              "2                  0          1                0  ...                    1.00   \n",
              "3                  0          0                0  ...                    1.00   \n",
              "4                  0          0                0  ...                    0.14   \n",
              "\n",
              "   dst_host_diff_srv_rate  dst_host_same_src_port_rate  \\\n",
              "0                    0.00                         0.14   \n",
              "1                    0.00                         0.00   \n",
              "2                    0.00                         0.00   \n",
              "3                    0.01                         0.00   \n",
              "4                    0.19                         0.05   \n",
              "\n",
              "   dst_host_srv_diff_host_rate  dst_host_serror_rate  \\\n",
              "0                         0.02                   0.0   \n",
              "1                         0.00                   0.0   \n",
              "2                         0.00                   0.0   \n",
              "3                         0.00                   0.0   \n",
              "4                         0.00                   0.1   \n",
              "\n",
              "   dst_host_srv_serror_rate  dst_host_rerror_rate  dst_host_srv_rerror_rate  \\\n",
              "0                      0.04                   0.0                      0.01   \n",
              "1                      0.00                   0.0                      0.00   \n",
              "2                      0.00                   0.0                      0.00   \n",
              "3                      0.00                   0.0                      0.00   \n",
              "4                      0.67                   0.0                      0.00   \n",
              "\n",
              "   level  Class  \n",
              "0     21      0  \n",
              "1     21      0  \n",
              "2     21      0  \n",
              "3     21      0  \n",
              "4      4      0  \n",
              "\n",
              "[5 rows x 40 columns]"
            ]
          },
          "execution_count": 18,
          "metadata": {},
          "output_type": "execute_result"
        }
      ],
      "source": [
        "numirical_train.head()"
      ]
    },
    {
      "cell_type": "code",
      "execution_count": null,
      "id": "0584b3cf",
      "metadata": {
        "id": "0584b3cf",
        "outputId": "1a92486e-ae9b-47db-8c71-f80490e9c3f4"
      },
      "outputs": [
        {
          "data": {
            "text/html": [
              "<div>\n",
              "<style scoped>\n",
              "    .dataframe tbody tr th:only-of-type {\n",
              "        vertical-align: middle;\n",
              "    }\n",
              "\n",
              "    .dataframe tbody tr th {\n",
              "        vertical-align: top;\n",
              "    }\n",
              "\n",
              "    .dataframe thead th {\n",
              "        text-align: right;\n",
              "    }\n",
              "</style>\n",
              "<table border=\"1\" class=\"dataframe\">\n",
              "  <thead>\n",
              "    <tr style=\"text-align: right;\">\n",
              "      <th></th>\n",
              "      <th>duration</th>\n",
              "      <th>src_bytes</th>\n",
              "      <th>dst_bytes</th>\n",
              "      <th>land</th>\n",
              "      <th>wrong_fragment</th>\n",
              "      <th>urgent</th>\n",
              "      <th>hot</th>\n",
              "      <th>num_failed_logins</th>\n",
              "      <th>logged_in</th>\n",
              "      <th>num_compromised</th>\n",
              "      <th>...</th>\n",
              "      <th>flag_REJ</th>\n",
              "      <th>flag_RSTO</th>\n",
              "      <th>flag_RSTOS0</th>\n",
              "      <th>flag_RSTR</th>\n",
              "      <th>flag_S0</th>\n",
              "      <th>flag_S1</th>\n",
              "      <th>flag_S2</th>\n",
              "      <th>flag_S3</th>\n",
              "      <th>flag_SF</th>\n",
              "      <th>flag_SH</th>\n",
              "    </tr>\n",
              "  </thead>\n",
              "  <tbody>\n",
              "    <tr>\n",
              "      <th>0</th>\n",
              "      <td>0</td>\n",
              "      <td>1129</td>\n",
              "      <td>327</td>\n",
              "      <td>0</td>\n",
              "      <td>0</td>\n",
              "      <td>0</td>\n",
              "      <td>0</td>\n",
              "      <td>0</td>\n",
              "      <td>1</td>\n",
              "      <td>0</td>\n",
              "      <td>...</td>\n",
              "      <td>0</td>\n",
              "      <td>0</td>\n",
              "      <td>0</td>\n",
              "      <td>0</td>\n",
              "      <td>0</td>\n",
              "      <td>0</td>\n",
              "      <td>0</td>\n",
              "      <td>0</td>\n",
              "      <td>1</td>\n",
              "      <td>0</td>\n",
              "    </tr>\n",
              "    <tr>\n",
              "      <th>1</th>\n",
              "      <td>0</td>\n",
              "      <td>242</td>\n",
              "      <td>2147</td>\n",
              "      <td>0</td>\n",
              "      <td>0</td>\n",
              "      <td>0</td>\n",
              "      <td>0</td>\n",
              "      <td>0</td>\n",
              "      <td>1</td>\n",
              "      <td>0</td>\n",
              "      <td>...</td>\n",
              "      <td>0</td>\n",
              "      <td>0</td>\n",
              "      <td>0</td>\n",
              "      <td>0</td>\n",
              "      <td>0</td>\n",
              "      <td>0</td>\n",
              "      <td>0</td>\n",
              "      <td>0</td>\n",
              "      <td>1</td>\n",
              "      <td>0</td>\n",
              "    </tr>\n",
              "    <tr>\n",
              "      <th>2</th>\n",
              "      <td>0</td>\n",
              "      <td>299</td>\n",
              "      <td>3991</td>\n",
              "      <td>0</td>\n",
              "      <td>0</td>\n",
              "      <td>0</td>\n",
              "      <td>0</td>\n",
              "      <td>0</td>\n",
              "      <td>1</td>\n",
              "      <td>0</td>\n",
              "      <td>...</td>\n",
              "      <td>0</td>\n",
              "      <td>0</td>\n",
              "      <td>0</td>\n",
              "      <td>0</td>\n",
              "      <td>0</td>\n",
              "      <td>0</td>\n",
              "      <td>0</td>\n",
              "      <td>0</td>\n",
              "      <td>1</td>\n",
              "      <td>0</td>\n",
              "    </tr>\n",
              "    <tr>\n",
              "      <th>3</th>\n",
              "      <td>0</td>\n",
              "      <td>43</td>\n",
              "      <td>133</td>\n",
              "      <td>0</td>\n",
              "      <td>0</td>\n",
              "      <td>0</td>\n",
              "      <td>0</td>\n",
              "      <td>0</td>\n",
              "      <td>0</td>\n",
              "      <td>0</td>\n",
              "      <td>...</td>\n",
              "      <td>0</td>\n",
              "      <td>0</td>\n",
              "      <td>0</td>\n",
              "      <td>0</td>\n",
              "      <td>0</td>\n",
              "      <td>0</td>\n",
              "      <td>0</td>\n",
              "      <td>0</td>\n",
              "      <td>1</td>\n",
              "      <td>0</td>\n",
              "    </tr>\n",
              "    <tr>\n",
              "      <th>4</th>\n",
              "      <td>0</td>\n",
              "      <td>0</td>\n",
              "      <td>0</td>\n",
              "      <td>0</td>\n",
              "      <td>0</td>\n",
              "      <td>0</td>\n",
              "      <td>0</td>\n",
              "      <td>0</td>\n",
              "      <td>0</td>\n",
              "      <td>0</td>\n",
              "      <td>...</td>\n",
              "      <td>0</td>\n",
              "      <td>0</td>\n",
              "      <td>0</td>\n",
              "      <td>0</td>\n",
              "      <td>1</td>\n",
              "      <td>0</td>\n",
              "      <td>0</td>\n",
              "      <td>0</td>\n",
              "      <td>0</td>\n",
              "      <td>0</td>\n",
              "    </tr>\n",
              "  </tbody>\n",
              "</table>\n",
              "<p>5 rows × 117 columns</p>\n",
              "</div>"
            ],
            "text/plain": [
              "   duration  src_bytes  dst_bytes  land  wrong_fragment  urgent  hot  \\\n",
              "0         0       1129        327     0               0       0    0   \n",
              "1         0        242       2147     0               0       0    0   \n",
              "2         0        299       3991     0               0       0    0   \n",
              "3         0         43        133     0               0       0    0   \n",
              "4         0          0          0     0               0       0    0   \n",
              "\n",
              "   num_failed_logins  logged_in  num_compromised  ...  flag_REJ  flag_RSTO  \\\n",
              "0                  0          1                0  ...         0          0   \n",
              "1                  0          1                0  ...         0          0   \n",
              "2                  0          1                0  ...         0          0   \n",
              "3                  0          0                0  ...         0          0   \n",
              "4                  0          0                0  ...         0          0   \n",
              "\n",
              "   flag_RSTOS0  flag_RSTR  flag_S0  flag_S1  flag_S2  flag_S3  flag_SF  \\\n",
              "0            0          0        0        0        0        0        1   \n",
              "1            0          0        0        0        0        0        1   \n",
              "2            0          0        0        0        0        0        1   \n",
              "3            0          0        0        0        0        0        1   \n",
              "4            0          0        1        0        0        0        0   \n",
              "\n",
              "   flag_SH  \n",
              "0        0  \n",
              "1        0  \n",
              "2        0  \n",
              "3        0  \n",
              "4        0  \n",
              "\n",
              "[5 rows x 117 columns]"
            ]
          },
          "execution_count": 19,
          "metadata": {},
          "output_type": "execute_result"
        }
      ],
      "source": [
        "pf_train=pd.get_dummies(pf_train,columns=['protocol_type','service','flag'],drop_first=True)\n",
        "pf_train.head()"
      ]
    },
    {
      "cell_type": "markdown",
      "id": "f2abed2d",
      "metadata": {
        "id": "f2abed2d"
      },
      "source": [
        "### showing the encoding data "
      ]
    },
    {
      "cell_type": "code",
      "execution_count": null,
      "id": "bc36c55b",
      "metadata": {
        "id": "bc36c55b",
        "outputId": "a4af128c-8f7b-4594-dd09-ad37d7322c74"
      },
      "outputs": [
        {
          "name": "stdout",
          "output_type": "stream",
          "text": [
            "Index(['duration', 'src_bytes', 'dst_bytes', 'land', 'wrong_fragment',\n",
            "       'urgent', 'hot', 'num_failed_logins', 'logged_in', 'num_compromised',\n",
            "       'root_shell', 'su_attempted', 'num_root', 'num_file_creations',\n",
            "       'num_shells', 'num_access_files', 'num_outbound_cmds', 'is_host_login',\n",
            "       'is_guest_login', 'count', 'srv_count', 'serror_rate',\n",
            "       'srv_serror_rate', 'rerror_rate', 'srv_rerror_rate', 'same_srv_rate',\n",
            "       'diff_srv_rate', 'srv_diff_host_rate', 'dst_host_count',\n",
            "       'dst_host_srv_count', 'dst_host_same_srv_rate',\n",
            "       'dst_host_diff_srv_rate', 'dst_host_same_src_port_rate',\n",
            "       'dst_host_srv_diff_host_rate', 'dst_host_serror_rate',\n",
            "       'dst_host_srv_serror_rate', 'dst_host_rerror_rate',\n",
            "       'dst_host_srv_rerror_rate', 'level', 'Class'],\n",
            "      dtype='object')\n"
          ]
        },
        {
          "data": {
            "text/html": [
              "<div>\n",
              "<style scoped>\n",
              "    .dataframe tbody tr th:only-of-type {\n",
              "        vertical-align: middle;\n",
              "    }\n",
              "\n",
              "    .dataframe tbody tr th {\n",
              "        vertical-align: top;\n",
              "    }\n",
              "\n",
              "    .dataframe thead th {\n",
              "        text-align: right;\n",
              "    }\n",
              "</style>\n",
              "<table border=\"1\" class=\"dataframe\">\n",
              "  <thead>\n",
              "    <tr style=\"text-align: right;\">\n",
              "      <th></th>\n",
              "      <th>protocol_type_tcp</th>\n",
              "      <th>protocol_type_udp</th>\n",
              "      <th>service_X11</th>\n",
              "      <th>service_Z39_50</th>\n",
              "      <th>service_auth</th>\n",
              "      <th>service_bgp</th>\n",
              "      <th>service_courier</th>\n",
              "      <th>service_csnet_ns</th>\n",
              "      <th>service_ctf</th>\n",
              "      <th>service_daytime</th>\n",
              "      <th>...</th>\n",
              "      <th>flag_REJ</th>\n",
              "      <th>flag_RSTO</th>\n",
              "      <th>flag_RSTOS0</th>\n",
              "      <th>flag_RSTR</th>\n",
              "      <th>flag_S0</th>\n",
              "      <th>flag_S1</th>\n",
              "      <th>flag_S2</th>\n",
              "      <th>flag_S3</th>\n",
              "      <th>flag_SF</th>\n",
              "      <th>flag_SH</th>\n",
              "    </tr>\n",
              "  </thead>\n",
              "  <tbody>\n",
              "    <tr>\n",
              "      <th>0</th>\n",
              "      <td>1</td>\n",
              "      <td>0</td>\n",
              "      <td>0</td>\n",
              "      <td>0</td>\n",
              "      <td>0</td>\n",
              "      <td>0</td>\n",
              "      <td>0</td>\n",
              "      <td>0</td>\n",
              "      <td>0</td>\n",
              "      <td>0</td>\n",
              "      <td>...</td>\n",
              "      <td>0</td>\n",
              "      <td>0</td>\n",
              "      <td>0</td>\n",
              "      <td>0</td>\n",
              "      <td>0</td>\n",
              "      <td>0</td>\n",
              "      <td>0</td>\n",
              "      <td>0</td>\n",
              "      <td>1</td>\n",
              "      <td>0</td>\n",
              "    </tr>\n",
              "    <tr>\n",
              "      <th>1</th>\n",
              "      <td>1</td>\n",
              "      <td>0</td>\n",
              "      <td>0</td>\n",
              "      <td>0</td>\n",
              "      <td>0</td>\n",
              "      <td>0</td>\n",
              "      <td>0</td>\n",
              "      <td>0</td>\n",
              "      <td>0</td>\n",
              "      <td>0</td>\n",
              "      <td>...</td>\n",
              "      <td>0</td>\n",
              "      <td>0</td>\n",
              "      <td>0</td>\n",
              "      <td>0</td>\n",
              "      <td>0</td>\n",
              "      <td>0</td>\n",
              "      <td>0</td>\n",
              "      <td>0</td>\n",
              "      <td>1</td>\n",
              "      <td>0</td>\n",
              "    </tr>\n",
              "    <tr>\n",
              "      <th>2</th>\n",
              "      <td>1</td>\n",
              "      <td>0</td>\n",
              "      <td>0</td>\n",
              "      <td>0</td>\n",
              "      <td>0</td>\n",
              "      <td>0</td>\n",
              "      <td>0</td>\n",
              "      <td>0</td>\n",
              "      <td>0</td>\n",
              "      <td>0</td>\n",
              "      <td>...</td>\n",
              "      <td>0</td>\n",
              "      <td>0</td>\n",
              "      <td>0</td>\n",
              "      <td>0</td>\n",
              "      <td>0</td>\n",
              "      <td>0</td>\n",
              "      <td>0</td>\n",
              "      <td>0</td>\n",
              "      <td>1</td>\n",
              "      <td>0</td>\n",
              "    </tr>\n",
              "    <tr>\n",
              "      <th>3</th>\n",
              "      <td>0</td>\n",
              "      <td>1</td>\n",
              "      <td>0</td>\n",
              "      <td>0</td>\n",
              "      <td>0</td>\n",
              "      <td>0</td>\n",
              "      <td>0</td>\n",
              "      <td>0</td>\n",
              "      <td>0</td>\n",
              "      <td>0</td>\n",
              "      <td>...</td>\n",
              "      <td>0</td>\n",
              "      <td>0</td>\n",
              "      <td>0</td>\n",
              "      <td>0</td>\n",
              "      <td>0</td>\n",
              "      <td>0</td>\n",
              "      <td>0</td>\n",
              "      <td>0</td>\n",
              "      <td>1</td>\n",
              "      <td>0</td>\n",
              "    </tr>\n",
              "    <tr>\n",
              "      <th>4</th>\n",
              "      <td>1</td>\n",
              "      <td>0</td>\n",
              "      <td>0</td>\n",
              "      <td>0</td>\n",
              "      <td>0</td>\n",
              "      <td>0</td>\n",
              "      <td>0</td>\n",
              "      <td>0</td>\n",
              "      <td>0</td>\n",
              "      <td>0</td>\n",
              "      <td>...</td>\n",
              "      <td>0</td>\n",
              "      <td>0</td>\n",
              "      <td>0</td>\n",
              "      <td>0</td>\n",
              "      <td>1</td>\n",
              "      <td>0</td>\n",
              "      <td>0</td>\n",
              "      <td>0</td>\n",
              "      <td>0</td>\n",
              "      <td>0</td>\n",
              "    </tr>\n",
              "  </tbody>\n",
              "</table>\n",
              "<p>5 rows × 77 columns</p>\n",
              "</div>"
            ],
            "text/plain": [
              "   protocol_type_tcp  protocol_type_udp  service_X11  service_Z39_50  \\\n",
              "0                  1                  0            0               0   \n",
              "1                  1                  0            0               0   \n",
              "2                  1                  0            0               0   \n",
              "3                  0                  1            0               0   \n",
              "4                  1                  0            0               0   \n",
              "\n",
              "   service_auth  service_bgp  service_courier  service_csnet_ns  service_ctf  \\\n",
              "0             0            0                0                 0            0   \n",
              "1             0            0                0                 0            0   \n",
              "2             0            0                0                 0            0   \n",
              "3             0            0                0                 0            0   \n",
              "4             0            0                0                 0            0   \n",
              "\n",
              "   service_daytime  ...  flag_REJ  flag_RSTO  flag_RSTOS0  flag_RSTR  flag_S0  \\\n",
              "0                0  ...         0          0            0          0        0   \n",
              "1                0  ...         0          0            0          0        0   \n",
              "2                0  ...         0          0            0          0        0   \n",
              "3                0  ...         0          0            0          0        0   \n",
              "4                0  ...         0          0            0          0        1   \n",
              "\n",
              "   flag_S1  flag_S2  flag_S3  flag_SF  flag_SH  \n",
              "0        0        0        0        1        0  \n",
              "1        0        0        0        1        0  \n",
              "2        0        0        0        1        0  \n",
              "3        0        0        0        1        0  \n",
              "4        0        0        0        0        0  \n",
              "\n",
              "[5 rows x 77 columns]"
            ]
          },
          "execution_count": 20,
          "metadata": {},
          "output_type": "execute_result"
        }
      ],
      "source": [
        "num_culoms=numirical_train.columns\n",
        "print(num_culoms)\n",
        "encoding_traindata =pf_train.drop(num_culoms,axis=1)\n",
        "encoding_traindata.head()"
      ]
    },
    {
      "cell_type": "markdown",
      "id": "15ec30d6",
      "metadata": {
        "id": "15ec30d6"
      },
      "source": [
        "### from three feature after hot encoding we have 77 features for traing data"
      ]
    },
    {
      "cell_type": "markdown",
      "id": "2c5a4303",
      "metadata": {
        "id": "2c5a4303"
      },
      "source": [
        "## hot encoding for catigorical features in test set"
      ]
    },
    {
      "cell_type": "code",
      "execution_count": null,
      "id": "f7e1efbc",
      "metadata": {
        "id": "f7e1efbc",
        "outputId": "801cdbb1-1cc9-41de-c845-cb3bb93a8d78"
      },
      "outputs": [
        {
          "data": {
            "text/html": [
              "<div>\n",
              "<style scoped>\n",
              "    .dataframe tbody tr th:only-of-type {\n",
              "        vertical-align: middle;\n",
              "    }\n",
              "\n",
              "    .dataframe tbody tr th {\n",
              "        vertical-align: top;\n",
              "    }\n",
              "\n",
              "    .dataframe thead th {\n",
              "        text-align: right;\n",
              "    }\n",
              "</style>\n",
              "<table border=\"1\" class=\"dataframe\">\n",
              "  <thead>\n",
              "    <tr style=\"text-align: right;\">\n",
              "      <th></th>\n",
              "      <th>duration</th>\n",
              "      <th>src_bytes</th>\n",
              "      <th>dst_bytes</th>\n",
              "      <th>land</th>\n",
              "      <th>wrong_fragment</th>\n",
              "      <th>urgent</th>\n",
              "      <th>hot</th>\n",
              "      <th>num_failed_logins</th>\n",
              "      <th>logged_in</th>\n",
              "      <th>num_compromised</th>\n",
              "      <th>...</th>\n",
              "      <th>dst_host_srv_count</th>\n",
              "      <th>dst_host_same_srv_rate</th>\n",
              "      <th>dst_host_diff_srv_rate</th>\n",
              "      <th>dst_host_same_src_port_rate</th>\n",
              "      <th>dst_host_srv_diff_host_rate</th>\n",
              "      <th>dst_host_serror_rate</th>\n",
              "      <th>dst_host_srv_serror_rate</th>\n",
              "      <th>dst_host_rerror_rate</th>\n",
              "      <th>dst_host_srv_rerror_rate</th>\n",
              "      <th>level</th>\n",
              "    </tr>\n",
              "  </thead>\n",
              "  <tbody>\n",
              "    <tr>\n",
              "      <th>0</th>\n",
              "      <td>0</td>\n",
              "      <td>0</td>\n",
              "      <td>0</td>\n",
              "      <td>0</td>\n",
              "      <td>0</td>\n",
              "      <td>0</td>\n",
              "      <td>0</td>\n",
              "      <td>0</td>\n",
              "      <td>0</td>\n",
              "      <td>0</td>\n",
              "      <td>...</td>\n",
              "      <td>236</td>\n",
              "      <td>1.00</td>\n",
              "      <td>0.00</td>\n",
              "      <td>0.09</td>\n",
              "      <td>0.01</td>\n",
              "      <td>0.0</td>\n",
              "      <td>0.0</td>\n",
              "      <td>1.0</td>\n",
              "      <td>0.07</td>\n",
              "      <td>21</td>\n",
              "    </tr>\n",
              "    <tr>\n",
              "      <th>1</th>\n",
              "      <td>0</td>\n",
              "      <td>151</td>\n",
              "      <td>0</td>\n",
              "      <td>0</td>\n",
              "      <td>0</td>\n",
              "      <td>0</td>\n",
              "      <td>0</td>\n",
              "      <td>0</td>\n",
              "      <td>0</td>\n",
              "      <td>0</td>\n",
              "      <td>...</td>\n",
              "      <td>37</td>\n",
              "      <td>0.33</td>\n",
              "      <td>0.07</td>\n",
              "      <td>0.33</td>\n",
              "      <td>0.05</td>\n",
              "      <td>0.0</td>\n",
              "      <td>0.0</td>\n",
              "      <td>0.0</td>\n",
              "      <td>0.00</td>\n",
              "      <td>20</td>\n",
              "    </tr>\n",
              "    <tr>\n",
              "      <th>2</th>\n",
              "      <td>0</td>\n",
              "      <td>44</td>\n",
              "      <td>139</td>\n",
              "      <td>0</td>\n",
              "      <td>0</td>\n",
              "      <td>0</td>\n",
              "      <td>0</td>\n",
              "      <td>0</td>\n",
              "      <td>0</td>\n",
              "      <td>0</td>\n",
              "      <td>...</td>\n",
              "      <td>255</td>\n",
              "      <td>1.00</td>\n",
              "      <td>0.00</td>\n",
              "      <td>0.00</td>\n",
              "      <td>0.00</td>\n",
              "      <td>0.0</td>\n",
              "      <td>0.0</td>\n",
              "      <td>0.0</td>\n",
              "      <td>0.00</td>\n",
              "      <td>21</td>\n",
              "    </tr>\n",
              "    <tr>\n",
              "      <th>3</th>\n",
              "      <td>0</td>\n",
              "      <td>251</td>\n",
              "      <td>4014</td>\n",
              "      <td>0</td>\n",
              "      <td>0</td>\n",
              "      <td>0</td>\n",
              "      <td>0</td>\n",
              "      <td>0</td>\n",
              "      <td>1</td>\n",
              "      <td>0</td>\n",
              "      <td>...</td>\n",
              "      <td>255</td>\n",
              "      <td>1.00</td>\n",
              "      <td>0.00</td>\n",
              "      <td>0.00</td>\n",
              "      <td>0.01</td>\n",
              "      <td>0.0</td>\n",
              "      <td>0.0</td>\n",
              "      <td>0.0</td>\n",
              "      <td>0.00</td>\n",
              "      <td>21</td>\n",
              "    </tr>\n",
              "    <tr>\n",
              "      <th>4</th>\n",
              "      <td>0</td>\n",
              "      <td>1317</td>\n",
              "      <td>367</td>\n",
              "      <td>0</td>\n",
              "      <td>0</td>\n",
              "      <td>0</td>\n",
              "      <td>0</td>\n",
              "      <td>0</td>\n",
              "      <td>1</td>\n",
              "      <td>0</td>\n",
              "      <td>...</td>\n",
              "      <td>166</td>\n",
              "      <td>0.80</td>\n",
              "      <td>0.40</td>\n",
              "      <td>0.20</td>\n",
              "      <td>0.02</td>\n",
              "      <td>0.0</td>\n",
              "      <td>0.0</td>\n",
              "      <td>0.0</td>\n",
              "      <td>0.00</td>\n",
              "      <td>21</td>\n",
              "    </tr>\n",
              "  </tbody>\n",
              "</table>\n",
              "<p>5 rows × 39 columns</p>\n",
              "</div>"
            ],
            "text/plain": [
              "   duration  src_bytes  dst_bytes  land  wrong_fragment  urgent  hot  \\\n",
              "0         0          0          0     0               0       0    0   \n",
              "1         0        151          0     0               0       0    0   \n",
              "2         0         44        139     0               0       0    0   \n",
              "3         0        251       4014     0               0       0    0   \n",
              "4         0       1317        367     0               0       0    0   \n",
              "\n",
              "   num_failed_logins  logged_in  num_compromised  ...  dst_host_srv_count  \\\n",
              "0                  0          0                0  ...                 236   \n",
              "1                  0          0                0  ...                  37   \n",
              "2                  0          0                0  ...                 255   \n",
              "3                  0          1                0  ...                 255   \n",
              "4                  0          1                0  ...                 166   \n",
              "\n",
              "   dst_host_same_srv_rate  dst_host_diff_srv_rate  \\\n",
              "0                    1.00                    0.00   \n",
              "1                    0.33                    0.07   \n",
              "2                    1.00                    0.00   \n",
              "3                    1.00                    0.00   \n",
              "4                    0.80                    0.40   \n",
              "\n",
              "   dst_host_same_src_port_rate  dst_host_srv_diff_host_rate  \\\n",
              "0                         0.09                         0.01   \n",
              "1                         0.33                         0.05   \n",
              "2                         0.00                         0.00   \n",
              "3                         0.00                         0.01   \n",
              "4                         0.20                         0.02   \n",
              "\n",
              "   dst_host_serror_rate  dst_host_srv_serror_rate  dst_host_rerror_rate  \\\n",
              "0                   0.0                       0.0                   1.0   \n",
              "1                   0.0                       0.0                   0.0   \n",
              "2                   0.0                       0.0                   0.0   \n",
              "3                   0.0                       0.0                   0.0   \n",
              "4                   0.0                       0.0                   0.0   \n",
              "\n",
              "   dst_host_srv_rerror_rate  level  \n",
              "0                      0.07     21  \n",
              "1                      0.00     20  \n",
              "2                      0.00     21  \n",
              "3                      0.00     21  \n",
              "4                      0.00     21  \n",
              "\n",
              "[5 rows x 39 columns]"
            ]
          },
          "execution_count": 21,
          "metadata": {},
          "output_type": "execute_result"
        }
      ],
      "source": [
        "numirical_test=pf_test.drop(['protocol_type','service','flag'],axis=1) #get numerical features\n",
        "numirical_test.head()"
      ]
    },
    {
      "cell_type": "code",
      "execution_count": null,
      "id": "9f227d27",
      "metadata": {
        "id": "9f227d27",
        "outputId": "4f6d37e6-0368-4529-917c-d4d8f5b01ff5"
      },
      "outputs": [
        {
          "data": {
            "text/html": [
              "<div>\n",
              "<style scoped>\n",
              "    .dataframe tbody tr th:only-of-type {\n",
              "        vertical-align: middle;\n",
              "    }\n",
              "\n",
              "    .dataframe tbody tr th {\n",
              "        vertical-align: top;\n",
              "    }\n",
              "\n",
              "    .dataframe thead th {\n",
              "        text-align: right;\n",
              "    }\n",
              "</style>\n",
              "<table border=\"1\" class=\"dataframe\">\n",
              "  <thead>\n",
              "    <tr style=\"text-align: right;\">\n",
              "      <th></th>\n",
              "      <th>duration</th>\n",
              "      <th>src_bytes</th>\n",
              "      <th>dst_bytes</th>\n",
              "      <th>land</th>\n",
              "      <th>wrong_fragment</th>\n",
              "      <th>urgent</th>\n",
              "      <th>hot</th>\n",
              "      <th>num_failed_logins</th>\n",
              "      <th>logged_in</th>\n",
              "      <th>num_compromised</th>\n",
              "      <th>...</th>\n",
              "      <th>flag_REJ</th>\n",
              "      <th>flag_RSTO</th>\n",
              "      <th>flag_RSTOS0</th>\n",
              "      <th>flag_RSTR</th>\n",
              "      <th>flag_S0</th>\n",
              "      <th>flag_S1</th>\n",
              "      <th>flag_S2</th>\n",
              "      <th>flag_S3</th>\n",
              "      <th>flag_SF</th>\n",
              "      <th>flag_SH</th>\n",
              "    </tr>\n",
              "  </thead>\n",
              "  <tbody>\n",
              "    <tr>\n",
              "      <th>0</th>\n",
              "      <td>0</td>\n",
              "      <td>0</td>\n",
              "      <td>0</td>\n",
              "      <td>0</td>\n",
              "      <td>0</td>\n",
              "      <td>0</td>\n",
              "      <td>0</td>\n",
              "      <td>0</td>\n",
              "      <td>0</td>\n",
              "      <td>0</td>\n",
              "      <td>...</td>\n",
              "      <td>1</td>\n",
              "      <td>0</td>\n",
              "      <td>0</td>\n",
              "      <td>0</td>\n",
              "      <td>0</td>\n",
              "      <td>0</td>\n",
              "      <td>0</td>\n",
              "      <td>0</td>\n",
              "      <td>0</td>\n",
              "      <td>0</td>\n",
              "    </tr>\n",
              "    <tr>\n",
              "      <th>1</th>\n",
              "      <td>0</td>\n",
              "      <td>151</td>\n",
              "      <td>0</td>\n",
              "      <td>0</td>\n",
              "      <td>0</td>\n",
              "      <td>0</td>\n",
              "      <td>0</td>\n",
              "      <td>0</td>\n",
              "      <td>0</td>\n",
              "      <td>0</td>\n",
              "      <td>...</td>\n",
              "      <td>0</td>\n",
              "      <td>0</td>\n",
              "      <td>0</td>\n",
              "      <td>0</td>\n",
              "      <td>0</td>\n",
              "      <td>0</td>\n",
              "      <td>0</td>\n",
              "      <td>0</td>\n",
              "      <td>1</td>\n",
              "      <td>0</td>\n",
              "    </tr>\n",
              "    <tr>\n",
              "      <th>2</th>\n",
              "      <td>0</td>\n",
              "      <td>44</td>\n",
              "      <td>139</td>\n",
              "      <td>0</td>\n",
              "      <td>0</td>\n",
              "      <td>0</td>\n",
              "      <td>0</td>\n",
              "      <td>0</td>\n",
              "      <td>0</td>\n",
              "      <td>0</td>\n",
              "      <td>...</td>\n",
              "      <td>0</td>\n",
              "      <td>0</td>\n",
              "      <td>0</td>\n",
              "      <td>0</td>\n",
              "      <td>0</td>\n",
              "      <td>0</td>\n",
              "      <td>0</td>\n",
              "      <td>0</td>\n",
              "      <td>1</td>\n",
              "      <td>0</td>\n",
              "    </tr>\n",
              "    <tr>\n",
              "      <th>3</th>\n",
              "      <td>0</td>\n",
              "      <td>251</td>\n",
              "      <td>4014</td>\n",
              "      <td>0</td>\n",
              "      <td>0</td>\n",
              "      <td>0</td>\n",
              "      <td>0</td>\n",
              "      <td>0</td>\n",
              "      <td>1</td>\n",
              "      <td>0</td>\n",
              "      <td>...</td>\n",
              "      <td>0</td>\n",
              "      <td>0</td>\n",
              "      <td>0</td>\n",
              "      <td>0</td>\n",
              "      <td>0</td>\n",
              "      <td>0</td>\n",
              "      <td>0</td>\n",
              "      <td>0</td>\n",
              "      <td>1</td>\n",
              "      <td>0</td>\n",
              "    </tr>\n",
              "    <tr>\n",
              "      <th>4</th>\n",
              "      <td>0</td>\n",
              "      <td>1317</td>\n",
              "      <td>367</td>\n",
              "      <td>0</td>\n",
              "      <td>0</td>\n",
              "      <td>0</td>\n",
              "      <td>0</td>\n",
              "      <td>0</td>\n",
              "      <td>1</td>\n",
              "      <td>0</td>\n",
              "      <td>...</td>\n",
              "      <td>0</td>\n",
              "      <td>0</td>\n",
              "      <td>0</td>\n",
              "      <td>0</td>\n",
              "      <td>0</td>\n",
              "      <td>0</td>\n",
              "      <td>0</td>\n",
              "      <td>0</td>\n",
              "      <td>1</td>\n",
              "      <td>0</td>\n",
              "    </tr>\n",
              "  </tbody>\n",
              "</table>\n",
              "<p>5 rows × 113 columns</p>\n",
              "</div>"
            ],
            "text/plain": [
              "   duration  src_bytes  dst_bytes  land  wrong_fragment  urgent  hot  \\\n",
              "0         0          0          0     0               0       0    0   \n",
              "1         0        151          0     0               0       0    0   \n",
              "2         0         44        139     0               0       0    0   \n",
              "3         0        251       4014     0               0       0    0   \n",
              "4         0       1317        367     0               0       0    0   \n",
              "\n",
              "   num_failed_logins  logged_in  num_compromised  ...  flag_REJ  flag_RSTO  \\\n",
              "0                  0          0                0  ...         1          0   \n",
              "1                  0          0                0  ...         0          0   \n",
              "2                  0          0                0  ...         0          0   \n",
              "3                  0          1                0  ...         0          0   \n",
              "4                  0          1                0  ...         0          0   \n",
              "\n",
              "   flag_RSTOS0  flag_RSTR  flag_S0  flag_S1  flag_S2  flag_S3  flag_SF  \\\n",
              "0            0          0        0        0        0        0        0   \n",
              "1            0          0        0        0        0        0        1   \n",
              "2            0          0        0        0        0        0        1   \n",
              "3            0          0        0        0        0        0        1   \n",
              "4            0          0        0        0        0        0        1   \n",
              "\n",
              "   flag_SH  \n",
              "0        0  \n",
              "1        0  \n",
              "2        0  \n",
              "3        0  \n",
              "4        0  \n",
              "\n",
              "[5 rows x 113 columns]"
            ]
          },
          "execution_count": 22,
          "metadata": {},
          "output_type": "execute_result"
        }
      ],
      "source": [
        "pf_test=pd.get_dummies(pf_test,columns=['protocol_type','service','flag'],drop_first=True)\n",
        "pf_test.head()"
      ]
    },
    {
      "cell_type": "code",
      "execution_count": null,
      "id": "78c6524a",
      "metadata": {
        "id": "78c6524a",
        "outputId": "d813ee49-7099-43b9-a87d-214a594cd7e6"
      },
      "outputs": [
        {
          "name": "stdout",
          "output_type": "stream",
          "text": [
            "Index(['duration', 'src_bytes', 'dst_bytes', 'land', 'wrong_fragment',\n",
            "       'urgent', 'hot', 'num_failed_logins', 'logged_in', 'num_compromised',\n",
            "       'root_shell', 'su_attempted', 'num_root', 'num_file_creations',\n",
            "       'num_shells', 'num_access_files', 'num_outbound_cmds', 'is_host_login',\n",
            "       'is_guest_login', 'count', 'srv_count', 'serror_rate',\n",
            "       'srv_serror_rate', 'rerror_rate', 'srv_rerror_rate', 'same_srv_rate',\n",
            "       'diff_srv_rate', 'srv_diff_host_rate', 'dst_host_count',\n",
            "       'dst_host_srv_count', 'dst_host_same_srv_rate',\n",
            "       'dst_host_diff_srv_rate', 'dst_host_same_src_port_rate',\n",
            "       'dst_host_srv_diff_host_rate', 'dst_host_serror_rate',\n",
            "       'dst_host_srv_serror_rate', 'dst_host_rerror_rate',\n",
            "       'dst_host_srv_rerror_rate', 'level', 'Class'],\n",
            "      dtype='object')\n"
          ]
        },
        {
          "data": {
            "text/html": [
              "<div>\n",
              "<style scoped>\n",
              "    .dataframe tbody tr th:only-of-type {\n",
              "        vertical-align: middle;\n",
              "    }\n",
              "\n",
              "    .dataframe tbody tr th {\n",
              "        vertical-align: top;\n",
              "    }\n",
              "\n",
              "    .dataframe thead th {\n",
              "        text-align: right;\n",
              "    }\n",
              "</style>\n",
              "<table border=\"1\" class=\"dataframe\">\n",
              "  <thead>\n",
              "    <tr style=\"text-align: right;\">\n",
              "      <th></th>\n",
              "      <th>protocol_type_tcp</th>\n",
              "      <th>protocol_type_udp</th>\n",
              "      <th>service_X11</th>\n",
              "      <th>service_Z39_50</th>\n",
              "      <th>service_auth</th>\n",
              "      <th>service_bgp</th>\n",
              "      <th>service_courier</th>\n",
              "      <th>service_csnet_ns</th>\n",
              "      <th>service_ctf</th>\n",
              "      <th>service_daytime</th>\n",
              "      <th>...</th>\n",
              "      <th>flag_REJ</th>\n",
              "      <th>flag_RSTO</th>\n",
              "      <th>flag_RSTOS0</th>\n",
              "      <th>flag_RSTR</th>\n",
              "      <th>flag_S0</th>\n",
              "      <th>flag_S1</th>\n",
              "      <th>flag_S2</th>\n",
              "      <th>flag_S3</th>\n",
              "      <th>flag_SF</th>\n",
              "      <th>flag_SH</th>\n",
              "    </tr>\n",
              "  </thead>\n",
              "  <tbody>\n",
              "    <tr>\n",
              "      <th>0</th>\n",
              "      <td>1</td>\n",
              "      <td>0</td>\n",
              "      <td>0</td>\n",
              "      <td>0</td>\n",
              "      <td>0</td>\n",
              "      <td>0</td>\n",
              "      <td>0</td>\n",
              "      <td>0</td>\n",
              "      <td>0</td>\n",
              "      <td>0</td>\n",
              "      <td>...</td>\n",
              "      <td>1</td>\n",
              "      <td>0</td>\n",
              "      <td>0</td>\n",
              "      <td>0</td>\n",
              "      <td>0</td>\n",
              "      <td>0</td>\n",
              "      <td>0</td>\n",
              "      <td>0</td>\n",
              "      <td>0</td>\n",
              "      <td>0</td>\n",
              "    </tr>\n",
              "    <tr>\n",
              "      <th>1</th>\n",
              "      <td>1</td>\n",
              "      <td>0</td>\n",
              "      <td>0</td>\n",
              "      <td>0</td>\n",
              "      <td>0</td>\n",
              "      <td>0</td>\n",
              "      <td>0</td>\n",
              "      <td>0</td>\n",
              "      <td>0</td>\n",
              "      <td>0</td>\n",
              "      <td>...</td>\n",
              "      <td>0</td>\n",
              "      <td>0</td>\n",
              "      <td>0</td>\n",
              "      <td>0</td>\n",
              "      <td>0</td>\n",
              "      <td>0</td>\n",
              "      <td>0</td>\n",
              "      <td>0</td>\n",
              "      <td>1</td>\n",
              "      <td>0</td>\n",
              "    </tr>\n",
              "    <tr>\n",
              "      <th>2</th>\n",
              "      <td>0</td>\n",
              "      <td>1</td>\n",
              "      <td>0</td>\n",
              "      <td>0</td>\n",
              "      <td>0</td>\n",
              "      <td>0</td>\n",
              "      <td>0</td>\n",
              "      <td>0</td>\n",
              "      <td>0</td>\n",
              "      <td>0</td>\n",
              "      <td>...</td>\n",
              "      <td>0</td>\n",
              "      <td>0</td>\n",
              "      <td>0</td>\n",
              "      <td>0</td>\n",
              "      <td>0</td>\n",
              "      <td>0</td>\n",
              "      <td>0</td>\n",
              "      <td>0</td>\n",
              "      <td>1</td>\n",
              "      <td>0</td>\n",
              "    </tr>\n",
              "    <tr>\n",
              "      <th>3</th>\n",
              "      <td>1</td>\n",
              "      <td>0</td>\n",
              "      <td>0</td>\n",
              "      <td>0</td>\n",
              "      <td>0</td>\n",
              "      <td>0</td>\n",
              "      <td>0</td>\n",
              "      <td>0</td>\n",
              "      <td>0</td>\n",
              "      <td>0</td>\n",
              "      <td>...</td>\n",
              "      <td>0</td>\n",
              "      <td>0</td>\n",
              "      <td>0</td>\n",
              "      <td>0</td>\n",
              "      <td>0</td>\n",
              "      <td>0</td>\n",
              "      <td>0</td>\n",
              "      <td>0</td>\n",
              "      <td>1</td>\n",
              "      <td>0</td>\n",
              "    </tr>\n",
              "    <tr>\n",
              "      <th>4</th>\n",
              "      <td>1</td>\n",
              "      <td>0</td>\n",
              "      <td>0</td>\n",
              "      <td>0</td>\n",
              "      <td>0</td>\n",
              "      <td>0</td>\n",
              "      <td>0</td>\n",
              "      <td>0</td>\n",
              "      <td>0</td>\n",
              "      <td>0</td>\n",
              "      <td>...</td>\n",
              "      <td>0</td>\n",
              "      <td>0</td>\n",
              "      <td>0</td>\n",
              "      <td>0</td>\n",
              "      <td>0</td>\n",
              "      <td>0</td>\n",
              "      <td>0</td>\n",
              "      <td>0</td>\n",
              "      <td>1</td>\n",
              "      <td>0</td>\n",
              "    </tr>\n",
              "  </tbody>\n",
              "</table>\n",
              "<p>5 rows × 74 columns</p>\n",
              "</div>"
            ],
            "text/plain": [
              "   protocol_type_tcp  protocol_type_udp  service_X11  service_Z39_50  \\\n",
              "0                  1                  0            0               0   \n",
              "1                  1                  0            0               0   \n",
              "2                  0                  1            0               0   \n",
              "3                  1                  0            0               0   \n",
              "4                  1                  0            0               0   \n",
              "\n",
              "   service_auth  service_bgp  service_courier  service_csnet_ns  service_ctf  \\\n",
              "0             0            0                0                 0            0   \n",
              "1             0            0                0                 0            0   \n",
              "2             0            0                0                 0            0   \n",
              "3             0            0                0                 0            0   \n",
              "4             0            0                0                 0            0   \n",
              "\n",
              "   service_daytime  ...  flag_REJ  flag_RSTO  flag_RSTOS0  flag_RSTR  flag_S0  \\\n",
              "0                0  ...         1          0            0          0        0   \n",
              "1                0  ...         0          0            0          0        0   \n",
              "2                0  ...         0          0            0          0        0   \n",
              "3                0  ...         0          0            0          0        0   \n",
              "4                0  ...         0          0            0          0        0   \n",
              "\n",
              "   flag_S1  flag_S2  flag_S3  flag_SF  flag_SH  \n",
              "0        0        0        0        0        0  \n",
              "1        0        0        0        1        0  \n",
              "2        0        0        0        1        0  \n",
              "3        0        0        0        1        0  \n",
              "4        0        0        0        1        0  \n",
              "\n",
              "[5 rows x 74 columns]"
            ]
          },
          "execution_count": 23,
          "metadata": {},
          "output_type": "execute_result"
        }
      ],
      "source": [
        "num_culomtest=numirical_test.columns\n",
        "print(num_culoms)\n",
        "encoding_testdata =pf_test.drop(num_culomtest,axis=1)\n",
        "encoding_testdata.head()"
      ]
    },
    {
      "cell_type": "markdown",
      "id": "8d105b41",
      "metadata": {
        "id": "8d105b41"
      },
      "source": [
        "## now number of features in training set is 117 and in test set is 113 so i will add\n",
        "## the mising fetures in the test set from the training set "
      ]
    },
    {
      "cell_type": "code",
      "execution_count": null,
      "id": "a9c798ac",
      "metadata": {
        "id": "a9c798ac",
        "outputId": "af1042b0-74e8-4224-d949-6bd17a1fd2a0"
      },
      "outputs": [
        {
          "name": "stdout",
          "output_type": "stream",
          "text": [
            "['service_tim_i', 'service_http_8001', 'service_pm_dump']\n"
          ]
        }
      ],
      "source": [
        "x=list(encoding_traindata.columns)\n",
        "y=(encoding_testdata.columns)\n",
        "diff=list(set(x)-set(y))# get differance colums betweem traing set and test set\n",
        "print(diff)"
      ]
    },
    {
      "cell_type": "code",
      "execution_count": null,
      "id": "657762aa",
      "metadata": {
        "id": "657762aa",
        "outputId": "35d361b3-68c0-4bf2-842d-7ce06a5cc423"
      },
      "outputs": [
        {
          "name": "stdout",
          "output_type": "stream",
          "text": [
            "shape of training data is (17251, 116)\n",
            "shape of test data is (5751, 116)\n"
          ]
        }
      ],
      "source": [
        "for c in diff:\n",
        "    pf_test[c] = 0 #we add thre colums and values is zeros\n",
        "pf=pf_train.drop('Class',axis=1)    \n",
        "print(f'shape of training data is {pf.shape}')    \n",
        "print(f'shape of test data is {pf_test.shape}')"
      ]
    },
    {
      "cell_type": "code",
      "execution_count": null,
      "id": "b11364b8",
      "metadata": {
        "id": "b11364b8",
        "outputId": "7541aaaa-b8a9-4962-d54a-b82a236cec5a"
      },
      "outputs": [
        {
          "data": {
            "text/plain": [
              "array([0], dtype=int64)"
            ]
          },
          "execution_count": 26,
          "metadata": {},
          "output_type": "execute_result"
        }
      ],
      "source": [
        "pf_test.service_http_8001.unique()"
      ]
    },
    {
      "cell_type": "markdown",
      "id": "920a3e47",
      "metadata": {
        "id": "920a3e47"
      },
      "source": [
        "#####  now shape of training data is the same for the test data"
      ]
    },
    {
      "cell_type": "markdown",
      "id": "00150a21",
      "metadata": {
        "id": "00150a21"
      },
      "source": [
        "## show target label in training data set"
      ]
    },
    {
      "cell_type": "code",
      "execution_count": null,
      "id": "9cf01181",
      "metadata": {
        "id": "9cf01181",
        "outputId": "cf26ff24-110a-4ef7-caf5-3960d751ea3e"
      },
      "outputs": [
        {
          "data": {
            "text/plain": [
              "0    0\n",
              "1    0\n",
              "2    0\n",
              "3    0\n",
              "4    0\n",
              "Name: Class, dtype: int64"
            ]
          },
          "execution_count": 27,
          "metadata": {},
          "output_type": "execute_result"
        }
      ],
      "source": [
        "pf_train['Class'].head()"
      ]
    },
    {
      "cell_type": "code",
      "execution_count": null,
      "id": "47c4a2ef",
      "metadata": {
        "id": "47c4a2ef",
        "outputId": "64660d32-f929-47ed-c6f8-9a3c12b04d11"
      },
      "outputs": [
        {
          "data": {
            "text/plain": [
              "0    9000\n",
              "1    8251\n",
              "Name: Class, dtype: int64"
            ]
          },
          "execution_count": 28,
          "metadata": {},
          "output_type": "execute_result"
        }
      ],
      "source": [
        "pf_train['Class'].value_counts()"
      ]
    },
    {
      "cell_type": "markdown",
      "id": "19e8b548",
      "metadata": {
        "id": "19e8b548"
      },
      "source": [
        "#### target has two lables 1 or zero so this is a baniary classifaction problem and data has 9000 zero and 8251 is one so data is balanced"
      ]
    },
    {
      "cell_type": "code",
      "execution_count": null,
      "id": "68ef73f6",
      "metadata": {
        "id": "68ef73f6",
        "outputId": "89352d1a-025f-4e1e-bf89-91145246d2ff"
      },
      "outputs": [
        {
          "data": {
            "text/html": [
              "<div>\n",
              "<style scoped>\n",
              "    .dataframe tbody tr th:only-of-type {\n",
              "        vertical-align: middle;\n",
              "    }\n",
              "\n",
              "    .dataframe tbody tr th {\n",
              "        vertical-align: top;\n",
              "    }\n",
              "\n",
              "    .dataframe thead th {\n",
              "        text-align: right;\n",
              "    }\n",
              "</style>\n",
              "<table border=\"1\" class=\"dataframe\">\n",
              "  <thead>\n",
              "    <tr style=\"text-align: right;\">\n",
              "      <th></th>\n",
              "      <th>duration</th>\n",
              "      <th>src_bytes</th>\n",
              "      <th>dst_bytes</th>\n",
              "      <th>land</th>\n",
              "      <th>wrong_fragment</th>\n",
              "      <th>urgent</th>\n",
              "      <th>hot</th>\n",
              "      <th>num_failed_logins</th>\n",
              "      <th>logged_in</th>\n",
              "      <th>num_compromised</th>\n",
              "      <th>...</th>\n",
              "      <th>dst_host_same_srv_rate</th>\n",
              "      <th>dst_host_diff_srv_rate</th>\n",
              "      <th>dst_host_same_src_port_rate</th>\n",
              "      <th>dst_host_srv_diff_host_rate</th>\n",
              "      <th>dst_host_serror_rate</th>\n",
              "      <th>dst_host_srv_serror_rate</th>\n",
              "      <th>dst_host_rerror_rate</th>\n",
              "      <th>dst_host_srv_rerror_rate</th>\n",
              "      <th>level</th>\n",
              "      <th>Class</th>\n",
              "    </tr>\n",
              "  </thead>\n",
              "  <tbody>\n",
              "    <tr>\n",
              "      <th>count</th>\n",
              "      <td>17251.000000</td>\n",
              "      <td>1.725100e+04</td>\n",
              "      <td>1.725100e+04</td>\n",
              "      <td>17251.000000</td>\n",
              "      <td>17251.000000</td>\n",
              "      <td>17251.0</td>\n",
              "      <td>17251.000000</td>\n",
              "      <td>17251.000000</td>\n",
              "      <td>17251.000000</td>\n",
              "      <td>17251.000000</td>\n",
              "      <td>...</td>\n",
              "      <td>17251.000000</td>\n",
              "      <td>17251.000000</td>\n",
              "      <td>17251.000000</td>\n",
              "      <td>17251.000000</td>\n",
              "      <td>17251.000000</td>\n",
              "      <td>17251.000000</td>\n",
              "      <td>17251.000000</td>\n",
              "      <td>17251.000000</td>\n",
              "      <td>17251.000000</td>\n",
              "      <td>17251.000000</td>\n",
              "    </tr>\n",
              "    <tr>\n",
              "      <th>mean</th>\n",
              "      <td>300.978958</td>\n",
              "      <td>3.107782e+04</td>\n",
              "      <td>3.531403e+03</td>\n",
              "      <td>0.000116</td>\n",
              "      <td>0.025274</td>\n",
              "      <td>0.0</td>\n",
              "      <td>0.184627</td>\n",
              "      <td>0.001101</td>\n",
              "      <td>0.388151</td>\n",
              "      <td>0.292041</td>\n",
              "      <td>...</td>\n",
              "      <td>0.513184</td>\n",
              "      <td>0.083868</td>\n",
              "      <td>0.147851</td>\n",
              "      <td>0.031412</td>\n",
              "      <td>0.294951</td>\n",
              "      <td>0.289118</td>\n",
              "      <td>0.116886</td>\n",
              "      <td>0.118235</td>\n",
              "      <td>19.474291</td>\n",
              "      <td>0.478291</td>\n",
              "    </tr>\n",
              "    <tr>\n",
              "      <th>std</th>\n",
              "      <td>2646.007952</td>\n",
              "      <td>2.910731e+06</td>\n",
              "      <td>9.012346e+04</td>\n",
              "      <td>0.010767</td>\n",
              "      <td>0.268866</td>\n",
              "      <td>0.0</td>\n",
              "      <td>2.081791</td>\n",
              "      <td>0.043724</td>\n",
              "      <td>0.487343</td>\n",
              "      <td>12.386128</td>\n",
              "      <td>...</td>\n",
              "      <td>0.449423</td>\n",
              "      <td>0.189233</td>\n",
              "      <td>0.309810</td>\n",
              "      <td>0.109439</td>\n",
              "      <td>0.449514</td>\n",
              "      <td>0.450570</td>\n",
              "      <td>0.304704</td>\n",
              "      <td>0.316774</td>\n",
              "      <td>2.327471</td>\n",
              "      <td>0.499543</td>\n",
              "    </tr>\n",
              "    <tr>\n",
              "      <th>min</th>\n",
              "      <td>0.000000</td>\n",
              "      <td>0.000000e+00</td>\n",
              "      <td>0.000000e+00</td>\n",
              "      <td>0.000000</td>\n",
              "      <td>0.000000</td>\n",
              "      <td>0.0</td>\n",
              "      <td>0.000000</td>\n",
              "      <td>0.000000</td>\n",
              "      <td>0.000000</td>\n",
              "      <td>0.000000</td>\n",
              "      <td>...</td>\n",
              "      <td>0.000000</td>\n",
              "      <td>0.000000</td>\n",
              "      <td>0.000000</td>\n",
              "      <td>0.000000</td>\n",
              "      <td>0.000000</td>\n",
              "      <td>0.000000</td>\n",
              "      <td>0.000000</td>\n",
              "      <td>0.000000</td>\n",
              "      <td>0.000000</td>\n",
              "      <td>0.000000</td>\n",
              "    </tr>\n",
              "    <tr>\n",
              "      <th>25%</th>\n",
              "      <td>0.000000</td>\n",
              "      <td>0.000000e+00</td>\n",
              "      <td>0.000000e+00</td>\n",
              "      <td>0.000000</td>\n",
              "      <td>0.000000</td>\n",
              "      <td>0.0</td>\n",
              "      <td>0.000000</td>\n",
              "      <td>0.000000</td>\n",
              "      <td>0.000000</td>\n",
              "      <td>0.000000</td>\n",
              "      <td>...</td>\n",
              "      <td>0.050000</td>\n",
              "      <td>0.000000</td>\n",
              "      <td>0.000000</td>\n",
              "      <td>0.000000</td>\n",
              "      <td>0.000000</td>\n",
              "      <td>0.000000</td>\n",
              "      <td>0.000000</td>\n",
              "      <td>0.000000</td>\n",
              "      <td>18.000000</td>\n",
              "      <td>0.000000</td>\n",
              "    </tr>\n",
              "    <tr>\n",
              "      <th>50%</th>\n",
              "      <td>0.000000</td>\n",
              "      <td>4.400000e+01</td>\n",
              "      <td>0.000000e+00</td>\n",
              "      <td>0.000000</td>\n",
              "      <td>0.000000</td>\n",
              "      <td>0.0</td>\n",
              "      <td>0.000000</td>\n",
              "      <td>0.000000</td>\n",
              "      <td>0.000000</td>\n",
              "      <td>0.000000</td>\n",
              "      <td>...</td>\n",
              "      <td>0.470000</td>\n",
              "      <td>0.030000</td>\n",
              "      <td>0.000000</td>\n",
              "      <td>0.000000</td>\n",
              "      <td>0.000000</td>\n",
              "      <td>0.000000</td>\n",
              "      <td>0.000000</td>\n",
              "      <td>0.000000</td>\n",
              "      <td>20.000000</td>\n",
              "      <td>0.000000</td>\n",
              "    </tr>\n",
              "    <tr>\n",
              "      <th>75%</th>\n",
              "      <td>0.000000</td>\n",
              "      <td>2.770000e+02</td>\n",
              "      <td>4.920000e+02</td>\n",
              "      <td>0.000000</td>\n",
              "      <td>0.000000</td>\n",
              "      <td>0.0</td>\n",
              "      <td>0.000000</td>\n",
              "      <td>0.000000</td>\n",
              "      <td>1.000000</td>\n",
              "      <td>0.000000</td>\n",
              "      <td>...</td>\n",
              "      <td>1.000000</td>\n",
              "      <td>0.070000</td>\n",
              "      <td>0.060000</td>\n",
              "      <td>0.010000</td>\n",
              "      <td>1.000000</td>\n",
              "      <td>1.000000</td>\n",
              "      <td>0.000000</td>\n",
              "      <td>0.000000</td>\n",
              "      <td>21.000000</td>\n",
              "      <td>1.000000</td>\n",
              "    </tr>\n",
              "    <tr>\n",
              "      <th>max</th>\n",
              "      <td>42862.000000</td>\n",
              "      <td>3.817091e+08</td>\n",
              "      <td>5.151385e+06</td>\n",
              "      <td>1.000000</td>\n",
              "      <td>3.000000</td>\n",
              "      <td>0.0</td>\n",
              "      <td>77.000000</td>\n",
              "      <td>4.000000</td>\n",
              "      <td>1.000000</td>\n",
              "      <td>884.000000</td>\n",
              "      <td>...</td>\n",
              "      <td>1.000000</td>\n",
              "      <td>1.000000</td>\n",
              "      <td>1.000000</td>\n",
              "      <td>1.000000</td>\n",
              "      <td>1.000000</td>\n",
              "      <td>1.000000</td>\n",
              "      <td>1.000000</td>\n",
              "      <td>1.000000</td>\n",
              "      <td>21.000000</td>\n",
              "      <td>1.000000</td>\n",
              "    </tr>\n",
              "  </tbody>\n",
              "</table>\n",
              "<p>8 rows × 40 columns</p>\n",
              "</div>"
            ],
            "text/plain": [
              "           duration     src_bytes     dst_bytes          land  wrong_fragment  \\\n",
              "count  17251.000000  1.725100e+04  1.725100e+04  17251.000000    17251.000000   \n",
              "mean     300.978958  3.107782e+04  3.531403e+03      0.000116        0.025274   \n",
              "std     2646.007952  2.910731e+06  9.012346e+04      0.010767        0.268866   \n",
              "min        0.000000  0.000000e+00  0.000000e+00      0.000000        0.000000   \n",
              "25%        0.000000  0.000000e+00  0.000000e+00      0.000000        0.000000   \n",
              "50%        0.000000  4.400000e+01  0.000000e+00      0.000000        0.000000   \n",
              "75%        0.000000  2.770000e+02  4.920000e+02      0.000000        0.000000   \n",
              "max    42862.000000  3.817091e+08  5.151385e+06      1.000000        3.000000   \n",
              "\n",
              "        urgent           hot  num_failed_logins     logged_in  \\\n",
              "count  17251.0  17251.000000       17251.000000  17251.000000   \n",
              "mean       0.0      0.184627           0.001101      0.388151   \n",
              "std        0.0      2.081791           0.043724      0.487343   \n",
              "min        0.0      0.000000           0.000000      0.000000   \n",
              "25%        0.0      0.000000           0.000000      0.000000   \n",
              "50%        0.0      0.000000           0.000000      0.000000   \n",
              "75%        0.0      0.000000           0.000000      1.000000   \n",
              "max        0.0     77.000000           4.000000      1.000000   \n",
              "\n",
              "       num_compromised  ...  dst_host_same_srv_rate  dst_host_diff_srv_rate  \\\n",
              "count     17251.000000  ...            17251.000000            17251.000000   \n",
              "mean          0.292041  ...                0.513184                0.083868   \n",
              "std          12.386128  ...                0.449423                0.189233   \n",
              "min           0.000000  ...                0.000000                0.000000   \n",
              "25%           0.000000  ...                0.050000                0.000000   \n",
              "50%           0.000000  ...                0.470000                0.030000   \n",
              "75%           0.000000  ...                1.000000                0.070000   \n",
              "max         884.000000  ...                1.000000                1.000000   \n",
              "\n",
              "       dst_host_same_src_port_rate  dst_host_srv_diff_host_rate  \\\n",
              "count                 17251.000000                 17251.000000   \n",
              "mean                      0.147851                     0.031412   \n",
              "std                       0.309810                     0.109439   \n",
              "min                       0.000000                     0.000000   \n",
              "25%                       0.000000                     0.000000   \n",
              "50%                       0.000000                     0.000000   \n",
              "75%                       0.060000                     0.010000   \n",
              "max                       1.000000                     1.000000   \n",
              "\n",
              "       dst_host_serror_rate  dst_host_srv_serror_rate  dst_host_rerror_rate  \\\n",
              "count          17251.000000              17251.000000          17251.000000   \n",
              "mean               0.294951                  0.289118              0.116886   \n",
              "std                0.449514                  0.450570              0.304704   \n",
              "min                0.000000                  0.000000              0.000000   \n",
              "25%                0.000000                  0.000000              0.000000   \n",
              "50%                0.000000                  0.000000              0.000000   \n",
              "75%                1.000000                  1.000000              0.000000   \n",
              "max                1.000000                  1.000000              1.000000   \n",
              "\n",
              "       dst_host_srv_rerror_rate         level         Class  \n",
              "count              17251.000000  17251.000000  17251.000000  \n",
              "mean                   0.118235     19.474291      0.478291  \n",
              "std                    0.316774      2.327471      0.499543  \n",
              "min                    0.000000      0.000000      0.000000  \n",
              "25%                    0.000000     18.000000      0.000000  \n",
              "50%                    0.000000     20.000000      0.000000  \n",
              "75%                    0.000000     21.000000      1.000000  \n",
              "max                    1.000000     21.000000      1.000000  \n",
              "\n",
              "[8 rows x 40 columns]"
            ]
          },
          "execution_count": 29,
          "metadata": {},
          "output_type": "execute_result"
        }
      ],
      "source": [
        "numirical_train.describe()"
      ]
    },
    {
      "cell_type": "code",
      "execution_count": null,
      "id": "e8f6d5a1",
      "metadata": {
        "id": "e8f6d5a1",
        "outputId": "78e9f212-797d-493b-ab31-208b2e595aa8"
      },
      "outputs": [
        {
          "data": {
            "text/plain": [
              "duration                        539\n",
              "src_bytes                      1338\n",
              "dst_bytes                      3051\n",
              "land                              2\n",
              "wrong_fragment                    3\n",
              "urgent                            1\n",
              "hot                              18\n",
              "num_failed_logins                 4\n",
              "logged_in                         2\n",
              "num_compromised                  22\n",
              "root_shell                        2\n",
              "su_attempted                      3\n",
              "num_root                         22\n",
              "num_file_creations               16\n",
              "num_shells                        2\n",
              "num_access_files                  7\n",
              "num_outbound_cmds                 1\n",
              "is_host_login                     1\n",
              "is_guest_login                    2\n",
              "count                           442\n",
              "srv_count                       382\n",
              "serror_rate                      67\n",
              "srv_serror_rate                  49\n",
              "rerror_rate                      70\n",
              "srv_rerror_rate                  38\n",
              "same_srv_rate                    93\n",
              "diff_srv_rate                    75\n",
              "srv_diff_host_rate               56\n",
              "dst_host_count                  256\n",
              "dst_host_srv_count              256\n",
              "dst_host_same_srv_rate          101\n",
              "dst_host_diff_srv_rate          101\n",
              "dst_host_same_src_port_rate     101\n",
              "dst_host_srv_diff_host_rate      60\n",
              "dst_host_serror_rate             97\n",
              "dst_host_srv_serror_rate         82\n",
              "dst_host_rerror_rate            101\n",
              "dst_host_srv_rerror_rate         95\n",
              "level                            22\n",
              "Class                             2\n",
              "dtype: int64"
            ]
          },
          "execution_count": 30,
          "metadata": {},
          "output_type": "execute_result"
        }
      ],
      "source": [
        "numirical_train.nunique()"
      ]
    },
    {
      "cell_type": "markdown",
      "id": "22a7d685",
      "metadata": {
        "id": "22a7d685"
      },
      "source": [
        "## split training data to training and validation"
      ]
    },
    {
      "cell_type": "code",
      "execution_count": null,
      "id": "02ba5e70",
      "metadata": {
        "id": "02ba5e70"
      },
      "outputs": [],
      "source": [
        "\n",
        "from sklearn.model_selection import train_test_split\n",
        "x_train,x_val,y_train,y_val=train_test_split(pf_train.drop('Class',axis=1),pf_train.Class,random_state=42,test_size=0.2)"
      ]
    },
    {
      "cell_type": "code",
      "execution_count": null,
      "id": "ce243d4e",
      "metadata": {
        "id": "ce243d4e",
        "outputId": "449d4491-5e45-4492-bc68-7eb1c4e6fe41"
      },
      "outputs": [
        {
          "name": "stdout",
          "output_type": "stream",
          "text": [
            "shape of x_train (13800, 116)\n",
            "shape of x_validation (3451, 116)\n"
          ]
        }
      ],
      "source": [
        "print (f'shape of x_train {x_train.shape}')\n",
        "print (f'shape of x_validation {x_val.shape}')"
      ]
    },
    {
      "cell_type": "code",
      "execution_count": null,
      "id": "377d52d9",
      "metadata": {
        "id": "377d52d9",
        "outputId": "2239da1f-3242-4f0d-cff8-ef70f2cea434"
      },
      "outputs": [
        {
          "name": "stdout",
          "output_type": "stream",
          "text": [
            "shape of y_train (13800,)\n",
            "shape of y_validation (3451,)\n"
          ]
        }
      ],
      "source": [
        "print (f'shape of y_train {y_train.shape}')\n",
        "print (f'shape of y_validation {y_val.shape}')"
      ]
    },
    {
      "cell_type": "code",
      "execution_count": null,
      "id": "1ca35ec2",
      "metadata": {
        "id": "1ca35ec2"
      },
      "outputs": [],
      "source": [
        "#reshape target in train and validation data \n",
        "y_train=y_train.values.reshape(-1,1)\n",
        "y_val=y_val.values.reshape(-1,1)"
      ]
    },
    {
      "cell_type": "code",
      "execution_count": null,
      "id": "8506692d",
      "metadata": {
        "id": "8506692d",
        "outputId": "09f44df5-df37-495f-eee7-137dc6c51b31"
      },
      "outputs": [
        {
          "data": {
            "text/html": [
              "<div>\n",
              "<style scoped>\n",
              "    .dataframe tbody tr th:only-of-type {\n",
              "        vertical-align: middle;\n",
              "    }\n",
              "\n",
              "    .dataframe tbody tr th {\n",
              "        vertical-align: top;\n",
              "    }\n",
              "\n",
              "    .dataframe thead th {\n",
              "        text-align: right;\n",
              "    }\n",
              "</style>\n",
              "<table border=\"1\" class=\"dataframe\">\n",
              "  <thead>\n",
              "    <tr style=\"text-align: right;\">\n",
              "      <th></th>\n",
              "      <th>duration</th>\n",
              "      <th>src_bytes</th>\n",
              "      <th>dst_bytes</th>\n",
              "      <th>land</th>\n",
              "      <th>wrong_fragment</th>\n",
              "      <th>urgent</th>\n",
              "      <th>hot</th>\n",
              "      <th>num_failed_logins</th>\n",
              "      <th>logged_in</th>\n",
              "      <th>num_compromised</th>\n",
              "      <th>...</th>\n",
              "      <th>flag_REJ</th>\n",
              "      <th>flag_RSTO</th>\n",
              "      <th>flag_RSTOS0</th>\n",
              "      <th>flag_RSTR</th>\n",
              "      <th>flag_S0</th>\n",
              "      <th>flag_S1</th>\n",
              "      <th>flag_S2</th>\n",
              "      <th>flag_S3</th>\n",
              "      <th>flag_SF</th>\n",
              "      <th>flag_SH</th>\n",
              "    </tr>\n",
              "  </thead>\n",
              "  <tbody>\n",
              "    <tr>\n",
              "      <th>1615</th>\n",
              "      <td>0</td>\n",
              "      <td>0</td>\n",
              "      <td>0</td>\n",
              "      <td>0</td>\n",
              "      <td>0</td>\n",
              "      <td>0</td>\n",
              "      <td>0</td>\n",
              "      <td>0</td>\n",
              "      <td>0</td>\n",
              "      <td>0</td>\n",
              "      <td>...</td>\n",
              "      <td>0</td>\n",
              "      <td>0</td>\n",
              "      <td>0</td>\n",
              "      <td>0</td>\n",
              "      <td>1</td>\n",
              "      <td>0</td>\n",
              "      <td>0</td>\n",
              "      <td>0</td>\n",
              "      <td>0</td>\n",
              "      <td>0</td>\n",
              "    </tr>\n",
              "    <tr>\n",
              "      <th>9457</th>\n",
              "      <td>0</td>\n",
              "      <td>8</td>\n",
              "      <td>0</td>\n",
              "      <td>0</td>\n",
              "      <td>0</td>\n",
              "      <td>0</td>\n",
              "      <td>0</td>\n",
              "      <td>0</td>\n",
              "      <td>0</td>\n",
              "      <td>0</td>\n",
              "      <td>...</td>\n",
              "      <td>0</td>\n",
              "      <td>0</td>\n",
              "      <td>0</td>\n",
              "      <td>0</td>\n",
              "      <td>0</td>\n",
              "      <td>0</td>\n",
              "      <td>0</td>\n",
              "      <td>0</td>\n",
              "      <td>1</td>\n",
              "      <td>0</td>\n",
              "    </tr>\n",
              "    <tr>\n",
              "      <th>4860</th>\n",
              "      <td>0</td>\n",
              "      <td>0</td>\n",
              "      <td>0</td>\n",
              "      <td>0</td>\n",
              "      <td>0</td>\n",
              "      <td>0</td>\n",
              "      <td>0</td>\n",
              "      <td>0</td>\n",
              "      <td>0</td>\n",
              "      <td>0</td>\n",
              "      <td>...</td>\n",
              "      <td>0</td>\n",
              "      <td>0</td>\n",
              "      <td>0</td>\n",
              "      <td>0</td>\n",
              "      <td>1</td>\n",
              "      <td>0</td>\n",
              "      <td>0</td>\n",
              "      <td>0</td>\n",
              "      <td>0</td>\n",
              "      <td>0</td>\n",
              "    </tr>\n",
              "    <tr>\n",
              "      <th>8337</th>\n",
              "      <td>0</td>\n",
              "      <td>45</td>\n",
              "      <td>83</td>\n",
              "      <td>0</td>\n",
              "      <td>0</td>\n",
              "      <td>0</td>\n",
              "      <td>0</td>\n",
              "      <td>0</td>\n",
              "      <td>0</td>\n",
              "      <td>0</td>\n",
              "      <td>...</td>\n",
              "      <td>0</td>\n",
              "      <td>0</td>\n",
              "      <td>0</td>\n",
              "      <td>0</td>\n",
              "      <td>0</td>\n",
              "      <td>0</td>\n",
              "      <td>0</td>\n",
              "      <td>0</td>\n",
              "      <td>1</td>\n",
              "      <td>0</td>\n",
              "    </tr>\n",
              "    <tr>\n",
              "      <th>8499</th>\n",
              "      <td>0</td>\n",
              "      <td>288</td>\n",
              "      <td>1745</td>\n",
              "      <td>0</td>\n",
              "      <td>0</td>\n",
              "      <td>0</td>\n",
              "      <td>0</td>\n",
              "      <td>0</td>\n",
              "      <td>1</td>\n",
              "      <td>0</td>\n",
              "      <td>...</td>\n",
              "      <td>0</td>\n",
              "      <td>0</td>\n",
              "      <td>0</td>\n",
              "      <td>0</td>\n",
              "      <td>0</td>\n",
              "      <td>0</td>\n",
              "      <td>0</td>\n",
              "      <td>0</td>\n",
              "      <td>1</td>\n",
              "      <td>0</td>\n",
              "    </tr>\n",
              "  </tbody>\n",
              "</table>\n",
              "<p>5 rows × 116 columns</p>\n",
              "</div>"
            ],
            "text/plain": [
              "      duration  src_bytes  dst_bytes  land  wrong_fragment  urgent  hot  \\\n",
              "1615         0          0          0     0               0       0    0   \n",
              "9457         0          8          0     0               0       0    0   \n",
              "4860         0          0          0     0               0       0    0   \n",
              "8337         0         45         83     0               0       0    0   \n",
              "8499         0        288       1745     0               0       0    0   \n",
              "\n",
              "      num_failed_logins  logged_in  num_compromised  ...  flag_REJ  flag_RSTO  \\\n",
              "1615                  0          0                0  ...         0          0   \n",
              "9457                  0          0                0  ...         0          0   \n",
              "4860                  0          0                0  ...         0          0   \n",
              "8337                  0          0                0  ...         0          0   \n",
              "8499                  0          1                0  ...         0          0   \n",
              "\n",
              "      flag_RSTOS0  flag_RSTR  flag_S0  flag_S1  flag_S2  flag_S3  flag_SF  \\\n",
              "1615            0          0        1        0        0        0        0   \n",
              "9457            0          0        0        0        0        0        1   \n",
              "4860            0          0        1        0        0        0        0   \n",
              "8337            0          0        0        0        0        0        1   \n",
              "8499            0          0        0        0        0        0        1   \n",
              "\n",
              "      flag_SH  \n",
              "1615        0  \n",
              "9457        0  \n",
              "4860        0  \n",
              "8337        0  \n",
              "8499        0  \n",
              "\n",
              "[5 rows x 116 columns]"
            ]
          },
          "execution_count": 35,
          "metadata": {},
          "output_type": "execute_result"
        }
      ],
      "source": [
        "x_train.head()"
      ]
    },
    {
      "cell_type": "code",
      "execution_count": null,
      "id": "590ddc42",
      "metadata": {
        "id": "590ddc42",
        "outputId": "d5e2f4c6-d72e-4cc9-a21b-6ee3c1070450"
      },
      "outputs": [
        {
          "name": "stdout",
          "output_type": "stream",
          "text": [
            "numerical feature is ['duration', 'src_bytes', 'dst_bytes', 'land', 'wrong_fragment', 'urgent', 'hot', 'num_failed_logins', 'logged_in', 'num_compromised', 'root_shell', 'su_attempted', 'num_root', 'num_file_creations', 'num_shells', 'num_access_files', 'num_outbound_cmds', 'is_host_login', 'is_guest_login', 'count', 'srv_count', 'serror_rate', 'srv_serror_rate', 'rerror_rate', 'srv_rerror_rate', 'same_srv_rate', 'diff_srv_rate', 'srv_diff_host_rate', 'dst_host_count', 'dst_host_srv_count', 'dst_host_same_srv_rate', 'dst_host_diff_srv_rate', 'dst_host_same_src_port_rate', 'dst_host_srv_diff_host_rate', 'dst_host_serror_rate', 'dst_host_srv_serror_rate', 'dst_host_rerror_rate', 'dst_host_srv_rerror_rate', 'level'] and there number is 39\n"
          ]
        }
      ],
      "source": [
        "x_num=list(num_culoms)\n",
        "x_num=x_num[:-1]\n",
        "print(f'numerical feature is {x_num} and there number is {len(x_num)}')\n",
        "x_numerical=x_train[x_num]\n"
      ]
    },
    {
      "cell_type": "code",
      "execution_count": null,
      "id": "75619b39",
      "metadata": {
        "id": "75619b39",
        "outputId": "20d3ff0b-885d-4d28-ec78-67fe4a4cbea0"
      },
      "outputs": [
        {
          "data": {
            "text/html": [
              "<div>\n",
              "<style scoped>\n",
              "    .dataframe tbody tr th:only-of-type {\n",
              "        vertical-align: middle;\n",
              "    }\n",
              "\n",
              "    .dataframe tbody tr th {\n",
              "        vertical-align: top;\n",
              "    }\n",
              "\n",
              "    .dataframe thead th {\n",
              "        text-align: right;\n",
              "    }\n",
              "</style>\n",
              "<table border=\"1\" class=\"dataframe\">\n",
              "  <thead>\n",
              "    <tr style=\"text-align: right;\">\n",
              "      <th></th>\n",
              "      <th>duration</th>\n",
              "      <th>src_bytes</th>\n",
              "      <th>dst_bytes</th>\n",
              "      <th>land</th>\n",
              "      <th>wrong_fragment</th>\n",
              "      <th>urgent</th>\n",
              "      <th>hot</th>\n",
              "      <th>num_failed_logins</th>\n",
              "      <th>logged_in</th>\n",
              "      <th>num_compromised</th>\n",
              "      <th>...</th>\n",
              "      <th>dst_host_srv_count</th>\n",
              "      <th>dst_host_same_srv_rate</th>\n",
              "      <th>dst_host_diff_srv_rate</th>\n",
              "      <th>dst_host_same_src_port_rate</th>\n",
              "      <th>dst_host_srv_diff_host_rate</th>\n",
              "      <th>dst_host_serror_rate</th>\n",
              "      <th>dst_host_srv_serror_rate</th>\n",
              "      <th>dst_host_rerror_rate</th>\n",
              "      <th>dst_host_srv_rerror_rate</th>\n",
              "      <th>level</th>\n",
              "    </tr>\n",
              "  </thead>\n",
              "  <tbody>\n",
              "    <tr>\n",
              "      <th>count</th>\n",
              "      <td>13800.000000</td>\n",
              "      <td>1.380000e+04</td>\n",
              "      <td>1.380000e+04</td>\n",
              "      <td>13800.000000</td>\n",
              "      <td>13800.000000</td>\n",
              "      <td>13800.0</td>\n",
              "      <td>13800.000000</td>\n",
              "      <td>13800.000000</td>\n",
              "      <td>13800.000000</td>\n",
              "      <td>13800.000000</td>\n",
              "      <td>...</td>\n",
              "      <td>13800.000000</td>\n",
              "      <td>13800.000000</td>\n",
              "      <td>13800.000000</td>\n",
              "      <td>13800.000000</td>\n",
              "      <td>13800.000000</td>\n",
              "      <td>13800.000000</td>\n",
              "      <td>13800.000000</td>\n",
              "      <td>13800.000000</td>\n",
              "      <td>13800.000000</td>\n",
              "      <td>13800.000000</td>\n",
              "    </tr>\n",
              "    <tr>\n",
              "      <th>mean</th>\n",
              "      <td>294.023043</td>\n",
              "      <td>3.670086e+04</td>\n",
              "      <td>3.125844e+03</td>\n",
              "      <td>0.000072</td>\n",
              "      <td>0.028043</td>\n",
              "      <td>0.0</td>\n",
              "      <td>0.173768</td>\n",
              "      <td>0.001087</td>\n",
              "      <td>0.389565</td>\n",
              "      <td>0.307174</td>\n",
              "      <td>...</td>\n",
              "      <td>113.352319</td>\n",
              "      <td>0.512140</td>\n",
              "      <td>0.084361</td>\n",
              "      <td>0.146882</td>\n",
              "      <td>0.030616</td>\n",
              "      <td>0.293767</td>\n",
              "      <td>0.287397</td>\n",
              "      <td>0.117846</td>\n",
              "      <td>0.118966</td>\n",
              "      <td>19.483478</td>\n",
              "    </tr>\n",
              "    <tr>\n",
              "      <th>std</th>\n",
              "      <td>2596.772244</td>\n",
              "      <td>3.253289e+06</td>\n",
              "      <td>7.881797e+04</td>\n",
              "      <td>0.008513</td>\n",
              "      <td>0.283384</td>\n",
              "      <td>0.0</td>\n",
              "      <td>1.949974</td>\n",
              "      <td>0.045830</td>\n",
              "      <td>0.487669</td>\n",
              "      <td>12.942169</td>\n",
              "      <td>...</td>\n",
              "      <td>110.415142</td>\n",
              "      <td>0.449097</td>\n",
              "      <td>0.189515</td>\n",
              "      <td>0.307960</td>\n",
              "      <td>0.106879</td>\n",
              "      <td>0.449008</td>\n",
              "      <td>0.449743</td>\n",
              "      <td>0.305660</td>\n",
              "      <td>0.317605</td>\n",
              "      <td>2.309206</td>\n",
              "    </tr>\n",
              "    <tr>\n",
              "      <th>min</th>\n",
              "      <td>0.000000</td>\n",
              "      <td>0.000000e+00</td>\n",
              "      <td>0.000000e+00</td>\n",
              "      <td>0.000000</td>\n",
              "      <td>0.000000</td>\n",
              "      <td>0.0</td>\n",
              "      <td>0.000000</td>\n",
              "      <td>0.000000</td>\n",
              "      <td>0.000000</td>\n",
              "      <td>0.000000</td>\n",
              "      <td>...</td>\n",
              "      <td>0.000000</td>\n",
              "      <td>0.000000</td>\n",
              "      <td>0.000000</td>\n",
              "      <td>0.000000</td>\n",
              "      <td>0.000000</td>\n",
              "      <td>0.000000</td>\n",
              "      <td>0.000000</td>\n",
              "      <td>0.000000</td>\n",
              "      <td>0.000000</td>\n",
              "      <td>0.000000</td>\n",
              "    </tr>\n",
              "    <tr>\n",
              "      <th>25%</th>\n",
              "      <td>0.000000</td>\n",
              "      <td>0.000000e+00</td>\n",
              "      <td>0.000000e+00</td>\n",
              "      <td>0.000000</td>\n",
              "      <td>0.000000</td>\n",
              "      <td>0.0</td>\n",
              "      <td>0.000000</td>\n",
              "      <td>0.000000</td>\n",
              "      <td>0.000000</td>\n",
              "      <td>0.000000</td>\n",
              "      <td>...</td>\n",
              "      <td>10.000000</td>\n",
              "      <td>0.050000</td>\n",
              "      <td>0.000000</td>\n",
              "      <td>0.000000</td>\n",
              "      <td>0.000000</td>\n",
              "      <td>0.000000</td>\n",
              "      <td>0.000000</td>\n",
              "      <td>0.000000</td>\n",
              "      <td>0.000000</td>\n",
              "      <td>18.000000</td>\n",
              "    </tr>\n",
              "    <tr>\n",
              "      <th>50%</th>\n",
              "      <td>0.000000</td>\n",
              "      <td>4.400000e+01</td>\n",
              "      <td>0.000000e+00</td>\n",
              "      <td>0.000000</td>\n",
              "      <td>0.000000</td>\n",
              "      <td>0.0</td>\n",
              "      <td>0.000000</td>\n",
              "      <td>0.000000</td>\n",
              "      <td>0.000000</td>\n",
              "      <td>0.000000</td>\n",
              "      <td>...</td>\n",
              "      <td>58.000000</td>\n",
              "      <td>0.460000</td>\n",
              "      <td>0.030000</td>\n",
              "      <td>0.000000</td>\n",
              "      <td>0.000000</td>\n",
              "      <td>0.000000</td>\n",
              "      <td>0.000000</td>\n",
              "      <td>0.000000</td>\n",
              "      <td>0.000000</td>\n",
              "      <td>20.000000</td>\n",
              "    </tr>\n",
              "    <tr>\n",
              "      <th>75%</th>\n",
              "      <td>0.000000</td>\n",
              "      <td>2.790000e+02</td>\n",
              "      <td>4.950000e+02</td>\n",
              "      <td>0.000000</td>\n",
              "      <td>0.000000</td>\n",
              "      <td>0.0</td>\n",
              "      <td>0.000000</td>\n",
              "      <td>0.000000</td>\n",
              "      <td>1.000000</td>\n",
              "      <td>0.000000</td>\n",
              "      <td>...</td>\n",
              "      <td>255.000000</td>\n",
              "      <td>1.000000</td>\n",
              "      <td>0.070000</td>\n",
              "      <td>0.060000</td>\n",
              "      <td>0.010000</td>\n",
              "      <td>1.000000</td>\n",
              "      <td>1.000000</td>\n",
              "      <td>0.000000</td>\n",
              "      <td>0.000000</td>\n",
              "      <td>21.000000</td>\n",
              "    </tr>\n",
              "    <tr>\n",
              "      <th>max</th>\n",
              "      <td>42862.000000</td>\n",
              "      <td>3.817091e+08</td>\n",
              "      <td>5.151385e+06</td>\n",
              "      <td>1.000000</td>\n",
              "      <td>3.000000</td>\n",
              "      <td>0.0</td>\n",
              "      <td>30.000000</td>\n",
              "      <td>4.000000</td>\n",
              "      <td>1.000000</td>\n",
              "      <td>884.000000</td>\n",
              "      <td>...</td>\n",
              "      <td>255.000000</td>\n",
              "      <td>1.000000</td>\n",
              "      <td>1.000000</td>\n",
              "      <td>1.000000</td>\n",
              "      <td>1.000000</td>\n",
              "      <td>1.000000</td>\n",
              "      <td>1.000000</td>\n",
              "      <td>1.000000</td>\n",
              "      <td>1.000000</td>\n",
              "      <td>21.000000</td>\n",
              "    </tr>\n",
              "  </tbody>\n",
              "</table>\n",
              "<p>8 rows × 39 columns</p>\n",
              "</div>"
            ],
            "text/plain": [
              "           duration     src_bytes     dst_bytes          land  wrong_fragment  \\\n",
              "count  13800.000000  1.380000e+04  1.380000e+04  13800.000000    13800.000000   \n",
              "mean     294.023043  3.670086e+04  3.125844e+03      0.000072        0.028043   \n",
              "std     2596.772244  3.253289e+06  7.881797e+04      0.008513        0.283384   \n",
              "min        0.000000  0.000000e+00  0.000000e+00      0.000000        0.000000   \n",
              "25%        0.000000  0.000000e+00  0.000000e+00      0.000000        0.000000   \n",
              "50%        0.000000  4.400000e+01  0.000000e+00      0.000000        0.000000   \n",
              "75%        0.000000  2.790000e+02  4.950000e+02      0.000000        0.000000   \n",
              "max    42862.000000  3.817091e+08  5.151385e+06      1.000000        3.000000   \n",
              "\n",
              "        urgent           hot  num_failed_logins     logged_in  \\\n",
              "count  13800.0  13800.000000       13800.000000  13800.000000   \n",
              "mean       0.0      0.173768           0.001087      0.389565   \n",
              "std        0.0      1.949974           0.045830      0.487669   \n",
              "min        0.0      0.000000           0.000000      0.000000   \n",
              "25%        0.0      0.000000           0.000000      0.000000   \n",
              "50%        0.0      0.000000           0.000000      0.000000   \n",
              "75%        0.0      0.000000           0.000000      1.000000   \n",
              "max        0.0     30.000000           4.000000      1.000000   \n",
              "\n",
              "       num_compromised  ...  dst_host_srv_count  dst_host_same_srv_rate  \\\n",
              "count     13800.000000  ...        13800.000000            13800.000000   \n",
              "mean          0.307174  ...          113.352319                0.512140   \n",
              "std          12.942169  ...          110.415142                0.449097   \n",
              "min           0.000000  ...            0.000000                0.000000   \n",
              "25%           0.000000  ...           10.000000                0.050000   \n",
              "50%           0.000000  ...           58.000000                0.460000   \n",
              "75%           0.000000  ...          255.000000                1.000000   \n",
              "max         884.000000  ...          255.000000                1.000000   \n",
              "\n",
              "       dst_host_diff_srv_rate  dst_host_same_src_port_rate  \\\n",
              "count            13800.000000                 13800.000000   \n",
              "mean                 0.084361                     0.146882   \n",
              "std                  0.189515                     0.307960   \n",
              "min                  0.000000                     0.000000   \n",
              "25%                  0.000000                     0.000000   \n",
              "50%                  0.030000                     0.000000   \n",
              "75%                  0.070000                     0.060000   \n",
              "max                  1.000000                     1.000000   \n",
              "\n",
              "       dst_host_srv_diff_host_rate  dst_host_serror_rate  \\\n",
              "count                 13800.000000          13800.000000   \n",
              "mean                      0.030616              0.293767   \n",
              "std                       0.106879              0.449008   \n",
              "min                       0.000000              0.000000   \n",
              "25%                       0.000000              0.000000   \n",
              "50%                       0.000000              0.000000   \n",
              "75%                       0.010000              1.000000   \n",
              "max                       1.000000              1.000000   \n",
              "\n",
              "       dst_host_srv_serror_rate  dst_host_rerror_rate  \\\n",
              "count              13800.000000          13800.000000   \n",
              "mean                   0.287397              0.117846   \n",
              "std                    0.449743              0.305660   \n",
              "min                    0.000000              0.000000   \n",
              "25%                    0.000000              0.000000   \n",
              "50%                    0.000000              0.000000   \n",
              "75%                    1.000000              0.000000   \n",
              "max                    1.000000              1.000000   \n",
              "\n",
              "       dst_host_srv_rerror_rate         level  \n",
              "count              13800.000000  13800.000000  \n",
              "mean                   0.118966     19.483478  \n",
              "std                    0.317605      2.309206  \n",
              "min                    0.000000      0.000000  \n",
              "25%                    0.000000     18.000000  \n",
              "50%                    0.000000     20.000000  \n",
              "75%                    0.000000     21.000000  \n",
              "max                    1.000000     21.000000  \n",
              "\n",
              "[8 rows x 39 columns]"
            ]
          },
          "execution_count": 37,
          "metadata": {},
          "output_type": "execute_result"
        }
      ],
      "source": [
        "x_numerical.describe()"
      ]
    },
    {
      "cell_type": "markdown",
      "id": "e6ad7680",
      "metadata": {
        "id": "e6ad7680"
      },
      "source": [
        "## scaling"
      ]
    },
    {
      "cell_type": "markdown",
      "id": "e15b26f0",
      "metadata": {
        "id": "e15b26f0"
      },
      "source": [
        "#### The next transformation I want to do is to standardize the features. This isn't required for Random Forests, but it is helpful for more complex algorithms like Support Vector Machines (plus it doesn't hurt Random Forests, so I may as well do it now)."
      ]
    },
    {
      "cell_type": "code",
      "execution_count": null,
      "id": "29be5750",
      "metadata": {
        "id": "29be5750",
        "outputId": "75762218-8f02-4dd3-b3de-f4a86f3dabac"
      },
      "outputs": [
        {
          "name": "stderr",
          "output_type": "stream",
          "text": [
            "C:\\Users\\User\\anaconda3\\lib\\site-packages\\sklearn\\base.py:493: FutureWarning: The feature names should match those that were passed during fit. Starting version 1.2, an error will be raised.\n",
            "Feature names must be in the same order as they were in fit.\n",
            "\n",
            "  warnings.warn(message, FutureWarning)\n"
          ]
        },
        {
          "data": {
            "text/html": [
              "<div>\n",
              "<style scoped>\n",
              "    .dataframe tbody tr th:only-of-type {\n",
              "        vertical-align: middle;\n",
              "    }\n",
              "\n",
              "    .dataframe tbody tr th {\n",
              "        vertical-align: top;\n",
              "    }\n",
              "\n",
              "    .dataframe thead th {\n",
              "        text-align: right;\n",
              "    }\n",
              "</style>\n",
              "<table border=\"1\" class=\"dataframe\">\n",
              "  <thead>\n",
              "    <tr style=\"text-align: right;\">\n",
              "      <th></th>\n",
              "      <th>duration</th>\n",
              "      <th>src_bytes</th>\n",
              "      <th>dst_bytes</th>\n",
              "      <th>land</th>\n",
              "      <th>wrong_fragment</th>\n",
              "      <th>urgent</th>\n",
              "      <th>hot</th>\n",
              "      <th>num_failed_logins</th>\n",
              "      <th>logged_in</th>\n",
              "      <th>num_compromised</th>\n",
              "      <th>...</th>\n",
              "      <th>flag_REJ</th>\n",
              "      <th>flag_RSTO</th>\n",
              "      <th>flag_RSTOS0</th>\n",
              "      <th>flag_RSTR</th>\n",
              "      <th>flag_S0</th>\n",
              "      <th>flag_S1</th>\n",
              "      <th>flag_S2</th>\n",
              "      <th>flag_S3</th>\n",
              "      <th>flag_SF</th>\n",
              "      <th>flag_SH</th>\n",
              "    </tr>\n",
              "  </thead>\n",
              "  <tbody>\n",
              "    <tr>\n",
              "      <th>0</th>\n",
              "      <td>-0.11323</td>\n",
              "      <td>-0.011282</td>\n",
              "      <td>-0.039660</td>\n",
              "      <td>-0.008513</td>\n",
              "      <td>-0.098963</td>\n",
              "      <td>0.0</td>\n",
              "      <td>-0.089116</td>\n",
              "      <td>-0.023718</td>\n",
              "      <td>-0.798860</td>\n",
              "      <td>-0.023735</td>\n",
              "      <td>...</td>\n",
              "      <td>-0.310153</td>\n",
              "      <td>-0.112344</td>\n",
              "      <td>-0.03407</td>\n",
              "      <td>-0.141531</td>\n",
              "      <td>1.581941</td>\n",
              "      <td>-0.052547</td>\n",
              "      <td>-0.030707</td>\n",
              "      <td>-0.017028</td>\n",
              "      <td>-1.192970</td>\n",
              "      <td>-0.04509</td>\n",
              "    </tr>\n",
              "    <tr>\n",
              "      <th>1</th>\n",
              "      <td>-0.11323</td>\n",
              "      <td>-0.011279</td>\n",
              "      <td>-0.039660</td>\n",
              "      <td>-0.008513</td>\n",
              "      <td>-0.098963</td>\n",
              "      <td>0.0</td>\n",
              "      <td>-0.089116</td>\n",
              "      <td>-0.023718</td>\n",
              "      <td>-0.798860</td>\n",
              "      <td>-0.023735</td>\n",
              "      <td>...</td>\n",
              "      <td>-0.310153</td>\n",
              "      <td>-0.112344</td>\n",
              "      <td>-0.03407</td>\n",
              "      <td>-0.141531</td>\n",
              "      <td>-0.632135</td>\n",
              "      <td>-0.052547</td>\n",
              "      <td>-0.030707</td>\n",
              "      <td>-0.017028</td>\n",
              "      <td>0.838244</td>\n",
              "      <td>-0.04509</td>\n",
              "    </tr>\n",
              "    <tr>\n",
              "      <th>2</th>\n",
              "      <td>-0.11323</td>\n",
              "      <td>-0.011282</td>\n",
              "      <td>-0.039660</td>\n",
              "      <td>-0.008513</td>\n",
              "      <td>-0.098963</td>\n",
              "      <td>0.0</td>\n",
              "      <td>-0.089116</td>\n",
              "      <td>-0.023718</td>\n",
              "      <td>-0.798860</td>\n",
              "      <td>-0.023735</td>\n",
              "      <td>...</td>\n",
              "      <td>-0.310153</td>\n",
              "      <td>-0.112344</td>\n",
              "      <td>-0.03407</td>\n",
              "      <td>-0.141531</td>\n",
              "      <td>1.581941</td>\n",
              "      <td>-0.052547</td>\n",
              "      <td>-0.030707</td>\n",
              "      <td>-0.017028</td>\n",
              "      <td>-1.192970</td>\n",
              "      <td>-0.04509</td>\n",
              "    </tr>\n",
              "    <tr>\n",
              "      <th>3</th>\n",
              "      <td>-0.11323</td>\n",
              "      <td>-0.011268</td>\n",
              "      <td>-0.038607</td>\n",
              "      <td>-0.008513</td>\n",
              "      <td>-0.098963</td>\n",
              "      <td>0.0</td>\n",
              "      <td>-0.089116</td>\n",
              "      <td>-0.023718</td>\n",
              "      <td>-0.798860</td>\n",
              "      <td>-0.023735</td>\n",
              "      <td>...</td>\n",
              "      <td>-0.310153</td>\n",
              "      <td>-0.112344</td>\n",
              "      <td>-0.03407</td>\n",
              "      <td>-0.141531</td>\n",
              "      <td>-0.632135</td>\n",
              "      <td>-0.052547</td>\n",
              "      <td>-0.030707</td>\n",
              "      <td>-0.017028</td>\n",
              "      <td>0.838244</td>\n",
              "      <td>-0.04509</td>\n",
              "    </tr>\n",
              "    <tr>\n",
              "      <th>4</th>\n",
              "      <td>-0.11323</td>\n",
              "      <td>-0.011193</td>\n",
              "      <td>-0.017520</td>\n",
              "      <td>-0.008513</td>\n",
              "      <td>-0.098963</td>\n",
              "      <td>0.0</td>\n",
              "      <td>-0.089116</td>\n",
              "      <td>-0.023718</td>\n",
              "      <td>1.251784</td>\n",
              "      <td>-0.023735</td>\n",
              "      <td>...</td>\n",
              "      <td>-0.310153</td>\n",
              "      <td>-0.112344</td>\n",
              "      <td>-0.03407</td>\n",
              "      <td>-0.141531</td>\n",
              "      <td>-0.632135</td>\n",
              "      <td>-0.052547</td>\n",
              "      <td>-0.030707</td>\n",
              "      <td>-0.017028</td>\n",
              "      <td>0.838244</td>\n",
              "      <td>-0.04509</td>\n",
              "    </tr>\n",
              "  </tbody>\n",
              "</table>\n",
              "<p>5 rows × 116 columns</p>\n",
              "</div>"
            ],
            "text/plain": [
              "   duration  src_bytes  dst_bytes      land  wrong_fragment  urgent       hot  \\\n",
              "0  -0.11323  -0.011282  -0.039660 -0.008513       -0.098963     0.0 -0.089116   \n",
              "1  -0.11323  -0.011279  -0.039660 -0.008513       -0.098963     0.0 -0.089116   \n",
              "2  -0.11323  -0.011282  -0.039660 -0.008513       -0.098963     0.0 -0.089116   \n",
              "3  -0.11323  -0.011268  -0.038607 -0.008513       -0.098963     0.0 -0.089116   \n",
              "4  -0.11323  -0.011193  -0.017520 -0.008513       -0.098963     0.0 -0.089116   \n",
              "\n",
              "   num_failed_logins  logged_in  num_compromised  ...  flag_REJ  flag_RSTO  \\\n",
              "0          -0.023718  -0.798860        -0.023735  ... -0.310153  -0.112344   \n",
              "1          -0.023718  -0.798860        -0.023735  ... -0.310153  -0.112344   \n",
              "2          -0.023718  -0.798860        -0.023735  ... -0.310153  -0.112344   \n",
              "3          -0.023718  -0.798860        -0.023735  ... -0.310153  -0.112344   \n",
              "4          -0.023718   1.251784        -0.023735  ... -0.310153  -0.112344   \n",
              "\n",
              "   flag_RSTOS0  flag_RSTR   flag_S0   flag_S1   flag_S2   flag_S3   flag_SF  \\\n",
              "0     -0.03407  -0.141531  1.581941 -0.052547 -0.030707 -0.017028 -1.192970   \n",
              "1     -0.03407  -0.141531 -0.632135 -0.052547 -0.030707 -0.017028  0.838244   \n",
              "2     -0.03407  -0.141531  1.581941 -0.052547 -0.030707 -0.017028 -1.192970   \n",
              "3     -0.03407  -0.141531 -0.632135 -0.052547 -0.030707 -0.017028  0.838244   \n",
              "4     -0.03407  -0.141531 -0.632135 -0.052547 -0.030707 -0.017028  0.838244   \n",
              "\n",
              "   flag_SH  \n",
              "0 -0.04509  \n",
              "1 -0.04509  \n",
              "2 -0.04509  \n",
              "3 -0.04509  \n",
              "4 -0.04509  \n",
              "\n",
              "[5 rows x 116 columns]"
            ]
          },
          "execution_count": 38,
          "metadata": {},
          "output_type": "execute_result"
        }
      ],
      "source": [
        "\n",
        "from sklearn.preprocessing import StandardScaler\n",
        "st=StandardScaler()\n",
        "x_train_scaled=st.fit_transform(x_train)\n",
        "x_train_scaled=pd.DataFrame(x_train_scaled,columns=x_train.columns) #scale training data \n",
        "x_val_scaled=st.transform(x_val) #for validation sample we do transformation only\n",
        "x_val_scaled=pd.DataFrame(x_val_scaled,columns=x_val.columns) \n",
        "pf_test_scaled=st.transform(pf_test)#for test sample we do transformation only\n",
        "pf_test_scaled=pd.DataFrame(pf_test_scaled,columns=pf_test.columns)\n",
        "x_train_scaled.head()\n"
      ]
    },
    {
      "cell_type": "code",
      "execution_count": null,
      "id": "57f6327b",
      "metadata": {
        "id": "57f6327b",
        "outputId": "b15a5446-3484-497d-cc77-b02f81dfa79e"
      },
      "outputs": [
        {
          "data": {
            "text/html": [
              "<div>\n",
              "<style scoped>\n",
              "    .dataframe tbody tr th:only-of-type {\n",
              "        vertical-align: middle;\n",
              "    }\n",
              "\n",
              "    .dataframe tbody tr th {\n",
              "        vertical-align: top;\n",
              "    }\n",
              "\n",
              "    .dataframe thead th {\n",
              "        text-align: right;\n",
              "    }\n",
              "</style>\n",
              "<table border=\"1\" class=\"dataframe\">\n",
              "  <thead>\n",
              "    <tr style=\"text-align: right;\">\n",
              "      <th></th>\n",
              "      <th>duration</th>\n",
              "      <th>src_bytes</th>\n",
              "      <th>dst_bytes</th>\n",
              "      <th>land</th>\n",
              "      <th>wrong_fragment</th>\n",
              "      <th>urgent</th>\n",
              "      <th>hot</th>\n",
              "      <th>num_failed_logins</th>\n",
              "      <th>logged_in</th>\n",
              "      <th>num_compromised</th>\n",
              "      <th>...</th>\n",
              "      <th>flag_REJ</th>\n",
              "      <th>flag_RSTO</th>\n",
              "      <th>flag_RSTOS0</th>\n",
              "      <th>flag_RSTR</th>\n",
              "      <th>flag_S0</th>\n",
              "      <th>flag_S1</th>\n",
              "      <th>flag_S2</th>\n",
              "      <th>flag_S3</th>\n",
              "      <th>flag_SF</th>\n",
              "      <th>flag_SH</th>\n",
              "    </tr>\n",
              "  </thead>\n",
              "  <tbody>\n",
              "    <tr>\n",
              "      <th>count</th>\n",
              "      <td>1.380000e+04</td>\n",
              "      <td>1.380000e+04</td>\n",
              "      <td>1.380000e+04</td>\n",
              "      <td>1.380000e+04</td>\n",
              "      <td>1.380000e+04</td>\n",
              "      <td>13800.0</td>\n",
              "      <td>1.380000e+04</td>\n",
              "      <td>1.380000e+04</td>\n",
              "      <td>1.380000e+04</td>\n",
              "      <td>1.380000e+04</td>\n",
              "      <td>...</td>\n",
              "      <td>1.380000e+04</td>\n",
              "      <td>1.380000e+04</td>\n",
              "      <td>1.380000e+04</td>\n",
              "      <td>1.380000e+04</td>\n",
              "      <td>1.380000e+04</td>\n",
              "      <td>1.380000e+04</td>\n",
              "      <td>1.380000e+04</td>\n",
              "      <td>1.380000e+04</td>\n",
              "      <td>1.380000e+04</td>\n",
              "      <td>1.380000e+04</td>\n",
              "    </tr>\n",
              "    <tr>\n",
              "      <th>mean</th>\n",
              "      <td>-2.870268e-16</td>\n",
              "      <td>-1.191426e-16</td>\n",
              "      <td>9.819842e-17</td>\n",
              "      <td>-7.621068e-16</td>\n",
              "      <td>-1.543508e-15</td>\n",
              "      <td>0.0</td>\n",
              "      <td>-3.513232e-16</td>\n",
              "      <td>9.413223e-16</td>\n",
              "      <td>2.373946e-16</td>\n",
              "      <td>-4.850925e-16</td>\n",
              "      <td>...</td>\n",
              "      <td>-1.500957e-15</td>\n",
              "      <td>6.141866e-16</td>\n",
              "      <td>1.020430e-16</td>\n",
              "      <td>1.064845e-15</td>\n",
              "      <td>6.611298e-16</td>\n",
              "      <td>-5.593684e-16</td>\n",
              "      <td>-8.938693e-16</td>\n",
              "      <td>-1.669868e-15</td>\n",
              "      <td>-4.856984e-16</td>\n",
              "      <td>-5.480318e-17</td>\n",
              "    </tr>\n",
              "    <tr>\n",
              "      <th>std</th>\n",
              "      <td>1.000036e+00</td>\n",
              "      <td>1.000036e+00</td>\n",
              "      <td>1.000036e+00</td>\n",
              "      <td>1.000036e+00</td>\n",
              "      <td>1.000036e+00</td>\n",
              "      <td>0.0</td>\n",
              "      <td>1.000036e+00</td>\n",
              "      <td>1.000036e+00</td>\n",
              "      <td>1.000036e+00</td>\n",
              "      <td>1.000036e+00</td>\n",
              "      <td>...</td>\n",
              "      <td>1.000036e+00</td>\n",
              "      <td>1.000036e+00</td>\n",
              "      <td>1.000036e+00</td>\n",
              "      <td>1.000036e+00</td>\n",
              "      <td>1.000036e+00</td>\n",
              "      <td>1.000036e+00</td>\n",
              "      <td>1.000036e+00</td>\n",
              "      <td>1.000036e+00</td>\n",
              "      <td>1.000036e+00</td>\n",
              "      <td>1.000036e+00</td>\n",
              "    </tr>\n",
              "    <tr>\n",
              "      <th>min</th>\n",
              "      <td>-1.132305e-01</td>\n",
              "      <td>-1.128156e-02</td>\n",
              "      <td>-3.966046e-02</td>\n",
              "      <td>-8.512874e-03</td>\n",
              "      <td>-9.896297e-02</td>\n",
              "      <td>0.0</td>\n",
              "      <td>-8.911627e-02</td>\n",
              "      <td>-2.371782e-02</td>\n",
              "      <td>-7.988596e-01</td>\n",
              "      <td>-2.373521e-02</td>\n",
              "      <td>...</td>\n",
              "      <td>-3.101533e-01</td>\n",
              "      <td>-1.123436e-01</td>\n",
              "      <td>-3.407002e-02</td>\n",
              "      <td>-1.415311e-01</td>\n",
              "      <td>-6.321347e-01</td>\n",
              "      <td>-5.254737e-02</td>\n",
              "      <td>-3.070696e-02</td>\n",
              "      <td>-1.702760e-02</td>\n",
              "      <td>-1.192970e+00</td>\n",
              "      <td>-4.509003e-02</td>\n",
              "    </tr>\n",
              "    <tr>\n",
              "      <th>25%</th>\n",
              "      <td>-1.132305e-01</td>\n",
              "      <td>-1.128156e-02</td>\n",
              "      <td>-3.966046e-02</td>\n",
              "      <td>-8.512874e-03</td>\n",
              "      <td>-9.896297e-02</td>\n",
              "      <td>0.0</td>\n",
              "      <td>-8.911627e-02</td>\n",
              "      <td>-2.371782e-02</td>\n",
              "      <td>-7.988596e-01</td>\n",
              "      <td>-2.373521e-02</td>\n",
              "      <td>...</td>\n",
              "      <td>-3.101533e-01</td>\n",
              "      <td>-1.123436e-01</td>\n",
              "      <td>-3.407002e-02</td>\n",
              "      <td>-1.415311e-01</td>\n",
              "      <td>-6.321347e-01</td>\n",
              "      <td>-5.254737e-02</td>\n",
              "      <td>-3.070696e-02</td>\n",
              "      <td>-1.702760e-02</td>\n",
              "      <td>-1.192970e+00</td>\n",
              "      <td>-4.509003e-02</td>\n",
              "    </tr>\n",
              "    <tr>\n",
              "      <th>50%</th>\n",
              "      <td>-1.132305e-01</td>\n",
              "      <td>-1.126804e-02</td>\n",
              "      <td>-3.966046e-02</td>\n",
              "      <td>-8.512874e-03</td>\n",
              "      <td>-9.896297e-02</td>\n",
              "      <td>0.0</td>\n",
              "      <td>-8.911627e-02</td>\n",
              "      <td>-2.371782e-02</td>\n",
              "      <td>-7.988596e-01</td>\n",
              "      <td>-2.373521e-02</td>\n",
              "      <td>...</td>\n",
              "      <td>-3.101533e-01</td>\n",
              "      <td>-1.123436e-01</td>\n",
              "      <td>-3.407002e-02</td>\n",
              "      <td>-1.415311e-01</td>\n",
              "      <td>-6.321347e-01</td>\n",
              "      <td>-5.254737e-02</td>\n",
              "      <td>-3.070696e-02</td>\n",
              "      <td>-1.702760e-02</td>\n",
              "      <td>8.382438e-01</td>\n",
              "      <td>-4.509003e-02</td>\n",
              "    </tr>\n",
              "    <tr>\n",
              "      <th>75%</th>\n",
              "      <td>-1.132305e-01</td>\n",
              "      <td>-1.119580e-02</td>\n",
              "      <td>-3.337994e-02</td>\n",
              "      <td>-8.512874e-03</td>\n",
              "      <td>-9.896297e-02</td>\n",
              "      <td>0.0</td>\n",
              "      <td>-8.911627e-02</td>\n",
              "      <td>-2.371782e-02</td>\n",
              "      <td>1.251784e+00</td>\n",
              "      <td>-2.373521e-02</td>\n",
              "      <td>...</td>\n",
              "      <td>-3.101533e-01</td>\n",
              "      <td>-1.123436e-01</td>\n",
              "      <td>-3.407002e-02</td>\n",
              "      <td>-1.415311e-01</td>\n",
              "      <td>1.581941e+00</td>\n",
              "      <td>-5.254737e-02</td>\n",
              "      <td>-3.070696e-02</td>\n",
              "      <td>-1.702760e-02</td>\n",
              "      <td>8.382438e-01</td>\n",
              "      <td>-4.509003e-02</td>\n",
              "    </tr>\n",
              "    <tr>\n",
              "      <th>max</th>\n",
              "      <td>1.639324e+01</td>\n",
              "      <td>1.173232e+02</td>\n",
              "      <td>6.532071e+01</td>\n",
              "      <td>1.174691e+02</td>\n",
              "      <td>1.048777e+01</td>\n",
              "      <td>0.0</td>\n",
              "      <td>1.529626e+01</td>\n",
              "      <td>8.725787e+01</td>\n",
              "      <td>1.251784e+00</td>\n",
              "      <td>6.828259e+01</td>\n",
              "      <td>...</td>\n",
              "      <td>3.224212e+00</td>\n",
              "      <td>8.901267e+00</td>\n",
              "      <td>2.935132e+01</td>\n",
              "      <td>7.065586e+00</td>\n",
              "      <td>1.581941e+00</td>\n",
              "      <td>1.903045e+01</td>\n",
              "      <td>3.256591e+01</td>\n",
              "      <td>5.872819e+01</td>\n",
              "      <td>8.382438e-01</td>\n",
              "      <td>2.217785e+01</td>\n",
              "    </tr>\n",
              "  </tbody>\n",
              "</table>\n",
              "<p>8 rows × 116 columns</p>\n",
              "</div>"
            ],
            "text/plain": [
              "           duration     src_bytes     dst_bytes          land  wrong_fragment  \\\n",
              "count  1.380000e+04  1.380000e+04  1.380000e+04  1.380000e+04    1.380000e+04   \n",
              "mean  -2.870268e-16 -1.191426e-16  9.819842e-17 -7.621068e-16   -1.543508e-15   \n",
              "std    1.000036e+00  1.000036e+00  1.000036e+00  1.000036e+00    1.000036e+00   \n",
              "min   -1.132305e-01 -1.128156e-02 -3.966046e-02 -8.512874e-03   -9.896297e-02   \n",
              "25%   -1.132305e-01 -1.128156e-02 -3.966046e-02 -8.512874e-03   -9.896297e-02   \n",
              "50%   -1.132305e-01 -1.126804e-02 -3.966046e-02 -8.512874e-03   -9.896297e-02   \n",
              "75%   -1.132305e-01 -1.119580e-02 -3.337994e-02 -8.512874e-03   -9.896297e-02   \n",
              "max    1.639324e+01  1.173232e+02  6.532071e+01  1.174691e+02    1.048777e+01   \n",
              "\n",
              "        urgent           hot  num_failed_logins     logged_in  \\\n",
              "count  13800.0  1.380000e+04       1.380000e+04  1.380000e+04   \n",
              "mean       0.0 -3.513232e-16       9.413223e-16  2.373946e-16   \n",
              "std        0.0  1.000036e+00       1.000036e+00  1.000036e+00   \n",
              "min        0.0 -8.911627e-02      -2.371782e-02 -7.988596e-01   \n",
              "25%        0.0 -8.911627e-02      -2.371782e-02 -7.988596e-01   \n",
              "50%        0.0 -8.911627e-02      -2.371782e-02 -7.988596e-01   \n",
              "75%        0.0 -8.911627e-02      -2.371782e-02  1.251784e+00   \n",
              "max        0.0  1.529626e+01       8.725787e+01  1.251784e+00   \n",
              "\n",
              "       num_compromised  ...      flag_REJ     flag_RSTO   flag_RSTOS0  \\\n",
              "count     1.380000e+04  ...  1.380000e+04  1.380000e+04  1.380000e+04   \n",
              "mean     -4.850925e-16  ... -1.500957e-15  6.141866e-16  1.020430e-16   \n",
              "std       1.000036e+00  ...  1.000036e+00  1.000036e+00  1.000036e+00   \n",
              "min      -2.373521e-02  ... -3.101533e-01 -1.123436e-01 -3.407002e-02   \n",
              "25%      -2.373521e-02  ... -3.101533e-01 -1.123436e-01 -3.407002e-02   \n",
              "50%      -2.373521e-02  ... -3.101533e-01 -1.123436e-01 -3.407002e-02   \n",
              "75%      -2.373521e-02  ... -3.101533e-01 -1.123436e-01 -3.407002e-02   \n",
              "max       6.828259e+01  ...  3.224212e+00  8.901267e+00  2.935132e+01   \n",
              "\n",
              "          flag_RSTR       flag_S0       flag_S1       flag_S2       flag_S3  \\\n",
              "count  1.380000e+04  1.380000e+04  1.380000e+04  1.380000e+04  1.380000e+04   \n",
              "mean   1.064845e-15  6.611298e-16 -5.593684e-16 -8.938693e-16 -1.669868e-15   \n",
              "std    1.000036e+00  1.000036e+00  1.000036e+00  1.000036e+00  1.000036e+00   \n",
              "min   -1.415311e-01 -6.321347e-01 -5.254737e-02 -3.070696e-02 -1.702760e-02   \n",
              "25%   -1.415311e-01 -6.321347e-01 -5.254737e-02 -3.070696e-02 -1.702760e-02   \n",
              "50%   -1.415311e-01 -6.321347e-01 -5.254737e-02 -3.070696e-02 -1.702760e-02   \n",
              "75%   -1.415311e-01  1.581941e+00 -5.254737e-02 -3.070696e-02 -1.702760e-02   \n",
              "max    7.065586e+00  1.581941e+00  1.903045e+01  3.256591e+01  5.872819e+01   \n",
              "\n",
              "            flag_SF       flag_SH  \n",
              "count  1.380000e+04  1.380000e+04  \n",
              "mean  -4.856984e-16 -5.480318e-17  \n",
              "std    1.000036e+00  1.000036e+00  \n",
              "min   -1.192970e+00 -4.509003e-02  \n",
              "25%   -1.192970e+00 -4.509003e-02  \n",
              "50%    8.382438e-01 -4.509003e-02  \n",
              "75%    8.382438e-01 -4.509003e-02  \n",
              "max    8.382438e-01  2.217785e+01  \n",
              "\n",
              "[8 rows x 116 columns]"
            ]
          },
          "execution_count": 39,
          "metadata": {},
          "output_type": "execute_result"
        }
      ],
      "source": [
        "x_train_scaled.describe()"
      ]
    },
    {
      "cell_type": "markdown",
      "id": "999078f0",
      "metadata": {
        "id": "999078f0"
      },
      "source": [
        "The features have now been standardized so that they all have a mean of 0 and a standard deviation of 1.\n"
      ]
    },
    {
      "cell_type": "markdown",
      "id": "3b430f59",
      "metadata": {
        "id": "3b430f59"
      },
      "source": [
        "# PCA"
      ]
    },
    {
      "cell_type": "markdown",
      "id": "b00aa6a9",
      "metadata": {
        "id": "b00aa6a9"
      },
      "source": [
        "Principal Components Analysis takes the features we have and tries to combine them in ways that maximize the amount of variance the components can explain in the data. For datasets like the one I'm working with here, where there are lots of features, PCA can help us avoid the negative effects of having numerous features while still allowing us to account for as much variance as possible. For my analysis below, I aim to find a number of components that will explain at least 80% of the variance in the data."
      ]
    },
    {
      "cell_type": "markdown",
      "id": "ba34410f",
      "metadata": {
        "id": "ba34410f"
      },
      "source": [
        "First, let's see how much variance we can explain with a wide range of components. If any of these look promising, we can drill down further."
      ]
    },
    {
      "cell_type": "code",
      "execution_count": null,
      "id": "ff4ea64f",
      "metadata": {
        "id": "ff4ea64f",
        "outputId": "dde1bce4-6eeb-4af8-f8fb-cd2c478bed37"
      },
      "outputs": [
        {
          "data": {
            "image/png": "[encoded data removed]",
            "text/plain": [
              "<Figure size 720x576 with 1 Axes>"
            ]
          },
          "metadata": {
            "needs_background": "light"
          },
          "output_type": "display_data"
        }
      ],
      "source": [
        "# Try several numbers of components to explain 90% of variance\n",
        "from sklearn.decomposition import PCA\n",
        "sum_v=[]\n",
        "nofcom=np.arange(1,116,5)\n",
        "for i in nofcom:\n",
        "    pca=PCA(n_components=i) \n",
        "    pca.fit_transform(x_train_scaled)\n",
        "    sum_v.append(sum(pca.explained_variance_ratio_))\n",
        "# Visualize results\n",
        "plt.figure(figsize=(10,8))\n",
        "plt.plot(nofcom, sum_v)\n",
        "plt.xlabel('Number of components')\n",
        "plt.ylabel('% of variance explained')\n",
        "plt.title('Variance explained by n components')\n",
        "plt.xticks(nofcom)\n",
        "plt.show();  \n"
      ]
    },
    {
      "cell_type": "markdown",
      "id": "a29424ca",
      "metadata": {
        "id": "a29424ca"
      },
      "source": [
        "76 components seem to capture about 90% of the variance in the data, which aligns with what we expected based on the feature importances plot above.\n",
        "\n",
        "Let's check the specifics"
      ]
    },
    {
      "cell_type": "code",
      "execution_count": null,
      "id": "f9e016ce",
      "metadata": {
        "id": "f9e016ce",
        "outputId": "81a6e097-a53d-4125-d3b1-c3b7dcd91271"
      },
      "outputs": [
        {
          "data": {
            "text/plain": [
              "[(1, 0.08537141690174749),\n",
              " (6, 0.25853404013467507),\n",
              " (11, 0.33018396789355714),\n",
              " (16, 0.3790048845640194),\n",
              " (21, 0.42632258086907),\n",
              " (26, 0.47112332950571395),\n",
              " (31, 0.5168261151658614),\n",
              " (36, 0.561960643531997),\n",
              " (41, 0.6066767806486417),\n",
              " (46, 0.652033052109057),\n",
              " (51, 0.696772593176077),\n",
              " (56, 0.7413135350158397),\n",
              " (61, 0.7861306315692637),\n",
              " (66, 0.830542286474116),\n",
              " (71, 0.8745274387307449),\n",
              " (76, 0.9175595813439436),\n",
              " (81, 0.9505796351381722),\n",
              " (86, 0.9722419526664446),\n",
              " (91, 0.9874282956711883),\n",
              " (96, 0.9950450962583446),\n",
              " (101, 0.9986712009620538),\n",
              " (106, 0.9997972647879393),\n",
              " (111, 0.9999978074154802)]"
            ]
          },
          "metadata": {},
          "output_type": "display_data"
        }
      ],
      "source": [
        "# View the % variance explained for each number of components\n",
        "display(list(zip(nofcom,sum_v)))"
      ]
    },
    {
      "cell_type": "markdown",
      "id": "889e3dd9",
      "metadata": {
        "id": "889e3dd9"
      },
      "source": [
        "From the plot and the list above, it's clear that we could explain over 90% of the variance in the data with 76 components (out of a possible 54). Using fewer features/components will help us avoid overfitting on the training data, but at the expense of a little bit of accuracy. I think it's a worthwhile trade"
      ]
    },
    {
      "cell_type": "markdown",
      "id": "dfb16d41",
      "metadata": {
        "id": "dfb16d41"
      },
      "source": [
        "I know that I want to transform my data so that it is standardized and has 76 components. I will use a pipeline to do this so that I can easily transform my validation and test sets in the same way as my training set without leaking data from one set to another."
      ]
    },
    {
      "cell_type": "code",
      "execution_count": null,
      "id": "b9572d72",
      "metadata": {
        "id": "b9572d72",
        "outputId": "8a562be3-5be2-4fea-ba33-775b7e1bbc01"
      },
      "outputs": [
        {
          "name": "stderr",
          "output_type": "stream",
          "text": [
            "C:\\Users\\User\\anaconda3\\lib\\site-packages\\sklearn\\base.py:493: FutureWarning: The feature names should match those that were passed during fit. Starting version 1.2, an error will be raised.\n",
            "Feature names must be in the same order as they were in fit.\n",
            "\n",
            "  warnings.warn(message, FutureWarning)\n"
          ]
        }
      ],
      "source": [
        "from sklearn.pipeline import Pipeline\n",
        "# Build a pipeline for the preprocessing steps\n",
        "pipe= Pipeline([('scaler', StandardScaler()),\n",
        "                        ('pca', PCA(n_components=76))])\n",
        "x_train_tran=pipe.fit_transform(x_train)\n",
        "x_val_tran=pipe.transform(x_val)\n",
        "x_test_tran=pipe.transform(pf_test)\n"
      ]
    },
    {
      "cell_type": "markdown",
      "id": "43a82b32",
      "metadata": {
        "id": "43a82b32"
      },
      "source": [
        "## Testing various algorithms\n",
        "In the sections that follow I will explore three different algorithms to find one that can classify land tracts by their type of tree cover with the highest accuracy.\n",
        "\n",
        "Random Forest classifiers use a number of Decision Trees to predict labels for observations.\n",
        "\n",
        "XGBoost is an ensemble method that trains a series of weak learners to work in sequence to predict labels. This is typically considered a more flexible and powerful type of algorithm than a Random Forest.\n",
        "\n",
        "Support Vector Machines predict labels by drawing decision boundaries between data points in multi-dimensional space. This is considered a very powerful type of classifier, so I'm looking forward to seeing how it performs."
      ]
    },
    {
      "cell_type": "markdown",
      "id": "cae0b2d6",
      "metadata": {
        "id": "cae0b2d6"
      },
      "source": [
        "Random Forest 1\n",
        "To establish a baseline for all the other models, the first model will be a Random Forest trained on observations that have been class-balanced but not scaled or transformed with PCA."
      ]
    },
    {
      "cell_type": "code",
      "execution_count": null,
      "id": "0b1207e0",
      "metadata": {
        "id": "0b1207e0",
        "outputId": "aa2b7c2b-4813-41de-fd7d-fca5c0f7768a"
      },
      "outputs": [
        {
          "name": "stderr",
          "output_type": "stream",
          "text": [
            "C:\\Users\\User\\AppData\\Local\\Temp\\ipykernel_7476\\2949093215.py:6: DataConversionWarning: A column-vector y was passed when a 1d array was expected. Please change the shape of y to (n_samples,), for example using ravel().\n",
            "  forest1.fit(x_train,y_train)\n"
          ]
        },
        {
          "name": "stdout",
          "output_type": "stream",
          "text": [
            "              precision    recall  f1-score   support\n",
            "\n",
            "           0       1.00      1.00      1.00      7192\n",
            "           1       1.00      1.00      1.00      6608\n",
            "\n",
            "    accuracy                           1.00     13800\n",
            "   macro avg       1.00      1.00      1.00     13800\n",
            "weighted avg       1.00      1.00      1.00     13800\n",
            "\n"
          ]
        }
      ],
      "source": [
        "from sklearn.ensemble import RandomForestClassifier\n",
        "from sklearn.metrics import (accuracy_score, confusion_matrix, \n",
        "                             classification_report, roc_curve, auc)\n",
        "\n",
        "forest1=RandomForestClassifier()\n",
        "forest1.fit(x_train,y_train)\n",
        "train_pred=forest1.predict(x_train)\n",
        "print(classification_report(train_pred,y_train))"
      ]
    },
    {
      "cell_type": "code",
      "execution_count": null,
      "id": "f4d6c0ee",
      "metadata": {
        "id": "f4d6c0ee",
        "outputId": "e203eba5-0c67-41d5-d7d3-2ee17044b7fc"
      },
      "outputs": [
        {
          "name": "stdout",
          "output_type": "stream",
          "text": [
            "              precision    recall  f1-score   support\n",
            "\n",
            "           0       1.00      1.00      1.00      1803\n",
            "           1       1.00      0.99      1.00      1648\n",
            "\n",
            "    accuracy                           1.00      3451\n",
            "   macro avg       1.00      1.00      1.00      3451\n",
            "weighted avg       1.00      1.00      1.00      3451\n",
            "\n"
          ]
        }
      ],
      "source": [
        "val_predictions= forest1.predict(x_val)\n",
        "print(classification_report(val_predictions,y_val))\n"
      ]
    },
    {
      "cell_type": "code",
      "execution_count": null,
      "id": "6126ae10",
      "metadata": {
        "id": "6126ae10",
        "outputId": "d7f3dfa2-007f-4688-d02e-773de04d607e"
      },
      "outputs": [
        {
          "data": {
            "text/plain": [
              "100"
            ]
          },
          "execution_count": 45,
          "metadata": {},
          "output_type": "execute_result"
        }
      ],
      "source": [
        "forest1.n_estimators"
      ]
    },
    {
      "cell_type": "markdown",
      "id": "f8712522",
      "metadata": {
        "id": "f8712522"
      },
      "source": [
        "I'm honestly surprised the model performed this well on the validation data, but it looks like this Random Forest is actually very good at predicting labels for the raw observations."
      ]
    },
    {
      "cell_type": "markdown",
      "id": "70c40cdb",
      "metadata": {
        "id": "70c40cdb"
      },
      "source": [
        "## Tune parameters with GridSearchCV"
      ]
    },
    {
      "cell_type": "code",
      "execution_count": null,
      "id": "0c12da51",
      "metadata": {
        "id": "0c12da51",
        "outputId": "428fa38d-3bcd-48ac-9866-b74f37ad4d45"
      },
      "outputs": [
        {
          "name": "stderr",
          "output_type": "stream",
          "text": [
            "C:\\Users\\User\\anaconda3\\lib\\site-packages\\sklearn\\model_selection\\_search.py:926: DataConversionWarning: A column-vector y was passed when a 1d array was expected. Please change the shape of y to (n_samples,), for example using ravel().\n",
            "  self.best_estimator_.fit(X, y, **fit_params)\n"
          ]
        },
        {
          "data": {
            "text/plain": [
              "GridSearchCV(cv=3, estimator=RandomForestClassifier(), n_jobs=-1,\n",
              "             param_grid={'max_depth': [20, 25], 'max_features': [50, 70, 80],\n",
              "                         'n_estimators': [10, 30, 40, 60, 80, 100]})"
            ]
          },
          "execution_count": 46,
          "metadata": {},
          "output_type": "execute_result"
        }
      ],
      "source": [
        "# Use GridSearchCV to find best parameters for the Random Forest\n",
        "from sklearn.model_selection import GridSearchCV\n",
        "params = {'n_estimators': [10,30,40,60,80, 100],\n",
        "          'max_features': [50, 70, 80],\n",
        "          'max_depth': [20, 25]}\n",
        "\n",
        "grid_forest1 = GridSearchCV(forest1, params, cv=3, n_jobs=-1)\n",
        "\n",
        "grid_forest1.fit(x_train, y_train)"
      ]
    },
    {
      "cell_type": "code",
      "execution_count": null,
      "id": "eecfe88d",
      "metadata": {
        "id": "eecfe88d",
        "outputId": "43fb2cd9-b1d9-4500-a329-36df0f61e306"
      },
      "outputs": [
        {
          "data": {
            "text/plain": [
              "0.9985507246376811"
            ]
          },
          "execution_count": 47,
          "metadata": {},
          "output_type": "execute_result"
        }
      ],
      "source": [
        "grid_forest1.best_score_"
      ]
    },
    {
      "cell_type": "markdown",
      "id": "1925278c",
      "metadata": {
        "id": "1925278c"
      },
      "source": [
        "determine best parameters"
      ]
    },
    {
      "cell_type": "code",
      "execution_count": null,
      "id": "e06bd25b",
      "metadata": {
        "id": "e06bd25b",
        "outputId": "83d523b7-b95f-48fb-cf3b-cfaebd7d16d7"
      },
      "outputs": [
        {
          "data": {
            "text/plain": [
              "{'max_depth': 25, 'max_features': 50, 'n_estimators': 80}"
            ]
          },
          "execution_count": 48,
          "metadata": {},
          "output_type": "execute_result"
        }
      ],
      "source": [
        "grid_forest1.best_params_"
      ]
    },
    {
      "cell_type": "code",
      "execution_count": null,
      "id": "35a14a11",
      "metadata": {
        "id": "35a14a11",
        "outputId": "945ea373-a80d-43a6-a095-10011baa88cf"
      },
      "outputs": [
        {
          "name": "stderr",
          "output_type": "stream",
          "text": [
            "C:\\Users\\User\\AppData\\Local\\Temp\\ipykernel_7476\\2359669445.py:2: DataConversionWarning: A column-vector y was passed when a 1d array was expected. Please change the shape of y to (n_samples,), for example using ravel().\n",
            "  forest1.fit(x_train,y_train)\n"
          ]
        },
        {
          "name": "stdout",
          "output_type": "stream",
          "text": [
            "              precision    recall  f1-score   support\n",
            "\n",
            "           0       1.00      1.00      1.00      7192\n",
            "           1       1.00      1.00      1.00      6608\n",
            "\n",
            "    accuracy                           1.00     13800\n",
            "   macro avg       1.00      1.00      1.00     13800\n",
            "weighted avg       1.00      1.00      1.00     13800\n",
            "\n"
          ]
        }
      ],
      "source": [
        "forest1=RandomForestClassifier(max_depth=20, max_features=50, n_estimators= 60)\n",
        "forest1.fit(x_train,y_train)\n",
        "train_pred=forest1.predict(x_train)\n",
        "print(classification_report(train_pred,y_train))\n"
      ]
    },
    {
      "cell_type": "markdown",
      "id": "3d53199d",
      "metadata": {
        "id": "3d53199d"
      },
      "source": [
        "### make cross validation "
      ]
    },
    {
      "cell_type": "code",
      "execution_count": null,
      "id": "a0722b48",
      "metadata": {
        "id": "a0722b48",
        "outputId": "436f2a10-b7ed-48fd-9da5-da5b2d006870"
      },
      "outputs": [
        {
          "name": "stdout",
          "output_type": "stream",
          "text": [
            "[0.99796806 0.997677   0.99912877 0.99825766 0.99825758]\n"
          ]
        }
      ],
      "source": [
        "from sklearn.model_selection import cross_val_score\n",
        "scores=cross_val_score(forest1,pf_train.drop('Class',axis=1),pf_train.Class,cv=5,scoring='f1_macro')\n",
        "print(scores)\n"
      ]
    },
    {
      "cell_type": "markdown",
      "id": "7b4eac95",
      "metadata": {
        "id": "7b4eac95"
      },
      "source": [
        "as we see no difference in cross validation use the f1_macro same the same so i do not yse it "
      ]
    },
    {
      "cell_type": "code",
      "execution_count": null,
      "id": "6277f754",
      "metadata": {
        "id": "6277f754",
        "outputId": "bf8a04a8-f082-4226-f542-b684c8aae311"
      },
      "outputs": [
        {
          "name": "stdout",
          "output_type": "stream",
          "text": [
            "              precision    recall  f1-score   support\n",
            "\n",
            "           0       0.99      1.00      1.00      1800\n",
            "           1       1.00      0.99      1.00      1651\n",
            "\n",
            "    accuracy                           1.00      3451\n",
            "   macro avg       1.00      1.00      1.00      3451\n",
            "weighted avg       1.00      1.00      1.00      3451\n",
            "\n"
          ]
        }
      ],
      "source": [
        "val_predictions= forest1.predict(x_val)\n",
        "print(classification_report(val_predictions,y_val))\n"
      ]
    },
    {
      "cell_type": "markdown",
      "id": "69ff93f0",
      "metadata": {
        "id": "69ff93f0"
      },
      "source": [
        "f1_score for this model in validation  is 100% for two labels"
      ]
    },
    {
      "cell_type": "markdown",
      "id": "a753cd61",
      "metadata": {
        "id": "a753cd61"
      },
      "source": [
        "# drawing learning curve for random forest"
      ]
    },
    {
      "cell_type": "code",
      "execution_count": null,
      "id": "7a56c716",
      "metadata": {
        "id": "7a56c716"
      },
      "outputs": [],
      "source": [
        "from sklearn.model_selection import learning_curve"
      ]
    },
    {
      "cell_type": "code",
      "execution_count": null,
      "id": "fac064f2",
      "metadata": {
        "id": "fac064f2"
      },
      "outputs": [],
      "source": [
        " train_sizes, train_scores, test_scores = learning_curve(RandomForestClassifier(max_depth=20, max_features=50, n_estimators= 60), x_train, y_train, cv=10, scoring='accuracy', n_jobs=-1, train_sizes=np.linspace(0.01, 1.0, 50))"
      ]
    },
    {
      "cell_type": "code",
      "execution_count": null,
      "id": "511d028e",
      "metadata": {
        "id": "511d028e"
      },
      "outputs": [],
      "source": [
        "#Now we have calculated the mean and standard deviation of the train and test scores.\n",
        "\n",
        "train_mean = np.mean(train_scores, axis=1)\n",
        "train_std = np.std(train_scores, axis=1)\n",
        "\n",
        "test_mean = np.mean(test_scores, axis=1)\n",
        "test_std = np.std(test_scores, axis=1)"
      ]
    },
    {
      "cell_type": "code",
      "execution_count": null,
      "id": "927183c8",
      "metadata": {
        "id": "927183c8",
        "outputId": "1839fa2c-0777-4be5-e9c4-e05f145d6e2d"
      },
      "outputs": [
        {
          "data": {
            "image/png": "[encoded data removed]",
            "text/plain": [
              "<Figure size 720x720 with 1 Axes>"
            ]
          },
          "metadata": {
            "needs_background": "light"
          },
          "output_type": "display_data"
        }
      ],
      "source": [
        "# Finally, its time to plot the learning curve. We have used matplotlib to plot lines and band of the learning curve.\n",
        "\n",
        "plt.subplots(1, figsize=(10,10))\n",
        "plt.plot(train_sizes, train_mean, '--', color=\"#111111\",  label=\"Training score\")\n",
        "plt.plot(train_sizes, test_mean, color=\"#111111\", label=\"Cross-validation score\")\n",
        "\n",
        "plt.fill_between(train_sizes, train_mean - train_std, train_mean + train_std, color=\"#DDDDDD\")\n",
        "plt.fill_between(train_sizes, test_mean - test_std, test_mean + test_std, color=\"#DDDDDD\")\n",
        "\n",
        "plt.title(\"Learning Curve\")\n",
        "plt.xlabel(\"Training Set Size\"), plt.ylabel(\"Accuracy Score\"), plt.legend(loc=\"best\")\n",
        "plt.tight_layout()\n",
        "plt.show()"
      ]
    },
    {
      "cell_type": "markdown",
      "id": "fa4251bc",
      "metadata": {
        "id": "fa4251bc"
      },
      "source": [
        "### plot feature importance "
      ]
    },
    {
      "cell_type": "code",
      "execution_count": null,
      "id": "05fc001f",
      "metadata": {
        "id": "05fc001f",
        "outputId": "85a35126-60dc-442f-d8f9-82b19d5b89c3"
      },
      "outputs": [
        {
          "data": {
            "text/plain": [
              "<AxesSubplot:>"
            ]
          },
          "execution_count": 55,
          "metadata": {},
          "output_type": "execute_result"
        },
        {
          "data": {
            "image/png": "[encoded data removed]",
            "text/plain": [
              "<Figure size 864x720 with 1 Axes>"
            ]
          },
          "metadata": {
            "needs_background": "light"
          },
          "output_type": "display_data"
        }
      ],
      "source": [
        "plt.figure(figsize=(12,10))\n",
        "\n",
        "feat_importances = pd.Series(forest1.feature_importances_, index=x_train.columns)\n",
        "feat_importances.nlargest(40).plot(kind='barh')"
      ]
    },
    {
      "cell_type": "markdown",
      "id": "8be4193b",
      "metadata": {
        "id": "8be4193b"
      },
      "source": [
        "The plot above shows that there are a few features that are a bit more powerful than the rest."
      ]
    },
    {
      "cell_type": "markdown",
      "id": "23d7f737",
      "metadata": {
        "id": "23d7f737"
      },
      "source": [
        "## XGBoost\n",
        "XGBoost is an ensemble method that employs boosting, a technique where a series of weak learners is trained so that each tries to improve upon the performance of the one before it. Ensemble methods are known to be very powerful for classification tasks, so I'm eager to see how this one performs."
      ]
    },
    {
      "cell_type": "code",
      "execution_count": null,
      "id": "add88cd0",
      "metadata": {
        "id": "add88cd0",
        "outputId": "62474709-e65c-432b-b9ad-dc7b6b700d8f"
      },
      "outputs": [
        {
          "name": "stdout",
          "output_type": "stream",
          "text": [
            "Requirement already satisfied: xgboost in c:\\users\\user\\anaconda3\\lib\\site-packages (1.6.2)\n",
            "Requirement already satisfied: scipy in c:\\users\\user\\anaconda3\\lib\\site-packages (from xgboost) (1.7.3)\n",
            "Requirement already satisfied: numpy in c:\\users\\user\\anaconda3\\lib\\site-packages (from xgboost) (1.21.5)\n"
          ]
        }
      ],
      "source": [
        "!pip install xgboost"
      ]
    },
    {
      "cell_type": "markdown",
      "id": "6233b563",
      "metadata": {
        "id": "6233b563"
      },
      "source": [
        "For this first model, I'll be using XGBClassifier() with default parameters and training on data that has been class-balanced, scaled, and transformed with PCA."
      ]
    },
    {
      "cell_type": "code",
      "execution_count": null,
      "id": "923c9b7f",
      "metadata": {
        "id": "923c9b7f",
        "outputId": "9989e0bc-a3c2-4fe7-e719-62675814a537"
      },
      "outputs": [
        {
          "data": {
            "text/plain": [
              "XGBClassifier(base_score=0.5, booster='gbtree', callbacks=None,\n",
              "              colsample_bylevel=1, colsample_bynode=1, colsample_bytree=1,\n",
              "              early_stopping_rounds=None, enable_categorical=False,\n",
              "              eval_metric=None, gamma=0, gpu_id=-1, grow_policy='depthwise',\n",
              "              importance_type=None, interaction_constraints='',\n",
              "              learning_rate=0.300000012, max_bin=256, max_cat_to_onehot=4,\n",
              "              max_delta_step=0, max_depth=6, max_leaves=0, min_child_weight=1,\n",
              "              missing=nan, monotone_constraints='()', n_estimators=100,\n",
              "              n_jobs=0, num_parallel_tree=1, predictor='auto', random_state=0,\n",
              "              reg_alpha=0, reg_lambda=1, ...)"
            ]
          },
          "execution_count": 57,
          "metadata": {},
          "output_type": "execute_result"
        }
      ],
      "source": [
        "import xgboost as xg\n",
        "xg = xg.XGBClassifier()\n",
        "# Fit the classifier to the training data\n",
        "xg.fit(x_train_tran,y_train)\n"
      ]
    },
    {
      "cell_type": "code",
      "execution_count": null,
      "id": "d5d9ed5e",
      "metadata": {
        "id": "d5d9ed5e",
        "outputId": "c5f5f9fd-8dc5-444c-ed2c-d611e847621c"
      },
      "outputs": [
        {
          "name": "stdout",
          "output_type": "stream",
          "text": [
            "              precision    recall  f1-score   support\n",
            "\n",
            "           0       0.99      0.99      0.99      1797\n",
            "           1       0.99      0.99      0.99      1654\n",
            "\n",
            "    accuracy                           0.99      3451\n",
            "   macro avg       0.99      0.99      0.99      3451\n",
            "weighted avg       0.99      0.99      0.99      3451\n",
            "\n"
          ]
        }
      ],
      "source": [
        "# View f1_score  for validation dat\n",
        "\n",
        "z=xg.predict(x_val_tran)\n",
        "print(classification_report(z,y_val))"
      ]
    },
    {
      "cell_type": "markdown",
      "id": "b14fe5a1",
      "metadata": {
        "id": "b14fe5a1"
      },
      "source": [
        "f1_score for xgboost is 99"
      ]
    },
    {
      "cell_type": "markdown",
      "id": "e058b865",
      "metadata": {
        "id": "e058b865"
      },
      "source": [
        "# Support Vector Machine\n",
        "Support Vector Machines perform classification by finding hyperplanes to divide classes of data points in multidimensional space. Let's see how such a classifier works on this dataset."
      ]
    },
    {
      "cell_type": "code",
      "execution_count": null,
      "id": "c9b617db",
      "metadata": {
        "id": "c9b617db",
        "outputId": "1493d715-3bb1-420c-aa95-e68e8028af00"
      },
      "outputs": [
        {
          "name": "stderr",
          "output_type": "stream",
          "text": [
            "C:\\Users\\User\\anaconda3\\lib\\site-packages\\sklearn\\utils\\validation.py:993: DataConversionWarning: A column-vector y was passed when a 1d array was expected. Please change the shape of y to (n_samples, ), for example using ravel().\n",
            "  y = column_or_1d(y, warn=True)\n"
          ]
        },
        {
          "name": "stdout",
          "output_type": "stream",
          "text": [
            "              precision    recall  f1-score   support\n",
            "\n",
            "           0       0.98      0.99      0.99      1791\n",
            "           1       0.99      0.98      0.99      1660\n",
            "\n",
            "    accuracy                           0.99      3451\n",
            "   macro avg       0.99      0.99      0.99      3451\n",
            "weighted avg       0.99      0.99      0.99      3451\n",
            "\n"
          ]
        }
      ],
      "source": [
        "\n",
        "#use scaled and transform with pca \n",
        "from sklearn.svm import SVC\n",
        "svc=SVC(gamma='auto')\n",
        "svc.fit(x_train_tran,y_train)\n",
        "s=svc.predict(x_val_tran)\n",
        "print(classification_report(s,y_val))"
      ]
    },
    {
      "cell_type": "markdown",
      "id": "5c5f7f58",
      "metadata": {
        "id": "5c5f7f58"
      },
      "source": [
        "# tune  parameters with GridSearchCV for svm"
      ]
    },
    {
      "cell_type": "code",
      "execution_count": null,
      "id": "cd45723a",
      "metadata": {
        "id": "cd45723a",
        "outputId": "cee29fa1-1304-443c-d4ce-fc34d5612c21"
      },
      "outputs": [
        {
          "data": {
            "text/plain": [
              "GridSearchCV(cv=3, estimator=SVC(gamma='auto'),\n",
              "             param_grid={'C': [0.1, 1.0, 10.0], 'gamma': [0.1, 1.0, 100.0]},\n",
              "             scoring='accuracy')"
            ]
          },
          "execution_count": 60,
          "metadata": {},
          "output_type": "execute_result"
        }
      ],
      "source": [
        "# Use GridSearchCV to try various hyperparameter values\n",
        "\n",
        "import warnings\n",
        "warnings.filterwarnings('ignore')\n",
        "params = {'gamma': [0.1, 1.0, 100.0],\n",
        "          'C': [0.1, 1.0, 10.0]}\n",
        "\n",
        "grid_svc = GridSearchCV(svc, params, cv=3, scoring='accuracy')\n",
        "grid_svc.fit(x_val_tran, y_val)"
      ]
    },
    {
      "cell_type": "code",
      "execution_count": null,
      "id": "210c4edc",
      "metadata": {
        "id": "210c4edc",
        "outputId": "e42128d3-9ad3-4da4-9d6d-5f98c7e48e33"
      },
      "outputs": [
        {
          "data": {
            "text/plain": [
              "{'C': 10.0, 'gamma': 0.1}"
            ]
          },
          "execution_count": 61,
          "metadata": {},
          "output_type": "execute_result"
        }
      ],
      "source": [
        "grid_svc.best_params_"
      ]
    },
    {
      "cell_type": "code",
      "execution_count": null,
      "id": "2fc37e56",
      "metadata": {
        "id": "2fc37e56",
        "outputId": "8e719171-5655-4137-c21e-eeb09cd07426"
      },
      "outputs": [
        {
          "name": "stdout",
          "output_type": "stream",
          "text": [
            "              precision    recall  f1-score   support\n",
            "\n",
            "           0       0.99      1.00      0.99      1786\n",
            "           1       1.00      0.98      0.99      1665\n",
            "\n",
            "    accuracy                           0.99      3451\n",
            "   macro avg       0.99      0.99      0.99      3451\n",
            "weighted avg       0.99      0.99      0.99      3451\n",
            "\n"
          ]
        }
      ],
      "source": [
        "svc=SVC(gamma=0.1,C=10)\n",
        "svc.fit(x_train_tran,y_train)\n",
        "s=svc.predict(x_val_tran)\n",
        "print(classification_report(s,y_val))"
      ]
    },
    {
      "cell_type": "code",
      "execution_count": null,
      "id": "f83b3be5",
      "metadata": {
        "id": "f83b3be5",
        "outputId": "1aca2e18-705b-4d6c-cff6-d07d047b625b"
      },
      "outputs": [
        {
          "data": {
            "image/png": "[encoded data removed]",
            "text/plain": [
              "<Figure size 864x432 with 1 Axes>"
            ]
          },
          "metadata": {},
          "output_type": "display_data"
        }
      ],
      "source": [
        "# Plot accuracies of optimized models\n",
        "best_scores = {'Random Forest 1': 1,\n",
        "               \n",
        "               'XGBoost':.99,\n",
        "               'Support Vector Machine': .99}\n",
        "\n",
        "sns.set_style('white')\n",
        "plt.figure(figsize=(12,6))\n",
        "plt.bar(best_scores.keys(), best_scores.values(), color='darkgreen')\n",
        "plt.yticks(ticks=np.linspace(0,1.0,11))\n",
        "plt.ylabel('Accuracy')\n",
        "plt.title('Peformance of Optimized Models')\n",
        "sns.despine()\n",
        "plt.savefig('accuracies.png', dpi=300, pad_inches=0.5)\n",
        "plt.show();"
      ]
    },
    {
      "cell_type": "markdown",
      "id": "241d74ef",
      "metadata": {
        "id": "241d74ef"
      },
      "source": [
        "random forest has 100% high f1_score"
      ]
    },
    {
      "cell_type": "code",
      "execution_count": null,
      "id": "80073e86",
      "metadata": {
        "id": "80073e86",
        "outputId": "d570326c-cecd-4ad9-a7bd-3ec5ee04ea12"
      },
      "outputs": [
        {
          "name": "stdout",
          "output_type": "stream",
          "text": [
            "[0 0 0 ... 1 0 1]\n"
          ]
        }
      ],
      "source": [
        "test_predictions= forest1.predict(pf_test) # prediction for test data\n",
        "print(test_predictions)"
      ]
    },
    {
      "cell_type": "markdown",
      "id": "0421a363",
      "metadata": {
        "id": "0421a363"
      },
      "source": [
        "# second section for feature selection with another approach ANOVA"
      ]
    },
    {
      "cell_type": "markdown",
      "id": "d167d0f2",
      "metadata": {
        "id": "d167d0f2"
      },
      "source": [
        "Intution of 1 way Anova which is tested using F Distribution is\n",
        "If there are three attributes a1,a2,a3 and classes C1,C2,C3\n",
        "if the means of the three class is far from each other than that is a good attribute, feature\n",
        "so if class means of a1 are (0.5,3.0,5.6) and a2 is (2,2.1,2.2) then a1 is a better feature\n",
        "This is formally measured by F Score and it is higher from a1 and a2"
      ]
    },
    {
      "cell_type": "code",
      "execution_count": null,
      "id": "c16d8ed5",
      "metadata": {
        "id": "c16d8ed5"
      },
      "outputs": [],
      "source": [
        "from sklearn.feature_selection import SelectKBest, f_classif\n",
        "selector = SelectKBest(f_classif, k=40)\n",
        "x_train_anova=selector.fit_transform(x_train_scaled, y_train)\n",
        "x_val_anova=selector.transform(x_val_scaled)\n",
        "x_test_anova=selector.transform(pf_test_scaled)\n",
        "\n"
      ]
    },
    {
      "cell_type": "code",
      "execution_count": null,
      "id": "3ac5df20",
      "metadata": {
        "id": "3ac5df20",
        "outputId": "4ba54d24-a720-451c-b229-84f979847457"
      },
      "outputs": [
        {
          "name": "stdout",
          "output_type": "stream",
          "text": [
            "              precision    recall  f1-score   support\n",
            "\n",
            "           0       0.99      0.99      0.99      1809\n",
            "           1       0.99      0.99      0.99      1642\n",
            "\n",
            "    accuracy                           0.99      3451\n",
            "   macro avg       0.99      0.99      0.99      3451\n",
            "weighted avg       0.99      0.99      0.99      3451\n",
            "\n"
          ]
        }
      ],
      "source": [
        "from sklearn.tree import DecisionTreeClassifier\n",
        "tree=DecisionTreeClassifier()\n",
        "tree.fit(x_train_anova,y_train)\n",
        "y=tree.predict(x_val_anova)\n",
        "print(classification_report(y,y_val))"
      ]
    },
    {
      "cell_type": "code",
      "execution_count": null,
      "id": "df9769dc",
      "metadata": {
        "scrolled": true,
        "id": "df9769dc",
        "outputId": "8cea5e10-c916-40b6-c973-1c6640dafa6b"
      },
      "outputs": [
        {
          "data": {
            "text/plain": [
              "GridSearchCV(cv=3, estimator=DecisionTreeClassifier(),\n",
              "             param_grid={'criterion': ['gini', 'entropy'],\n",
              "                         'max_depth': [2, 4, 6, 8, 10, 12]},\n",
              "             scoring='accuracy')"
            ]
          },
          "execution_count": 67,
          "metadata": {},
          "output_type": "execute_result"
        }
      ],
      "source": [
        "\n",
        "# Use GridSearchCV to try various hyperparameter values\n",
        "\n",
        "import warnings\n",
        "warnings.filterwarnings('ignore')\n",
        "params = {'criterion' : ['gini', 'entropy'],\n",
        "          'max_depth': [2,4,6,8,10,12]}\n",
        "\n",
        "grid_tree = GridSearchCV(tree, params, cv=3, scoring='accuracy')\n",
        "grid_tree.fit(x_val_tran, y_val)    "
      ]
    },
    {
      "cell_type": "code",
      "execution_count": null,
      "id": "2800f402",
      "metadata": {
        "id": "2800f402",
        "outputId": "04a62bca-3356-4b23-c316-b833bd2751c9"
      },
      "outputs": [
        {
          "data": {
            "text/plain": [
              "{'criterion': 'gini', 'max_depth': 10}"
            ]
          },
          "execution_count": 68,
          "metadata": {},
          "output_type": "execute_result"
        }
      ],
      "source": [
        "grid_tree.best_params_"
      ]
    },
    {
      "cell_type": "code",
      "execution_count": null,
      "id": "65f05dfb",
      "metadata": {
        "id": "65f05dfb",
        "outputId": "c1e7b2eb-1cbc-4a5d-c1a5-15dad3db86ad"
      },
      "outputs": [
        {
          "name": "stdout",
          "output_type": "stream",
          "text": [
            "              precision    recall  f1-score   support\n",
            "\n",
            "           0       0.99      0.99      0.99      1801\n",
            "           1       0.99      0.99      0.99      1650\n",
            "\n",
            "    accuracy                           0.99      3451\n",
            "   macro avg       0.99      0.99      0.99      3451\n",
            "weighted avg       0.99      0.99      0.99      3451\n",
            "\n"
          ]
        }
      ],
      "source": [
        "tree=DecisionTreeClassifier(criterion='gini', max_depth= 8)\n",
        "tree.fit(x_train_anova,y_train)\n",
        "y=tree.predict(x_val_anova)\n",
        "print(classification_report(y,y_val))"
      ]
    },
    {
      "cell_type": "markdown",
      "id": "ed79ddce",
      "metadata": {
        "id": "ed79ddce"
      },
      "source": [
        "so for the decision tree the f1_score is 99%"
      ]
    },
    {
      "cell_type": "markdown",
      "id": "1c85988e",
      "metadata": {
        "id": "1c85988e"
      },
      "source": [
        "# knn"
      ]
    },
    {
      "cell_type": "code",
      "execution_count": null,
      "id": "fc533921",
      "metadata": {
        "id": "fc533921",
        "outputId": "4503329c-c267-4653-d383-7b53f6f8b88a"
      },
      "outputs": [
        {
          "name": "stdout",
          "output_type": "stream",
          "text": [
            "Fitting 10 folds for each of 29 candidates, totalling 290 fits\n"
          ]
        },
        {
          "data": {
            "text/plain": [
              "GridSearchCV(cv=10, estimator=KNeighborsClassifier(),\n",
              "             param_grid={'n_neighbors': [1, 2, 3, 4, 5, 6, 7, 8, 9, 10, 11, 12,\n",
              "                                         13, 14, 15, 16, 17, 18, 19, 20, 21, 22,\n",
              "                                         23, 24, 25, 26, 27, 28, 29]},\n",
              "             scoring='accuracy', verbose=1)"
            ]
          },
          "execution_count": 70,
          "metadata": {},
          "output_type": "execute_result"
        }
      ],
      "source": [
        "from sklearn.neighbors import KNeighborsClassifier\n",
        "knn = KNeighborsClassifier()\n",
        "k_range = list(range(1, 30))\n",
        "param_grid = dict(n_neighbors=k_range)\n",
        "  \n",
        "# defining parameter range\n",
        "grid_knn = GridSearchCV(knn, param_grid, cv=10, scoring='accuracy', return_train_score=False,verbose=1)\n",
        "  \n",
        "# fitting the model for grid search\n",
        "grid_knn.fit(x_train_anova, y_train)\n"
      ]
    },
    {
      "cell_type": "markdown",
      "id": "48cbb34a",
      "metadata": {
        "id": "48cbb34a"
      },
      "source": [
        "print(f'best n_neighbors{ grid_knn.best_params_}')"
      ]
    },
    {
      "cell_type": "code",
      "execution_count": null,
      "id": "8e8015b4",
      "metadata": {
        "id": "8e8015b4",
        "outputId": "8ae9b491-51d6-484a-a27c-754519218614"
      },
      "outputs": [
        {
          "name": "stdout",
          "output_type": "stream",
          "text": [
            "              precision    recall  f1-score   support\n",
            "\n",
            "           0       0.99      0.99      0.99      1801\n",
            "           1       0.99      0.99      0.99      1650\n",
            "\n",
            "    accuracy                           0.99      3451\n",
            "   macro avg       0.99      0.99      0.99      3451\n",
            "weighted avg       0.99      0.99      0.99      3451\n",
            "\n"
          ]
        }
      ],
      "source": [
        "knn = KNeighborsClassifier(n_neighbors=1)\n",
        "knn.fit(x_train_anova, y_train)\n",
        "c=knn.predict(x_val_anova)\n",
        "print(classification_report(y,y_val))\n",
        "yt=knn.predict(x_test_anova)"
      ]
    },
    {
      "cell_type": "markdown",
      "id": "657d6f4b",
      "metadata": {
        "id": "657d6f4b"
      },
      "source": [
        " KNeighborsClassifier has f1_score 99%"
      ]
    },
    {
      "cell_type": "markdown",
      "id": "87163714",
      "metadata": {
        "id": "87163714"
      },
      "source": [
        "## so in the end i will use random forest  with parameters {'max_depth': 20, 'max_features': 50, 'n_estimators': 60}\n",
        "\n"
      ]
    },
    {
      "cell_type": "markdown",
      "id": "efea469c",
      "metadata": {
        "id": "efea469c"
      },
      "source": [
        "so i will use random forest and get prediction for the test set"
      ]
    },
    {
      "cell_type": "code",
      "execution_count": null,
      "id": "529cae4c",
      "metadata": {
        "id": "529cae4c",
        "outputId": "46340a2c-7bc5-4411-bd44-69eeebfb5100"
      },
      "outputs": [
        {
          "name": "stdout",
          "output_type": "stream",
          "text": [
            "[0 0 0 ... 1 0 1]\n"
          ]
        }
      ],
      "source": [
        "test_predictions= forest1.predict(pf_test) # prediction for test data\n",
        "print(test_predictions)"
      ]
    },
    {
      "cell_type": "markdown",
      "id": "2c5109b2",
      "metadata": {
        "id": "2c5109b2"
      },
      "source": [
        "# explore csv file with prediction values"
      ]
    },
    {
      "cell_type": "code",
      "execution_count": null,
      "id": "644f0f02",
      "metadata": {
        "id": "644f0f02"
      },
      "outputs": [],
      "source": [
        "prediction = pd.DataFrame(test_predictions, columns=['predictions']).to_csv('prediction.csv')\n"
      ]
    },
    {
      "cell_type": "code",
      "execution_count": null,
      "id": "3bd51d45",
      "metadata": {
        "id": "3bd51d45"
      },
      "outputs": [],
      "source": []
    }
  ],
  "metadata": {
    "kernelspec": {
      "display_name": "Python 3 (ipykernel)",
      "language": "python",
      "name": "python3"
    },
    "language_info": {
      "codemirror_mode": {
        "name": "ipython",
        "version": 3
      },
      "file_extension": ".py",
      "mimetype": "text/x-python",
      "name": "python",
      "nbconvert_exporter": "python",
      "pygments_lexer": "ipython3",
      "version": "3.9.12"
    },
    "colab": {
      "provenance": [],
      "include_colab_link": true
    }
  },
  "nbformat": 4,
  "nbformat_minor": 5
}